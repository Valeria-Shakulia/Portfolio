{
 "cells": [
  {
   "cell_type": "markdown",
   "metadata": {},
   "source": [
    "# Оценка результатов А/B-тестирования   \n",
    "\n",
    "В вашем распоряжении есть датасет с действиями пользователей, техническое задание и несколько вспомогательных датасетов.  \n",
    "\n",
    "**Цель**  \n",
    "\n",
    "Провести оценку результатов A/B-теста. \n",
    "\n",
    "**Задачи**\n",
    "\n",
    "Оценить корректность проведения теста и проанализировать его результаты:   \n",
    "\n",
    "* проверить, нет ли пересечений с конкурирующим тестом и нет ли пользователей, участвующих в двух группах теста одновременно;\n",
    "* проверить равномерность распределения пользователей по тестовым группам и правильность их формирования.\n",
    "\n",
    "**Описание данных**\n",
    "\n",
    "`/datasets/ab_project_marketing_events.csv` — календарь маркетинговых событий на 2020 год;\n",
    "\n",
    "* `name` — название маркетингового события;\n",
    "* `regions` — регионы, в которых будет проводиться рекламная кампания;\n",
    "* `start_dt` — дата начала кампании;\n",
    "* `finish_dt` — дата завершения кампании.\n",
    "\n",
    "`/datasets/final_ab_new_users.csv` — все пользователи, зарегистрировавшиеся в интернет-магазине в период с 7 по 21 декабря 2020 года;\n",
    "\n",
    "* `user_id` — идентификатор пользователя;\n",
    "* `first_date` — дата регистрации;\n",
    "* `region` — регион пользователя;\n",
    "* `device` — устройство, с которого происходила регистрация.\n",
    "\n",
    "`/datasets/final_ab_events.csv` — все события новых пользователей в период с 7 декабря 2020 по 4 января 2021 года;\n",
    "\n",
    "* `user_id` — идентификатор пользователя;\n",
    "* `event_dt` — дата и время события;\n",
    "* `event_name` — тип события;\n",
    "* `details` — дополнительные данные о событии. Например, для покупок, purchase, в этом поле хранится стоимость покупки в долларах.\n",
    "\n",
    "`/datasets/final_ab_participants.csv` — таблица участников тестов.\n",
    "\n",
    "* `user_id` — идентификатор пользователя;\n",
    "* `ab_test` — название теста;\n",
    "* `group` — группа пользователя.\n",
    "\n",
    "\n",
    "**Оглавление**\n",
    "\n",
    "1. [Изучение общей информации](#start)  \n",
    "    * [Календарь маркетинговых событий на 2020 год](#calendar)\n",
    "    * [Пользователи, зарегистрировавшиеся в интернет-магазине в период с 7 по 21 декабря 2020 года](#user)\n",
    "    * [События новых пользователей в период с 7 декабря 2020 по 4 января 2021 года](#events)\n",
    "    * [Таблица участников тестов](#tests)\n",
    "2. [Предобработка данных](#pre)  \n",
    "3. [Оценка корректности проведения теста](#corr)\n",
    "    * [Соответствие ТЗ по пользователям](#corr_users)\n",
    "    * [Соответствие ТЗ по датам](#corr_date)\n",
    "    * [Соответствие ТЗ по событиям](#corr_events)\n",
    "4. [Исследовательский анализ данных](#research)\n",
    "    * [Анализ событий](#analysis_events)\n",
    "    * [Воронка событий](#funnel)\n",
    "5. [Оценка результатов A/B-тестирования](#stats)\n",
    "6. [Общий вывод и рекомендации](#rec)"
   ]
  },
  {
   "cell_type": "markdown",
   "metadata": {},
   "source": [
    "<a id=\"start\"></a>\n",
    "## Изучение общей информации  \n",
    "\n",
    "Загружаем данные о маркетинговых событиях на 2020 год, о пользователях, зарегистрировавшихся в интернет-магазине в период с 7 по 21 декабря 2020 года, о событиях новых пользователей в период с 7 декабря 2020 по 4 января 2021 года и о участниках тестов из CSV-файлов в переменные.   \n"
   ]
  },
  {
   "cell_type": "code",
   "execution_count": 1,
   "metadata": {},
   "outputs": [],
   "source": [
    "import pandas as pd\n",
    "import datetime as dt\n",
    "from datetime import timedelta\n",
    "import numpy as np\n",
    "import scipy.stats as stats\n",
    "import plotly.express as px\n",
    "from itertools import cycle\n",
    "from plotly import graph_objects as go\n",
    "import math as mth\n",
    "\n",
    "# Скрываем ошибки\n",
    "import warnings\n",
    "warnings.filterwarnings('ignore')\n",
    "\n",
    "pd.set_option('display.max_colwidth', None)"
   ]
  },
  {
   "cell_type": "code",
   "execution_count": 2,
   "metadata": {},
   "outputs": [],
   "source": [
    "# загружаем библиотеку, настроим вывод графиков в формате \"png\" по деффолту для отображения на GitHub \n",
    "import plotly.io as pio \n",
    "pio.renderers.default = \"png\" \n",
    "svg_renderer = pio.renderers[\"png\"] \n",
    "svg_renderer.scale = 1.4"
   ]
  },
  {
   "cell_type": "code",
   "execution_count": 3,
   "metadata": {},
   "outputs": [],
   "source": [
    "path = '/datasets/'\n",
    "calendar, users, events, participants = (pd.read_csv(path + 'ab_project_marketing_events.csv'),\n",
    "                                             pd.read_csv(path + 'final_ab_new_users.csv'),\n",
    "                                             pd.read_csv(path + 'final_ab_events.csv'),\n",
    "                                             pd.read_csv(path + 'final_ab_participants.csv'))"
   ]
  },
  {
   "cell_type": "code",
   "execution_count": 4,
   "metadata": {},
   "outputs": [],
   "source": [
    "# напишем функцию для полного описания данных\n",
    "def total_describe(data):\n",
    "    data_head = data.head(14)\n",
    "    data_info = data.info()\n",
    "    data_isna = pd.DataFrame(data.isna().sum())\n",
    "    data_isna.columns = ['count_miss']\n",
    "    display(data_info)\n",
    "    print('Первые 14 строк таблицы:')\n",
    "    display(data_head)\n",
    "    print('Информация о пропусках в данных:')\n",
    "    display(data_isna)\n",
    "    print('Краткое описание для всех столбцов')\n",
    "    display(data.describe(include='all'));"
   ]
  },
  {
   "cell_type": "markdown",
   "metadata": {},
   "source": [
    "<a id=\"calendar\"></a>\n",
    "\n",
    "### Календарь маркетинговых событий на 2020 год"
   ]
  },
  {
   "cell_type": "code",
   "execution_count": 5,
   "metadata": {},
   "outputs": [
    {
     "name": "stdout",
     "output_type": "stream",
     "text": [
      "<class 'pandas.core.frame.DataFrame'>\n",
      "RangeIndex: 14 entries, 0 to 13\n",
      "Data columns (total 4 columns):\n",
      " #   Column     Non-Null Count  Dtype \n",
      "---  ------     --------------  ----- \n",
      " 0   name       14 non-null     object\n",
      " 1   regions    14 non-null     object\n",
      " 2   start_dt   14 non-null     object\n",
      " 3   finish_dt  14 non-null     object\n",
      "dtypes: object(4)\n",
      "memory usage: 576.0+ bytes\n"
     ]
    },
    {
     "data": {
      "text/plain": [
       "None"
      ]
     },
     "metadata": {},
     "output_type": "display_data"
    },
    {
     "name": "stdout",
     "output_type": "stream",
     "text": [
      "Первые 14 строк таблицы:\n"
     ]
    },
    {
     "data": {
      "text/html": [
       "<div>\n",
       "<style scoped>\n",
       "    .dataframe tbody tr th:only-of-type {\n",
       "        vertical-align: middle;\n",
       "    }\n",
       "\n",
       "    .dataframe tbody tr th {\n",
       "        vertical-align: top;\n",
       "    }\n",
       "\n",
       "    .dataframe thead th {\n",
       "        text-align: right;\n",
       "    }\n",
       "</style>\n",
       "<table border=\"1\" class=\"dataframe\">\n",
       "  <thead>\n",
       "    <tr style=\"text-align: right;\">\n",
       "      <th></th>\n",
       "      <th>name</th>\n",
       "      <th>regions</th>\n",
       "      <th>start_dt</th>\n",
       "      <th>finish_dt</th>\n",
       "    </tr>\n",
       "  </thead>\n",
       "  <tbody>\n",
       "    <tr>\n",
       "      <th>0</th>\n",
       "      <td>Christmas&amp;New Year Promo</td>\n",
       "      <td>EU, N.America</td>\n",
       "      <td>2020-12-25</td>\n",
       "      <td>2021-01-03</td>\n",
       "    </tr>\n",
       "    <tr>\n",
       "      <th>1</th>\n",
       "      <td>St. Valentine's Day Giveaway</td>\n",
       "      <td>EU, CIS, APAC, N.America</td>\n",
       "      <td>2020-02-14</td>\n",
       "      <td>2020-02-16</td>\n",
       "    </tr>\n",
       "    <tr>\n",
       "      <th>2</th>\n",
       "      <td>St. Patric's Day Promo</td>\n",
       "      <td>EU, N.America</td>\n",
       "      <td>2020-03-17</td>\n",
       "      <td>2020-03-19</td>\n",
       "    </tr>\n",
       "    <tr>\n",
       "      <th>3</th>\n",
       "      <td>Easter Promo</td>\n",
       "      <td>EU, CIS, APAC, N.America</td>\n",
       "      <td>2020-04-12</td>\n",
       "      <td>2020-04-19</td>\n",
       "    </tr>\n",
       "    <tr>\n",
       "      <th>4</th>\n",
       "      <td>4th of July Promo</td>\n",
       "      <td>N.America</td>\n",
       "      <td>2020-07-04</td>\n",
       "      <td>2020-07-11</td>\n",
       "    </tr>\n",
       "    <tr>\n",
       "      <th>5</th>\n",
       "      <td>Black Friday Ads Campaign</td>\n",
       "      <td>EU, CIS, APAC, N.America</td>\n",
       "      <td>2020-11-26</td>\n",
       "      <td>2020-12-01</td>\n",
       "    </tr>\n",
       "    <tr>\n",
       "      <th>6</th>\n",
       "      <td>Chinese New Year Promo</td>\n",
       "      <td>APAC</td>\n",
       "      <td>2020-01-25</td>\n",
       "      <td>2020-02-07</td>\n",
       "    </tr>\n",
       "    <tr>\n",
       "      <th>7</th>\n",
       "      <td>Labor day (May 1st) Ads Campaign</td>\n",
       "      <td>EU, CIS, APAC</td>\n",
       "      <td>2020-05-01</td>\n",
       "      <td>2020-05-03</td>\n",
       "    </tr>\n",
       "    <tr>\n",
       "      <th>8</th>\n",
       "      <td>International Women's Day Promo</td>\n",
       "      <td>EU, CIS, APAC</td>\n",
       "      <td>2020-03-08</td>\n",
       "      <td>2020-03-10</td>\n",
       "    </tr>\n",
       "    <tr>\n",
       "      <th>9</th>\n",
       "      <td>Victory Day CIS (May 9th) Event</td>\n",
       "      <td>CIS</td>\n",
       "      <td>2020-05-09</td>\n",
       "      <td>2020-05-11</td>\n",
       "    </tr>\n",
       "    <tr>\n",
       "      <th>10</th>\n",
       "      <td>CIS New Year Gift Lottery</td>\n",
       "      <td>CIS</td>\n",
       "      <td>2020-12-30</td>\n",
       "      <td>2021-01-07</td>\n",
       "    </tr>\n",
       "    <tr>\n",
       "      <th>11</th>\n",
       "      <td>Dragon Boat Festival Giveaway</td>\n",
       "      <td>APAC</td>\n",
       "      <td>2020-06-25</td>\n",
       "      <td>2020-07-01</td>\n",
       "    </tr>\n",
       "    <tr>\n",
       "      <th>12</th>\n",
       "      <td>Single's Day Gift Promo</td>\n",
       "      <td>APAC</td>\n",
       "      <td>2020-11-11</td>\n",
       "      <td>2020-11-12</td>\n",
       "    </tr>\n",
       "    <tr>\n",
       "      <th>13</th>\n",
       "      <td>Chinese Moon Festival</td>\n",
       "      <td>APAC</td>\n",
       "      <td>2020-10-01</td>\n",
       "      <td>2020-10-07</td>\n",
       "    </tr>\n",
       "  </tbody>\n",
       "</table>\n",
       "</div>"
      ],
      "text/plain": [
       "                                name                   regions    start_dt  \\\n",
       "0           Christmas&New Year Promo             EU, N.America  2020-12-25   \n",
       "1       St. Valentine's Day Giveaway  EU, CIS, APAC, N.America  2020-02-14   \n",
       "2             St. Patric's Day Promo             EU, N.America  2020-03-17   \n",
       "3                       Easter Promo  EU, CIS, APAC, N.America  2020-04-12   \n",
       "4                  4th of July Promo                 N.America  2020-07-04   \n",
       "5          Black Friday Ads Campaign  EU, CIS, APAC, N.America  2020-11-26   \n",
       "6             Chinese New Year Promo                      APAC  2020-01-25   \n",
       "7   Labor day (May 1st) Ads Campaign             EU, CIS, APAC  2020-05-01   \n",
       "8    International Women's Day Promo             EU, CIS, APAC  2020-03-08   \n",
       "9    Victory Day CIS (May 9th) Event                       CIS  2020-05-09   \n",
       "10         CIS New Year Gift Lottery                       CIS  2020-12-30   \n",
       "11     Dragon Boat Festival Giveaway                      APAC  2020-06-25   \n",
       "12           Single's Day Gift Promo                      APAC  2020-11-11   \n",
       "13             Chinese Moon Festival                      APAC  2020-10-01   \n",
       "\n",
       "     finish_dt  \n",
       "0   2021-01-03  \n",
       "1   2020-02-16  \n",
       "2   2020-03-19  \n",
       "3   2020-04-19  \n",
       "4   2020-07-11  \n",
       "5   2020-12-01  \n",
       "6   2020-02-07  \n",
       "7   2020-05-03  \n",
       "8   2020-03-10  \n",
       "9   2020-05-11  \n",
       "10  2021-01-07  \n",
       "11  2020-07-01  \n",
       "12  2020-11-12  \n",
       "13  2020-10-07  "
      ]
     },
     "metadata": {},
     "output_type": "display_data"
    },
    {
     "name": "stdout",
     "output_type": "stream",
     "text": [
      "Информация о пропусках в данных:\n"
     ]
    },
    {
     "data": {
      "text/html": [
       "<div>\n",
       "<style scoped>\n",
       "    .dataframe tbody tr th:only-of-type {\n",
       "        vertical-align: middle;\n",
       "    }\n",
       "\n",
       "    .dataframe tbody tr th {\n",
       "        vertical-align: top;\n",
       "    }\n",
       "\n",
       "    .dataframe thead th {\n",
       "        text-align: right;\n",
       "    }\n",
       "</style>\n",
       "<table border=\"1\" class=\"dataframe\">\n",
       "  <thead>\n",
       "    <tr style=\"text-align: right;\">\n",
       "      <th></th>\n",
       "      <th>count_miss</th>\n",
       "    </tr>\n",
       "  </thead>\n",
       "  <tbody>\n",
       "    <tr>\n",
       "      <th>name</th>\n",
       "      <td>0</td>\n",
       "    </tr>\n",
       "    <tr>\n",
       "      <th>regions</th>\n",
       "      <td>0</td>\n",
       "    </tr>\n",
       "    <tr>\n",
       "      <th>start_dt</th>\n",
       "      <td>0</td>\n",
       "    </tr>\n",
       "    <tr>\n",
       "      <th>finish_dt</th>\n",
       "      <td>0</td>\n",
       "    </tr>\n",
       "  </tbody>\n",
       "</table>\n",
       "</div>"
      ],
      "text/plain": [
       "           count_miss\n",
       "name                0\n",
       "regions             0\n",
       "start_dt            0\n",
       "finish_dt           0"
      ]
     },
     "metadata": {},
     "output_type": "display_data"
    },
    {
     "name": "stdout",
     "output_type": "stream",
     "text": [
      "Краткое описание для всех столбцов\n"
     ]
    },
    {
     "data": {
      "text/html": [
       "<div>\n",
       "<style scoped>\n",
       "    .dataframe tbody tr th:only-of-type {\n",
       "        vertical-align: middle;\n",
       "    }\n",
       "\n",
       "    .dataframe tbody tr th {\n",
       "        vertical-align: top;\n",
       "    }\n",
       "\n",
       "    .dataframe thead th {\n",
       "        text-align: right;\n",
       "    }\n",
       "</style>\n",
       "<table border=\"1\" class=\"dataframe\">\n",
       "  <thead>\n",
       "    <tr style=\"text-align: right;\">\n",
       "      <th></th>\n",
       "      <th>name</th>\n",
       "      <th>regions</th>\n",
       "      <th>start_dt</th>\n",
       "      <th>finish_dt</th>\n",
       "    </tr>\n",
       "  </thead>\n",
       "  <tbody>\n",
       "    <tr>\n",
       "      <th>count</th>\n",
       "      <td>14</td>\n",
       "      <td>14</td>\n",
       "      <td>14</td>\n",
       "      <td>14</td>\n",
       "    </tr>\n",
       "    <tr>\n",
       "      <th>unique</th>\n",
       "      <td>14</td>\n",
       "      <td>6</td>\n",
       "      <td>14</td>\n",
       "      <td>14</td>\n",
       "    </tr>\n",
       "    <tr>\n",
       "      <th>top</th>\n",
       "      <td>Christmas&amp;New Year Promo</td>\n",
       "      <td>APAC</td>\n",
       "      <td>2020-12-25</td>\n",
       "      <td>2021-01-03</td>\n",
       "    </tr>\n",
       "    <tr>\n",
       "      <th>freq</th>\n",
       "      <td>1</td>\n",
       "      <td>4</td>\n",
       "      <td>1</td>\n",
       "      <td>1</td>\n",
       "    </tr>\n",
       "  </tbody>\n",
       "</table>\n",
       "</div>"
      ],
      "text/plain": [
       "                            name regions    start_dt   finish_dt\n",
       "count                         14      14          14          14\n",
       "unique                        14       6          14          14\n",
       "top     Christmas&New Year Promo    APAC  2020-12-25  2021-01-03\n",
       "freq                           1       4           1           1"
      ]
     },
     "metadata": {},
     "output_type": "display_data"
    }
   ],
   "source": [
    "total_describe(calendar)"
   ]
  },
  {
   "cell_type": "markdown",
   "metadata": {},
   "source": [
    "**Вывод:**  \n",
    "Файл `ab_project_marketing_events.csv` содержит информацию о  маркетинговых событиях на 2020 год.  \n",
    "Всего в датасете 14 записей и 4 столбца.\n",
    "\n",
    "* Столбцы `start_dt` и `finish_dt` имеют некорректный тип данных\n",
    "* Пропуски отсутствуют \n",
    "* Наименования столбцов записаны корректно\n",
    "* Дубликаты отсутствуют"
   ]
  },
  {
   "cell_type": "markdown",
   "metadata": {},
   "source": [
    "<a id=\"user\"></a>\n",
    "\n",
    "### Пользователи, зарегистрировавшиеся в интернет-магазине в период с 7 по 21 декабря 2020 года"
   ]
  },
  {
   "cell_type": "code",
   "execution_count": 6,
   "metadata": {
    "scrolled": false
   },
   "outputs": [
    {
     "name": "stdout",
     "output_type": "stream",
     "text": [
      "<class 'pandas.core.frame.DataFrame'>\n",
      "RangeIndex: 61733 entries, 0 to 61732\n",
      "Data columns (total 4 columns):\n",
      " #   Column      Non-Null Count  Dtype \n",
      "---  ------      --------------  ----- \n",
      " 0   user_id     61733 non-null  object\n",
      " 1   first_date  61733 non-null  object\n",
      " 2   region      61733 non-null  object\n",
      " 3   device      61733 non-null  object\n",
      "dtypes: object(4)\n",
      "memory usage: 1.9+ MB\n"
     ]
    },
    {
     "data": {
      "text/plain": [
       "None"
      ]
     },
     "metadata": {},
     "output_type": "display_data"
    },
    {
     "name": "stdout",
     "output_type": "stream",
     "text": [
      "Первые 14 строк таблицы:\n"
     ]
    },
    {
     "data": {
      "text/html": [
       "<div>\n",
       "<style scoped>\n",
       "    .dataframe tbody tr th:only-of-type {\n",
       "        vertical-align: middle;\n",
       "    }\n",
       "\n",
       "    .dataframe tbody tr th {\n",
       "        vertical-align: top;\n",
       "    }\n",
       "\n",
       "    .dataframe thead th {\n",
       "        text-align: right;\n",
       "    }\n",
       "</style>\n",
       "<table border=\"1\" class=\"dataframe\">\n",
       "  <thead>\n",
       "    <tr style=\"text-align: right;\">\n",
       "      <th></th>\n",
       "      <th>user_id</th>\n",
       "      <th>first_date</th>\n",
       "      <th>region</th>\n",
       "      <th>device</th>\n",
       "    </tr>\n",
       "  </thead>\n",
       "  <tbody>\n",
       "    <tr>\n",
       "      <th>0</th>\n",
       "      <td>D72A72121175D8BE</td>\n",
       "      <td>2020-12-07</td>\n",
       "      <td>EU</td>\n",
       "      <td>PC</td>\n",
       "    </tr>\n",
       "    <tr>\n",
       "      <th>1</th>\n",
       "      <td>F1C668619DFE6E65</td>\n",
       "      <td>2020-12-07</td>\n",
       "      <td>N.America</td>\n",
       "      <td>Android</td>\n",
       "    </tr>\n",
       "    <tr>\n",
       "      <th>2</th>\n",
       "      <td>2E1BF1D4C37EA01F</td>\n",
       "      <td>2020-12-07</td>\n",
       "      <td>EU</td>\n",
       "      <td>PC</td>\n",
       "    </tr>\n",
       "    <tr>\n",
       "      <th>3</th>\n",
       "      <td>50734A22C0C63768</td>\n",
       "      <td>2020-12-07</td>\n",
       "      <td>EU</td>\n",
       "      <td>iPhone</td>\n",
       "    </tr>\n",
       "    <tr>\n",
       "      <th>4</th>\n",
       "      <td>E1BDDCE0DAFA2679</td>\n",
       "      <td>2020-12-07</td>\n",
       "      <td>N.America</td>\n",
       "      <td>iPhone</td>\n",
       "    </tr>\n",
       "    <tr>\n",
       "      <th>5</th>\n",
       "      <td>137119F5A9E69421</td>\n",
       "      <td>2020-12-07</td>\n",
       "      <td>N.America</td>\n",
       "      <td>iPhone</td>\n",
       "    </tr>\n",
       "    <tr>\n",
       "      <th>6</th>\n",
       "      <td>62F0C741CC42D0CC</td>\n",
       "      <td>2020-12-07</td>\n",
       "      <td>APAC</td>\n",
       "      <td>iPhone</td>\n",
       "    </tr>\n",
       "    <tr>\n",
       "      <th>7</th>\n",
       "      <td>8942E64218C9A1ED</td>\n",
       "      <td>2020-12-07</td>\n",
       "      <td>EU</td>\n",
       "      <td>PC</td>\n",
       "    </tr>\n",
       "    <tr>\n",
       "      <th>8</th>\n",
       "      <td>499AFACF904BBAE3</td>\n",
       "      <td>2020-12-07</td>\n",
       "      <td>N.America</td>\n",
       "      <td>iPhone</td>\n",
       "    </tr>\n",
       "    <tr>\n",
       "      <th>9</th>\n",
       "      <td>FFCEA1179C253104</td>\n",
       "      <td>2020-12-07</td>\n",
       "      <td>EU</td>\n",
       "      <td>Android</td>\n",
       "    </tr>\n",
       "    <tr>\n",
       "      <th>10</th>\n",
       "      <td>5EB159DA9DC94DBA</td>\n",
       "      <td>2020-12-07</td>\n",
       "      <td>APAC</td>\n",
       "      <td>PC</td>\n",
       "    </tr>\n",
       "    <tr>\n",
       "      <th>11</th>\n",
       "      <td>084A22B980BA8169</td>\n",
       "      <td>2020-12-07</td>\n",
       "      <td>EU</td>\n",
       "      <td>Android</td>\n",
       "    </tr>\n",
       "    <tr>\n",
       "      <th>12</th>\n",
       "      <td>8ACC2420471B31E4</td>\n",
       "      <td>2020-12-07</td>\n",
       "      <td>EU</td>\n",
       "      <td>PC</td>\n",
       "    </tr>\n",
       "    <tr>\n",
       "      <th>13</th>\n",
       "      <td>E6DE857AFBDC6102</td>\n",
       "      <td>2020-12-07</td>\n",
       "      <td>EU</td>\n",
       "      <td>PC</td>\n",
       "    </tr>\n",
       "  </tbody>\n",
       "</table>\n",
       "</div>"
      ],
      "text/plain": [
       "             user_id  first_date     region   device\n",
       "0   D72A72121175D8BE  2020-12-07         EU       PC\n",
       "1   F1C668619DFE6E65  2020-12-07  N.America  Android\n",
       "2   2E1BF1D4C37EA01F  2020-12-07         EU       PC\n",
       "3   50734A22C0C63768  2020-12-07         EU   iPhone\n",
       "4   E1BDDCE0DAFA2679  2020-12-07  N.America   iPhone\n",
       "5   137119F5A9E69421  2020-12-07  N.America   iPhone\n",
       "6   62F0C741CC42D0CC  2020-12-07       APAC   iPhone\n",
       "7   8942E64218C9A1ED  2020-12-07         EU       PC\n",
       "8   499AFACF904BBAE3  2020-12-07  N.America   iPhone\n",
       "9   FFCEA1179C253104  2020-12-07         EU  Android\n",
       "10  5EB159DA9DC94DBA  2020-12-07       APAC       PC\n",
       "11  084A22B980BA8169  2020-12-07         EU  Android\n",
       "12  8ACC2420471B31E4  2020-12-07         EU       PC\n",
       "13  E6DE857AFBDC6102  2020-12-07         EU       PC"
      ]
     },
     "metadata": {},
     "output_type": "display_data"
    },
    {
     "name": "stdout",
     "output_type": "stream",
     "text": [
      "Информация о пропусках в данных:\n"
     ]
    },
    {
     "data": {
      "text/html": [
       "<div>\n",
       "<style scoped>\n",
       "    .dataframe tbody tr th:only-of-type {\n",
       "        vertical-align: middle;\n",
       "    }\n",
       "\n",
       "    .dataframe tbody tr th {\n",
       "        vertical-align: top;\n",
       "    }\n",
       "\n",
       "    .dataframe thead th {\n",
       "        text-align: right;\n",
       "    }\n",
       "</style>\n",
       "<table border=\"1\" class=\"dataframe\">\n",
       "  <thead>\n",
       "    <tr style=\"text-align: right;\">\n",
       "      <th></th>\n",
       "      <th>count_miss</th>\n",
       "    </tr>\n",
       "  </thead>\n",
       "  <tbody>\n",
       "    <tr>\n",
       "      <th>user_id</th>\n",
       "      <td>0</td>\n",
       "    </tr>\n",
       "    <tr>\n",
       "      <th>first_date</th>\n",
       "      <td>0</td>\n",
       "    </tr>\n",
       "    <tr>\n",
       "      <th>region</th>\n",
       "      <td>0</td>\n",
       "    </tr>\n",
       "    <tr>\n",
       "      <th>device</th>\n",
       "      <td>0</td>\n",
       "    </tr>\n",
       "  </tbody>\n",
       "</table>\n",
       "</div>"
      ],
      "text/plain": [
       "            count_miss\n",
       "user_id              0\n",
       "first_date           0\n",
       "region               0\n",
       "device               0"
      ]
     },
     "metadata": {},
     "output_type": "display_data"
    },
    {
     "name": "stdout",
     "output_type": "stream",
     "text": [
      "Краткое описание для всех столбцов\n"
     ]
    },
    {
     "data": {
      "text/html": [
       "<div>\n",
       "<style scoped>\n",
       "    .dataframe tbody tr th:only-of-type {\n",
       "        vertical-align: middle;\n",
       "    }\n",
       "\n",
       "    .dataframe tbody tr th {\n",
       "        vertical-align: top;\n",
       "    }\n",
       "\n",
       "    .dataframe thead th {\n",
       "        text-align: right;\n",
       "    }\n",
       "</style>\n",
       "<table border=\"1\" class=\"dataframe\">\n",
       "  <thead>\n",
       "    <tr style=\"text-align: right;\">\n",
       "      <th></th>\n",
       "      <th>user_id</th>\n",
       "      <th>first_date</th>\n",
       "      <th>region</th>\n",
       "      <th>device</th>\n",
       "    </tr>\n",
       "  </thead>\n",
       "  <tbody>\n",
       "    <tr>\n",
       "      <th>count</th>\n",
       "      <td>61733</td>\n",
       "      <td>61733</td>\n",
       "      <td>61733</td>\n",
       "      <td>61733</td>\n",
       "    </tr>\n",
       "    <tr>\n",
       "      <th>unique</th>\n",
       "      <td>61733</td>\n",
       "      <td>17</td>\n",
       "      <td>4</td>\n",
       "      <td>4</td>\n",
       "    </tr>\n",
       "    <tr>\n",
       "      <th>top</th>\n",
       "      <td>D72A72121175D8BE</td>\n",
       "      <td>2020-12-21</td>\n",
       "      <td>EU</td>\n",
       "      <td>Android</td>\n",
       "    </tr>\n",
       "    <tr>\n",
       "      <th>freq</th>\n",
       "      <td>1</td>\n",
       "      <td>6290</td>\n",
       "      <td>46270</td>\n",
       "      <td>27520</td>\n",
       "    </tr>\n",
       "  </tbody>\n",
       "</table>\n",
       "</div>"
      ],
      "text/plain": [
       "                 user_id  first_date region   device\n",
       "count              61733       61733  61733    61733\n",
       "unique             61733          17      4        4\n",
       "top     D72A72121175D8BE  2020-12-21     EU  Android\n",
       "freq                   1        6290  46270    27520"
      ]
     },
     "metadata": {},
     "output_type": "display_data"
    }
   ],
   "source": [
    "total_describe(users)"
   ]
  },
  {
   "cell_type": "markdown",
   "metadata": {},
   "source": [
    "**Вывод:**  \n",
    "Файл `final_ab_new_users.csv` содержит информацию о всех пользователях, зарегистрировавшихся в интернет-магазине в период с 7 по 21 декабря 2020 года.  \n",
    "Всего в датасете 61733 записи и 4 столбца.\n",
    "\n",
    "* Столбец `first_date` имеет некорректный тип данных\n",
    "* Пропуски отсутствуют \n",
    "* Наименования столбцов записаны корректно\n",
    "* В файле находятся только уникальные пользователи (61733)\n",
    "* Краткое описание показывает, что в данных 17 уникальных дат, хотя должно быть всего 15, поэтому стоит проверить данные."
   ]
  },
  {
   "cell_type": "markdown",
   "metadata": {},
   "source": [
    "<a id=\"events\"></a>\n",
    "\n",
    "### События новых пользователей в период с 7 декабря 2020 по 4 января 2021 года"
   ]
  },
  {
   "cell_type": "code",
   "execution_count": 7,
   "metadata": {
    "scrolled": false
   },
   "outputs": [
    {
     "name": "stdout",
     "output_type": "stream",
     "text": [
      "<class 'pandas.core.frame.DataFrame'>\n",
      "RangeIndex: 440317 entries, 0 to 440316\n",
      "Data columns (total 4 columns):\n",
      " #   Column      Non-Null Count   Dtype  \n",
      "---  ------      --------------   -----  \n",
      " 0   user_id     440317 non-null  object \n",
      " 1   event_dt    440317 non-null  object \n",
      " 2   event_name  440317 non-null  object \n",
      " 3   details     62740 non-null   float64\n",
      "dtypes: float64(1), object(3)\n",
      "memory usage: 13.4+ MB\n"
     ]
    },
    {
     "data": {
      "text/plain": [
       "None"
      ]
     },
     "metadata": {},
     "output_type": "display_data"
    },
    {
     "name": "stdout",
     "output_type": "stream",
     "text": [
      "Первые 14 строк таблицы:\n"
     ]
    },
    {
     "data": {
      "text/html": [
       "<div>\n",
       "<style scoped>\n",
       "    .dataframe tbody tr th:only-of-type {\n",
       "        vertical-align: middle;\n",
       "    }\n",
       "\n",
       "    .dataframe tbody tr th {\n",
       "        vertical-align: top;\n",
       "    }\n",
       "\n",
       "    .dataframe thead th {\n",
       "        text-align: right;\n",
       "    }\n",
       "</style>\n",
       "<table border=\"1\" class=\"dataframe\">\n",
       "  <thead>\n",
       "    <tr style=\"text-align: right;\">\n",
       "      <th></th>\n",
       "      <th>user_id</th>\n",
       "      <th>event_dt</th>\n",
       "      <th>event_name</th>\n",
       "      <th>details</th>\n",
       "    </tr>\n",
       "  </thead>\n",
       "  <tbody>\n",
       "    <tr>\n",
       "      <th>0</th>\n",
       "      <td>E1BDDCE0DAFA2679</td>\n",
       "      <td>2020-12-07 20:22:03</td>\n",
       "      <td>purchase</td>\n",
       "      <td>99.99</td>\n",
       "    </tr>\n",
       "    <tr>\n",
       "      <th>1</th>\n",
       "      <td>7B6452F081F49504</td>\n",
       "      <td>2020-12-07 09:22:53</td>\n",
       "      <td>purchase</td>\n",
       "      <td>9.99</td>\n",
       "    </tr>\n",
       "    <tr>\n",
       "      <th>2</th>\n",
       "      <td>9CD9F34546DF254C</td>\n",
       "      <td>2020-12-07 12:59:29</td>\n",
       "      <td>purchase</td>\n",
       "      <td>4.99</td>\n",
       "    </tr>\n",
       "    <tr>\n",
       "      <th>3</th>\n",
       "      <td>96F27A054B191457</td>\n",
       "      <td>2020-12-07 04:02:40</td>\n",
       "      <td>purchase</td>\n",
       "      <td>4.99</td>\n",
       "    </tr>\n",
       "    <tr>\n",
       "      <th>4</th>\n",
       "      <td>1FD7660FDF94CA1F</td>\n",
       "      <td>2020-12-07 10:15:09</td>\n",
       "      <td>purchase</td>\n",
       "      <td>4.99</td>\n",
       "    </tr>\n",
       "    <tr>\n",
       "      <th>5</th>\n",
       "      <td>831887FE7F2D6CBA</td>\n",
       "      <td>2020-12-07 06:50:29</td>\n",
       "      <td>purchase</td>\n",
       "      <td>4.99</td>\n",
       "    </tr>\n",
       "    <tr>\n",
       "      <th>6</th>\n",
       "      <td>6B2F726BFD5F8220</td>\n",
       "      <td>2020-12-07 11:27:42</td>\n",
       "      <td>purchase</td>\n",
       "      <td>4.99</td>\n",
       "    </tr>\n",
       "    <tr>\n",
       "      <th>7</th>\n",
       "      <td>BEB37715AACF53B0</td>\n",
       "      <td>2020-12-07 04:26:15</td>\n",
       "      <td>purchase</td>\n",
       "      <td>4.99</td>\n",
       "    </tr>\n",
       "    <tr>\n",
       "      <th>8</th>\n",
       "      <td>B5FA27F582227197</td>\n",
       "      <td>2020-12-07 01:46:37</td>\n",
       "      <td>purchase</td>\n",
       "      <td>4.99</td>\n",
       "    </tr>\n",
       "    <tr>\n",
       "      <th>9</th>\n",
       "      <td>A92195E3CFB83DBD</td>\n",
       "      <td>2020-12-07 00:32:07</td>\n",
       "      <td>purchase</td>\n",
       "      <td>4.99</td>\n",
       "    </tr>\n",
       "    <tr>\n",
       "      <th>10</th>\n",
       "      <td>E2E76A8B3389127C</td>\n",
       "      <td>2020-12-07 15:39:32</td>\n",
       "      <td>purchase</td>\n",
       "      <td>4.99</td>\n",
       "    </tr>\n",
       "    <tr>\n",
       "      <th>11</th>\n",
       "      <td>354D653172FF2A2D</td>\n",
       "      <td>2020-12-07 15:45:11</td>\n",
       "      <td>purchase</td>\n",
       "      <td>4.99</td>\n",
       "    </tr>\n",
       "    <tr>\n",
       "      <th>12</th>\n",
       "      <td>7FCD34F47C13A9AC</td>\n",
       "      <td>2020-12-07 22:06:13</td>\n",
       "      <td>purchase</td>\n",
       "      <td>9.99</td>\n",
       "    </tr>\n",
       "    <tr>\n",
       "      <th>13</th>\n",
       "      <td>0313C457F07C339E</td>\n",
       "      <td>2020-12-07 13:10:48</td>\n",
       "      <td>purchase</td>\n",
       "      <td>9.99</td>\n",
       "    </tr>\n",
       "  </tbody>\n",
       "</table>\n",
       "</div>"
      ],
      "text/plain": [
       "             user_id             event_dt event_name  details\n",
       "0   E1BDDCE0DAFA2679  2020-12-07 20:22:03   purchase    99.99\n",
       "1   7B6452F081F49504  2020-12-07 09:22:53   purchase     9.99\n",
       "2   9CD9F34546DF254C  2020-12-07 12:59:29   purchase     4.99\n",
       "3   96F27A054B191457  2020-12-07 04:02:40   purchase     4.99\n",
       "4   1FD7660FDF94CA1F  2020-12-07 10:15:09   purchase     4.99\n",
       "5   831887FE7F2D6CBA  2020-12-07 06:50:29   purchase     4.99\n",
       "6   6B2F726BFD5F8220  2020-12-07 11:27:42   purchase     4.99\n",
       "7   BEB37715AACF53B0  2020-12-07 04:26:15   purchase     4.99\n",
       "8   B5FA27F582227197  2020-12-07 01:46:37   purchase     4.99\n",
       "9   A92195E3CFB83DBD  2020-12-07 00:32:07   purchase     4.99\n",
       "10  E2E76A8B3389127C  2020-12-07 15:39:32   purchase     4.99\n",
       "11  354D653172FF2A2D  2020-12-07 15:45:11   purchase     4.99\n",
       "12  7FCD34F47C13A9AC  2020-12-07 22:06:13   purchase     9.99\n",
       "13  0313C457F07C339E  2020-12-07 13:10:48   purchase     9.99"
      ]
     },
     "metadata": {},
     "output_type": "display_data"
    },
    {
     "name": "stdout",
     "output_type": "stream",
     "text": [
      "Информация о пропусках в данных:\n"
     ]
    },
    {
     "data": {
      "text/html": [
       "<div>\n",
       "<style scoped>\n",
       "    .dataframe tbody tr th:only-of-type {\n",
       "        vertical-align: middle;\n",
       "    }\n",
       "\n",
       "    .dataframe tbody tr th {\n",
       "        vertical-align: top;\n",
       "    }\n",
       "\n",
       "    .dataframe thead th {\n",
       "        text-align: right;\n",
       "    }\n",
       "</style>\n",
       "<table border=\"1\" class=\"dataframe\">\n",
       "  <thead>\n",
       "    <tr style=\"text-align: right;\">\n",
       "      <th></th>\n",
       "      <th>count_miss</th>\n",
       "    </tr>\n",
       "  </thead>\n",
       "  <tbody>\n",
       "    <tr>\n",
       "      <th>user_id</th>\n",
       "      <td>0</td>\n",
       "    </tr>\n",
       "    <tr>\n",
       "      <th>event_dt</th>\n",
       "      <td>0</td>\n",
       "    </tr>\n",
       "    <tr>\n",
       "      <th>event_name</th>\n",
       "      <td>0</td>\n",
       "    </tr>\n",
       "    <tr>\n",
       "      <th>details</th>\n",
       "      <td>377577</td>\n",
       "    </tr>\n",
       "  </tbody>\n",
       "</table>\n",
       "</div>"
      ],
      "text/plain": [
       "            count_miss\n",
       "user_id              0\n",
       "event_dt             0\n",
       "event_name           0\n",
       "details         377577"
      ]
     },
     "metadata": {},
     "output_type": "display_data"
    },
    {
     "name": "stdout",
     "output_type": "stream",
     "text": [
      "Краткое описание для всех столбцов\n"
     ]
    },
    {
     "data": {
      "text/html": [
       "<div>\n",
       "<style scoped>\n",
       "    .dataframe tbody tr th:only-of-type {\n",
       "        vertical-align: middle;\n",
       "    }\n",
       "\n",
       "    .dataframe tbody tr th {\n",
       "        vertical-align: top;\n",
       "    }\n",
       "\n",
       "    .dataframe thead th {\n",
       "        text-align: right;\n",
       "    }\n",
       "</style>\n",
       "<table border=\"1\" class=\"dataframe\">\n",
       "  <thead>\n",
       "    <tr style=\"text-align: right;\">\n",
       "      <th></th>\n",
       "      <th>user_id</th>\n",
       "      <th>event_dt</th>\n",
       "      <th>event_name</th>\n",
       "      <th>details</th>\n",
       "    </tr>\n",
       "  </thead>\n",
       "  <tbody>\n",
       "    <tr>\n",
       "      <th>count</th>\n",
       "      <td>440317</td>\n",
       "      <td>440317</td>\n",
       "      <td>440317</td>\n",
       "      <td>62740.000000</td>\n",
       "    </tr>\n",
       "    <tr>\n",
       "      <th>unique</th>\n",
       "      <td>58703</td>\n",
       "      <td>267268</td>\n",
       "      <td>4</td>\n",
       "      <td>NaN</td>\n",
       "    </tr>\n",
       "    <tr>\n",
       "      <th>top</th>\n",
       "      <td>A3917F81482141F2</td>\n",
       "      <td>2020-12-23 02:37:24</td>\n",
       "      <td>login</td>\n",
       "      <td>NaN</td>\n",
       "    </tr>\n",
       "    <tr>\n",
       "      <th>freq</th>\n",
       "      <td>36</td>\n",
       "      <td>10</td>\n",
       "      <td>189552</td>\n",
       "      <td>NaN</td>\n",
       "    </tr>\n",
       "    <tr>\n",
       "      <th>mean</th>\n",
       "      <td>NaN</td>\n",
       "      <td>NaN</td>\n",
       "      <td>NaN</td>\n",
       "      <td>23.877631</td>\n",
       "    </tr>\n",
       "    <tr>\n",
       "      <th>std</th>\n",
       "      <td>NaN</td>\n",
       "      <td>NaN</td>\n",
       "      <td>NaN</td>\n",
       "      <td>72.180465</td>\n",
       "    </tr>\n",
       "    <tr>\n",
       "      <th>min</th>\n",
       "      <td>NaN</td>\n",
       "      <td>NaN</td>\n",
       "      <td>NaN</td>\n",
       "      <td>4.990000</td>\n",
       "    </tr>\n",
       "    <tr>\n",
       "      <th>25%</th>\n",
       "      <td>NaN</td>\n",
       "      <td>NaN</td>\n",
       "      <td>NaN</td>\n",
       "      <td>4.990000</td>\n",
       "    </tr>\n",
       "    <tr>\n",
       "      <th>50%</th>\n",
       "      <td>NaN</td>\n",
       "      <td>NaN</td>\n",
       "      <td>NaN</td>\n",
       "      <td>4.990000</td>\n",
       "    </tr>\n",
       "    <tr>\n",
       "      <th>75%</th>\n",
       "      <td>NaN</td>\n",
       "      <td>NaN</td>\n",
       "      <td>NaN</td>\n",
       "      <td>9.990000</td>\n",
       "    </tr>\n",
       "    <tr>\n",
       "      <th>max</th>\n",
       "      <td>NaN</td>\n",
       "      <td>NaN</td>\n",
       "      <td>NaN</td>\n",
       "      <td>499.990000</td>\n",
       "    </tr>\n",
       "  </tbody>\n",
       "</table>\n",
       "</div>"
      ],
      "text/plain": [
       "                 user_id             event_dt event_name       details\n",
       "count             440317               440317     440317  62740.000000\n",
       "unique             58703               267268          4           NaN\n",
       "top     A3917F81482141F2  2020-12-23 02:37:24      login           NaN\n",
       "freq                  36                   10     189552           NaN\n",
       "mean                 NaN                  NaN        NaN     23.877631\n",
       "std                  NaN                  NaN        NaN     72.180465\n",
       "min                  NaN                  NaN        NaN      4.990000\n",
       "25%                  NaN                  NaN        NaN      4.990000\n",
       "50%                  NaN                  NaN        NaN      4.990000\n",
       "75%                  NaN                  NaN        NaN      9.990000\n",
       "max                  NaN                  NaN        NaN    499.990000"
      ]
     },
     "metadata": {},
     "output_type": "display_data"
    }
   ],
   "source": [
    "total_describe(events)"
   ]
  },
  {
   "cell_type": "markdown",
   "metadata": {},
   "source": [
    "**Вывод:**  \n",
    "Файл `final_ab_events.csv` содержит информацию о событиях новых пользователей в период с 7 декабря 2020 по 4 января 2021 года.   \n",
    "Всего в датасете 440317 записей и 4 столбца.\n",
    "\n",
    "* Столбец `event_dt` имеет некорректный тип данных\n",
    "* В столбце `details` 377577 пропусков \n",
    "* Наименования столбцов записаны корректно"
   ]
  },
  {
   "cell_type": "markdown",
   "metadata": {},
   "source": [
    "<a id=\"tests\"></a>\n",
    "\n",
    "### Таблица участников тестов"
   ]
  },
  {
   "cell_type": "code",
   "execution_count": 8,
   "metadata": {},
   "outputs": [
    {
     "name": "stdout",
     "output_type": "stream",
     "text": [
      "<class 'pandas.core.frame.DataFrame'>\n",
      "RangeIndex: 18268 entries, 0 to 18267\n",
      "Data columns (total 3 columns):\n",
      " #   Column   Non-Null Count  Dtype \n",
      "---  ------   --------------  ----- \n",
      " 0   user_id  18268 non-null  object\n",
      " 1   group    18268 non-null  object\n",
      " 2   ab_test  18268 non-null  object\n",
      "dtypes: object(3)\n",
      "memory usage: 428.3+ KB\n"
     ]
    },
    {
     "data": {
      "text/plain": [
       "None"
      ]
     },
     "metadata": {},
     "output_type": "display_data"
    },
    {
     "name": "stdout",
     "output_type": "stream",
     "text": [
      "Первые 14 строк таблицы:\n"
     ]
    },
    {
     "data": {
      "text/html": [
       "<div>\n",
       "<style scoped>\n",
       "    .dataframe tbody tr th:only-of-type {\n",
       "        vertical-align: middle;\n",
       "    }\n",
       "\n",
       "    .dataframe tbody tr th {\n",
       "        vertical-align: top;\n",
       "    }\n",
       "\n",
       "    .dataframe thead th {\n",
       "        text-align: right;\n",
       "    }\n",
       "</style>\n",
       "<table border=\"1\" class=\"dataframe\">\n",
       "  <thead>\n",
       "    <tr style=\"text-align: right;\">\n",
       "      <th></th>\n",
       "      <th>user_id</th>\n",
       "      <th>group</th>\n",
       "      <th>ab_test</th>\n",
       "    </tr>\n",
       "  </thead>\n",
       "  <tbody>\n",
       "    <tr>\n",
       "      <th>0</th>\n",
       "      <td>D1ABA3E2887B6A73</td>\n",
       "      <td>A</td>\n",
       "      <td>recommender_system_test</td>\n",
       "    </tr>\n",
       "    <tr>\n",
       "      <th>1</th>\n",
       "      <td>A7A3664BD6242119</td>\n",
       "      <td>A</td>\n",
       "      <td>recommender_system_test</td>\n",
       "    </tr>\n",
       "    <tr>\n",
       "      <th>2</th>\n",
       "      <td>DABC14FDDFADD29E</td>\n",
       "      <td>A</td>\n",
       "      <td>recommender_system_test</td>\n",
       "    </tr>\n",
       "    <tr>\n",
       "      <th>3</th>\n",
       "      <td>04988C5DF189632E</td>\n",
       "      <td>A</td>\n",
       "      <td>recommender_system_test</td>\n",
       "    </tr>\n",
       "    <tr>\n",
       "      <th>4</th>\n",
       "      <td>482F14783456D21B</td>\n",
       "      <td>B</td>\n",
       "      <td>recommender_system_test</td>\n",
       "    </tr>\n",
       "    <tr>\n",
       "      <th>5</th>\n",
       "      <td>4FF2998A348C484F</td>\n",
       "      <td>A</td>\n",
       "      <td>recommender_system_test</td>\n",
       "    </tr>\n",
       "    <tr>\n",
       "      <th>6</th>\n",
       "      <td>7473E0943673C09E</td>\n",
       "      <td>A</td>\n",
       "      <td>recommender_system_test</td>\n",
       "    </tr>\n",
       "    <tr>\n",
       "      <th>7</th>\n",
       "      <td>C46FE336D240A054</td>\n",
       "      <td>A</td>\n",
       "      <td>recommender_system_test</td>\n",
       "    </tr>\n",
       "    <tr>\n",
       "      <th>8</th>\n",
       "      <td>92CB588012C10D3D</td>\n",
       "      <td>A</td>\n",
       "      <td>recommender_system_test</td>\n",
       "    </tr>\n",
       "    <tr>\n",
       "      <th>9</th>\n",
       "      <td>057AB296296C7FC0</td>\n",
       "      <td>B</td>\n",
       "      <td>recommender_system_test</td>\n",
       "    </tr>\n",
       "    <tr>\n",
       "      <th>10</th>\n",
       "      <td>B3A2485649E4A012</td>\n",
       "      <td>A</td>\n",
       "      <td>recommender_system_test</td>\n",
       "    </tr>\n",
       "    <tr>\n",
       "      <th>11</th>\n",
       "      <td>E9FA12FAE3F5769C</td>\n",
       "      <td>B</td>\n",
       "      <td>recommender_system_test</td>\n",
       "    </tr>\n",
       "    <tr>\n",
       "      <th>12</th>\n",
       "      <td>FDD0A1016549D707</td>\n",
       "      <td>A</td>\n",
       "      <td>recommender_system_test</td>\n",
       "    </tr>\n",
       "    <tr>\n",
       "      <th>13</th>\n",
       "      <td>547E99A7BDB0FCE9</td>\n",
       "      <td>A</td>\n",
       "      <td>recommender_system_test</td>\n",
       "    </tr>\n",
       "  </tbody>\n",
       "</table>\n",
       "</div>"
      ],
      "text/plain": [
       "             user_id group                  ab_test\n",
       "0   D1ABA3E2887B6A73     A  recommender_system_test\n",
       "1   A7A3664BD6242119     A  recommender_system_test\n",
       "2   DABC14FDDFADD29E     A  recommender_system_test\n",
       "3   04988C5DF189632E     A  recommender_system_test\n",
       "4   482F14783456D21B     B  recommender_system_test\n",
       "5   4FF2998A348C484F     A  recommender_system_test\n",
       "6   7473E0943673C09E     A  recommender_system_test\n",
       "7   C46FE336D240A054     A  recommender_system_test\n",
       "8   92CB588012C10D3D     A  recommender_system_test\n",
       "9   057AB296296C7FC0     B  recommender_system_test\n",
       "10  B3A2485649E4A012     A  recommender_system_test\n",
       "11  E9FA12FAE3F5769C     B  recommender_system_test\n",
       "12  FDD0A1016549D707     A  recommender_system_test\n",
       "13  547E99A7BDB0FCE9     A  recommender_system_test"
      ]
     },
     "metadata": {},
     "output_type": "display_data"
    },
    {
     "name": "stdout",
     "output_type": "stream",
     "text": [
      "Информация о пропусках в данных:\n"
     ]
    },
    {
     "data": {
      "text/html": [
       "<div>\n",
       "<style scoped>\n",
       "    .dataframe tbody tr th:only-of-type {\n",
       "        vertical-align: middle;\n",
       "    }\n",
       "\n",
       "    .dataframe tbody tr th {\n",
       "        vertical-align: top;\n",
       "    }\n",
       "\n",
       "    .dataframe thead th {\n",
       "        text-align: right;\n",
       "    }\n",
       "</style>\n",
       "<table border=\"1\" class=\"dataframe\">\n",
       "  <thead>\n",
       "    <tr style=\"text-align: right;\">\n",
       "      <th></th>\n",
       "      <th>count_miss</th>\n",
       "    </tr>\n",
       "  </thead>\n",
       "  <tbody>\n",
       "    <tr>\n",
       "      <th>user_id</th>\n",
       "      <td>0</td>\n",
       "    </tr>\n",
       "    <tr>\n",
       "      <th>group</th>\n",
       "      <td>0</td>\n",
       "    </tr>\n",
       "    <tr>\n",
       "      <th>ab_test</th>\n",
       "      <td>0</td>\n",
       "    </tr>\n",
       "  </tbody>\n",
       "</table>\n",
       "</div>"
      ],
      "text/plain": [
       "         count_miss\n",
       "user_id           0\n",
       "group             0\n",
       "ab_test           0"
      ]
     },
     "metadata": {},
     "output_type": "display_data"
    },
    {
     "name": "stdout",
     "output_type": "stream",
     "text": [
      "Краткое описание для всех столбцов\n"
     ]
    },
    {
     "data": {
      "text/html": [
       "<div>\n",
       "<style scoped>\n",
       "    .dataframe tbody tr th:only-of-type {\n",
       "        vertical-align: middle;\n",
       "    }\n",
       "\n",
       "    .dataframe tbody tr th {\n",
       "        vertical-align: top;\n",
       "    }\n",
       "\n",
       "    .dataframe thead th {\n",
       "        text-align: right;\n",
       "    }\n",
       "</style>\n",
       "<table border=\"1\" class=\"dataframe\">\n",
       "  <thead>\n",
       "    <tr style=\"text-align: right;\">\n",
       "      <th></th>\n",
       "      <th>user_id</th>\n",
       "      <th>group</th>\n",
       "      <th>ab_test</th>\n",
       "    </tr>\n",
       "  </thead>\n",
       "  <tbody>\n",
       "    <tr>\n",
       "      <th>count</th>\n",
       "      <td>18268</td>\n",
       "      <td>18268</td>\n",
       "      <td>18268</td>\n",
       "    </tr>\n",
       "    <tr>\n",
       "      <th>unique</th>\n",
       "      <td>16666</td>\n",
       "      <td>2</td>\n",
       "      <td>2</td>\n",
       "    </tr>\n",
       "    <tr>\n",
       "      <th>top</th>\n",
       "      <td>0FDFDA0B2DEC2D91</td>\n",
       "      <td>A</td>\n",
       "      <td>interface_eu_test</td>\n",
       "    </tr>\n",
       "    <tr>\n",
       "      <th>freq</th>\n",
       "      <td>2</td>\n",
       "      <td>9655</td>\n",
       "      <td>11567</td>\n",
       "    </tr>\n",
       "  </tbody>\n",
       "</table>\n",
       "</div>"
      ],
      "text/plain": [
       "                 user_id  group            ab_test\n",
       "count              18268  18268              18268\n",
       "unique             16666      2                  2\n",
       "top     0FDFDA0B2DEC2D91      A  interface_eu_test\n",
       "freq                   2   9655              11567"
      ]
     },
     "metadata": {},
     "output_type": "display_data"
    }
   ],
   "source": [
    "total_describe(participants)"
   ]
  },
  {
   "cell_type": "markdown",
   "metadata": {},
   "source": [
    "**Вывод:**  \n",
    "Файл `final_ab_participants.csv` содержит информацию о участниках тестов.   \n",
    "Всего в датасете 18268 записи и 3 столбца.\n",
    "\n",
    "* Столбцы имеют корректные типы данных\n",
    "* Пропуски отсутствуют\n",
    "* Наименования столбцов записаны корректно\n",
    "* Краткое описание показывает, что в данных 16666 уникальных пользователей, хотя должны быть все уникальные, поэтому стоит проверить данные на пересечения.\n",
    "* Также в данных присутствуют 2 унинкальных названия а/b-теста, нам же нужен только один - recommender_system_test.\n",
    "\n",
    "**Итог**\n",
    "\n",
    "Необходимо:   \n",
    "\n",
    "* Проверить строки-дубликаты\n",
    "* Заполнить по возможности пропуски в `details`\n",
    "* Изменить типы данных в столбцах `start_dt`, `finish_dt`, `first_date`, `event_dt`\n",
    "* Также проверить данные на дубликаты и пересечения по ТЗ."
   ]
  },
  {
   "cell_type": "markdown",
   "metadata": {},
   "source": [
    "<a id=\"pre\"></a>\n",
    "## Предобработка данных \n",
    "\n",
    "* **Изменение типа данных**  \n",
    "\n",
    "Заменим типы данных в столбцах `start_dt`, `finish_dt`, `first_date`, `event_dt`."
   ]
  },
  {
   "cell_type": "code",
   "execution_count": 9,
   "metadata": {},
   "outputs": [],
   "source": [
    "# изменяем типы данных\n",
    "calendar['start_dt'] = pd.to_datetime(calendar['start_dt']).dt.date\n",
    "calendar['finish_dt'] = pd.to_datetime(calendar['finish_dt']).dt.date\n",
    "users['first_date'] = pd.to_datetime(users['first_date']).dt.date\n",
    "events['event_time'] = pd.to_datetime(events['event_dt'])\n",
    "events['event_dt'] = pd.to_datetime(events['event_dt']).dt.date"
   ]
  },
  {
   "cell_type": "markdown",
   "metadata": {},
   "source": [
    "* **Обработка дубликатов**\n",
    "\n",
    "Проверим присутствие строк-дубликатов в каждом датафрейме."
   ]
  },
  {
   "cell_type": "code",
   "execution_count": 10,
   "metadata": {},
   "outputs": [
    {
     "name": "stdout",
     "output_type": "stream",
     "text": [
      "Количество строк-дубликатов: 0\n",
      "Количество строк-дубликатов: 0\n",
      "Количество строк-дубликатов: 0\n",
      "Количество строк-дубликатов: 0\n"
     ]
    }
   ],
   "source": [
    "datasets = [calendar, users, events, participants]\n",
    "\n",
    "# посчитаем количество строк-дубликатов\n",
    "for data in datasets:\n",
    "    print(f'Количество строк-дубликатов: {data.duplicated().sum()}')"
   ]
  },
  {
   "cell_type": "markdown",
   "metadata": {},
   "source": [
    "Строки дубликаты отсутствуют.\n",
    "\n",
    "* **Обработка пропусков**\n",
    "\n",
    "В таблице событий в столбце `details` присутствуют пропуски. Поскольку `details` это дополнительные данные о событии, выведем для начала названия уникальных событий и разберем, что они могут означать. "
   ]
  },
  {
   "cell_type": "code",
   "execution_count": 11,
   "metadata": {},
   "outputs": [
    {
     "data": {
      "text/html": [
       "<div>\n",
       "<style scoped>\n",
       "    .dataframe tbody tr th:only-of-type {\n",
       "        vertical-align: middle;\n",
       "    }\n",
       "\n",
       "    .dataframe tbody tr th {\n",
       "        vertical-align: top;\n",
       "    }\n",
       "\n",
       "    .dataframe thead tr th {\n",
       "        text-align: left;\n",
       "    }\n",
       "\n",
       "    .dataframe thead tr:last-of-type th {\n",
       "        text-align: right;\n",
       "    }\n",
       "</style>\n",
       "<table border=\"1\" class=\"dataframe\">\n",
       "  <thead>\n",
       "    <tr>\n",
       "      <th></th>\n",
       "      <th colspan=\"8\" halign=\"left\">details</th>\n",
       "    </tr>\n",
       "    <tr>\n",
       "      <th></th>\n",
       "      <th>count</th>\n",
       "      <th>mean</th>\n",
       "      <th>std</th>\n",
       "      <th>min</th>\n",
       "      <th>25%</th>\n",
       "      <th>50%</th>\n",
       "      <th>75%</th>\n",
       "      <th>max</th>\n",
       "    </tr>\n",
       "    <tr>\n",
       "      <th>event_name</th>\n",
       "      <th></th>\n",
       "      <th></th>\n",
       "      <th></th>\n",
       "      <th></th>\n",
       "      <th></th>\n",
       "      <th></th>\n",
       "      <th></th>\n",
       "      <th></th>\n",
       "    </tr>\n",
       "  </thead>\n",
       "  <tbody>\n",
       "    <tr>\n",
       "      <th>login</th>\n",
       "      <td>0.0</td>\n",
       "      <td>NaN</td>\n",
       "      <td>NaN</td>\n",
       "      <td>NaN</td>\n",
       "      <td>NaN</td>\n",
       "      <td>NaN</td>\n",
       "      <td>NaN</td>\n",
       "      <td>NaN</td>\n",
       "    </tr>\n",
       "    <tr>\n",
       "      <th>product_cart</th>\n",
       "      <td>0.0</td>\n",
       "      <td>NaN</td>\n",
       "      <td>NaN</td>\n",
       "      <td>NaN</td>\n",
       "      <td>NaN</td>\n",
       "      <td>NaN</td>\n",
       "      <td>NaN</td>\n",
       "      <td>NaN</td>\n",
       "    </tr>\n",
       "    <tr>\n",
       "      <th>product_page</th>\n",
       "      <td>0.0</td>\n",
       "      <td>NaN</td>\n",
       "      <td>NaN</td>\n",
       "      <td>NaN</td>\n",
       "      <td>NaN</td>\n",
       "      <td>NaN</td>\n",
       "      <td>NaN</td>\n",
       "      <td>NaN</td>\n",
       "    </tr>\n",
       "    <tr>\n",
       "      <th>purchase</th>\n",
       "      <td>62740.0</td>\n",
       "      <td>23.877631</td>\n",
       "      <td>72.180465</td>\n",
       "      <td>4.99</td>\n",
       "      <td>4.99</td>\n",
       "      <td>4.99</td>\n",
       "      <td>9.99</td>\n",
       "      <td>499.99</td>\n",
       "    </tr>\n",
       "  </tbody>\n",
       "</table>\n",
       "</div>"
      ],
      "text/plain": [
       "              details                                                      \n",
       "                count       mean        std   min   25%   50%   75%     max\n",
       "event_name                                                                 \n",
       "login             0.0        NaN        NaN   NaN   NaN   NaN   NaN     NaN\n",
       "product_cart      0.0        NaN        NaN   NaN   NaN   NaN   NaN     NaN\n",
       "product_page      0.0        NaN        NaN   NaN   NaN   NaN   NaN     NaN\n",
       "purchase      62740.0  23.877631  72.180465  4.99  4.99  4.99  9.99  499.99"
      ]
     },
     "execution_count": 11,
     "metadata": {},
     "output_type": "execute_result"
    }
   ],
   "source": [
    "events.groupby('event_name').describe()"
   ]
  },
  {
   "cell_type": "markdown",
   "metadata": {},
   "source": [
    "Всего в данных имеется 4 события. Можем предположить, что:\n",
    "* `login` - вход\n",
    "* `product_page` - страница товара\n",
    "* `product_cart` - страница корзины с товаром\n",
    "* `purchase` - покупка товара\n",
    "\n",
    "Пропуски присутствуют у всех событий, кроме `purchase`, в которой хранится стоимость покупки в долларах. Поскольку по другим события нечего добавить и это является лишь доп информацией, то пропуски оставим без изменения.\n",
    "\n",
    "**Вывод по разделу:**  \n",
    "\n",
    "В результате предобработки данных:\n",
    "\n",
    "* изменили типы данных в `start_dt`, `finish_dt`, `first_date` и `event_dt`\n",
    "* Пропуски обнаружились во всех событиях, кроме покупки. Не стали ничего менять\n",
    "* Строк-дубликатов не обнаружили"
   ]
  },
  {
   "cell_type": "markdown",
   "metadata": {},
   "source": [
    "<a id=\"corr\"></a>\n",
    "##  Оценка корректности проведения теста\n",
    "\n",
    "**Техническое задание**\n",
    "\n",
    "- Название теста: `recommender_system_test`;\n",
    "- группы: А — контрольная, B — новая платёжная воронка;\n",
    "- дата запуска: 2020-12-07;\n",
    "- дата остановки набора новых пользователей: 2020-12-21;\n",
    "- дата остановки: 2021-01-04;\n",
    "- аудитория: в тест должно быть отобрано 15% новых пользователей из региона EU;\n",
    "- назначение теста: тестирование изменений, связанных с внедрением улучшенной рекомендательной системы;\n",
    "- ожидаемое количество участников теста: 6000.\n",
    "- ожидаемый эффект: за 14 дней с момента регистрации пользователи покажут улучшение каждой метрики не менее, чем на 10%:\n",
    "    - конверсии в просмотр карточек товаров — событие `product_page`,\n",
    "    - просмотры корзины — `product_cart`,\n",
    "    - покупки — `purchase`."
   ]
  },
  {
   "cell_type": "markdown",
   "metadata": {},
   "source": [
    "<a id=\"corr_users\"></a>\n",
    "\n",
    "### Соответствие ТЗ по пользователям"
   ]
  },
  {
   "cell_type": "markdown",
   "metadata": {},
   "source": [
    "    \n",
    "Для начала посмотрим, какие А/В-тесты присутствуют в наших данных и количество участников в каждой из групп."
   ]
  },
  {
   "cell_type": "code",
   "execution_count": 12,
   "metadata": {},
   "outputs": [
    {
     "data": {
      "text/html": [
       "<div>\n",
       "<style scoped>\n",
       "    .dataframe tbody tr th:only-of-type {\n",
       "        vertical-align: middle;\n",
       "    }\n",
       "\n",
       "    .dataframe tbody tr th {\n",
       "        vertical-align: top;\n",
       "    }\n",
       "\n",
       "    .dataframe thead th {\n",
       "        text-align: right;\n",
       "    }\n",
       "</style>\n",
       "<table border=\"1\" class=\"dataframe\">\n",
       "  <thead>\n",
       "    <tr style=\"text-align: right;\">\n",
       "      <th></th>\n",
       "      <th>user_id</th>\n",
       "    </tr>\n",
       "    <tr>\n",
       "      <th>ab_test</th>\n",
       "      <th></th>\n",
       "    </tr>\n",
       "  </thead>\n",
       "  <tbody>\n",
       "    <tr>\n",
       "      <th>interface_eu_test</th>\n",
       "      <td>11567</td>\n",
       "    </tr>\n",
       "    <tr>\n",
       "      <th>recommender_system_test</th>\n",
       "      <td>6701</td>\n",
       "    </tr>\n",
       "  </tbody>\n",
       "</table>\n",
       "</div>"
      ],
      "text/plain": [
       "                         user_id\n",
       "ab_test                         \n",
       "interface_eu_test          11567\n",
       "recommender_system_test     6701"
      ]
     },
     "execution_count": 12,
     "metadata": {},
     "output_type": "execute_result"
    }
   ],
   "source": [
    "participants.groupby(['ab_test']).agg({'user_id': 'count'})"
   ]
  },
  {
   "cell_type": "markdown",
   "metadata": {},
   "source": [
    "В данных присутствуют 2 теста, но нас интересует только один из них - `recommender_system_test`. В нем участвуют 6701 пользователей.     \n",
    "\n",
    "Проверим, есть ли пересечения пользователей в тесте \"recommender_system_test\" между группами."
   ]
  },
  {
   "cell_type": "code",
   "execution_count": 13,
   "metadata": {},
   "outputs": [
    {
     "name": "stdout",
     "output_type": "stream",
     "text": [
      "Количество пользователей, попавших одновременно в обе группы теста \"recommender_system_test\": 0\n"
     ]
    }
   ],
   "source": [
    "# проверим пользователей на пересечения в тесте \"recommender_system_test\" между группами\n",
    "doubles_users = len(np.intersect1d(participants.query('ab_test == \"recommender_system_test\" and group == \"A\"')['user_id'], \n",
    "                                   participants.query('ab_test == \"recommender_system_test\" and group == \"B\"')['user_id']))\n",
    "\n",
    "print('Количество пользователей, попавших одновременно в обе группы теста \"recommender_system_test\": {}'.format(doubles_users))"
   ]
  },
  {
   "cell_type": "markdown",
   "metadata": {},
   "source": [
    "В нашем тесте пересечений между группами нет. Проверим теперь, есть ли пересечения пользователей между нашим и конкурирующим А/В-тестом."
   ]
  },
  {
   "cell_type": "code",
   "execution_count": 14,
   "metadata": {},
   "outputs": [
    {
     "name": "stdout",
     "output_type": "stream",
     "text": [
      "Количество пользователей, попавших одновременно в оба А/В-теста: 1602\n",
      "Количество уникальных пользователей, принявших участие в тестах: 16666\n",
      "Процент пользователей, попавших одновременно в оба А/В-теста: 9.61%\n"
     ]
    }
   ],
   "source": [
    "# используем np.intersect1d, чтобы найти пересечения в двух массивах, \n",
    "# т.е. пользователей, попавших одновременно в обе группы\n",
    "doubles_users = np.intersect1d(participants.query('ab_test == \"interface_eu_test\"')['user_id'], \n",
    "                               participants.query('ab_test == \"recommender_system_test\"')['user_id'])\n",
    "print(\n",
    "    'Количество пользователей, попавших одновременно в оба А/В-теста: {}\\n'\n",
    "    'Количество уникальных пользователей, принявших участие в тестах: {}\\n'\n",
    "    'Процент пользователей, попавших одновременно в оба А/В-теста: {:.2%}'.format(len(doubles_users),\n",
    "                                                                          participants['user_id'].nunique(), \n",
    "                                                                          len(doubles_users)/participants['user_id'].nunique())\n",
    ")"
   ]
  },
  {
   "cell_type": "markdown",
   "metadata": {},
   "source": [
    "Почти 10% пользователей попало в оба А/В-теста, что составляет 1602 пользователя из 16666 уникальных.  \n",
    "Поскольку контрольная группа А использует неизменненую версию, то мы можем их оставить для нашего теста, но пользователей тестовой группы В, которые попали в оба теста одновременно, удалим из наших данных."
   ]
  },
  {
   "cell_type": "code",
   "execution_count": 15,
   "metadata": {},
   "outputs": [
    {
     "name": "stdout",
     "output_type": "stream",
     "text": [
      "Оставшиееся количество уникальных пользователей, принявших участие в тесте \"recommender_system_test\": 5918\n",
      "Процент потери пользователей после очистки, участвовавших в нашем тесте: 11.68%\n",
      "Количество пользователей, попавших одновременно в обе группы нашего теста: 0\n"
     ]
    }
   ],
   "source": [
    "# заранее сохраним копию датафреймя в переменную. \n",
    "old_participants = participants.copy()\n",
    "\n",
    "# в переменную doubles_users_A сохраним пользователей контрольной группы А конкурирующего теста, \n",
    "# которые пересекались в обоих тестах \n",
    "doubles_users_A = participants.query('user_id in @doubles_users and ab_test == \"interface_eu_test\" and group == \"A\"')['user_id']\n",
    "\n",
    "# сохраняем пользователей пользователей теста \"recommender_system_test\" без пересечений и из переменной doubles_users_A  \n",
    "doubles_users_rs = participants.query(\n",
    "    '(ab_test == \"recommender_system_test\" and user_id not in @doubles_users) or user_id in @doubles_users_A')['user_id']\n",
    "\n",
    "# оставим пользователей из doubles_users_rs только нашего теста\n",
    "participants = participants.query('ab_test == \"recommender_system_test\" and user_id in @doubles_users_rs')\n",
    "\n",
    "# проверим еще раз пересечения между группами нашего теста\n",
    "doubles_users_v2 = np.intersect1d(participants.query('ab_test == \"recommender_system_test\" and group == \"A\"')['user_id'], \n",
    "                                  participants.query('ab_test == \"recommender_system_test\" and group == \"B\"')['user_id'])\n",
    "print(\n",
    "    'Оставшиееся количество уникальных пользователей, принявших участие в тесте \"recommender_system_test\": {}\\n'\n",
    "    'Процент потери пользователей после очистки, участвовавших в нашем тесте: {:.2%}\\n'\n",
    "    'Количество пользователей, попавших одновременно в обе группы нашего теста: {}'.format(\n",
    "        len(participants),\n",
    "        1 - len(participants)/len(old_participants.query('ab_test == \"recommender_system_test\"')),\n",
    "        len(doubles_users_v2))\n",
    ")"
   ]
  },
  {
   "cell_type": "markdown",
   "metadata": {},
   "source": [
    "Процент потери пользователей после очистки, участвовавших в нашем тесте, составил 11.68%. Так у нас осталось в данных 5918 пользователей. Пересечений между группами не обнаружено, значит данные составлены корректно.     \n",
    "Посмотрим, как распределились пользователи по группам и в каком соотношении."
   ]
  },
  {
   "cell_type": "code",
   "execution_count": 16,
   "metadata": {
    "scrolled": false
   },
   "outputs": [
    {
     "data": {
      "image/png": "[encoded data removed]"
     },
     "metadata": {},
     "output_type": "display_data"
    }
   ],
   "source": [
    "# сгрруппируем данные и посчитаем коичество пользователей в каждой группе\n",
    "a_b = participants.groupby(['group']).agg({'user_id': 'nunique'}).reset_index()\n",
    "\n",
    "# выведем круговую диаграмму\n",
    "fig = go.Figure(data=[go.Pie(labels=['А', 'В'], \n",
    "                             values=a_b['user_id'],\n",
    "                             pull=[0.05, 0],\n",
    "                             hole=0.75)])\n",
    "fig.update_layout(width=600,\n",
    "                  height=600,\n",
    "                  annotations=[dict(text='Соотношение пользователей<br> двух групп А/В-теста', \n",
    "                                   x=0.5, \n",
    "                                   y=0.5, \n",
    "                                   font_size=19, \n",
    "                                   showarrow=False)])\n",
    "fig.update_traces(textinfo='percent + value')\n",
    "fig.show()"
   ]
  },
  {
   "cell_type": "markdown",
   "metadata": {},
   "source": [
    "Судя по диаграмме, в тестовой группе В находятся 2533 пользователя, что составляет около 43% от всех пользователей теста, и  3385 относятся к контрольной группе А, что составляет 57% от всех пользователей теста. Группы распределены почти равномерно.   \n",
    "Проверим долю участников теста из Европы относительно всех новых пользователей из Европы."
   ]
  },
  {
   "cell_type": "code",
   "execution_count": 17,
   "metadata": {},
   "outputs": [
    {
     "name": "stdout",
     "output_type": "stream",
     "text": [
      "Количество всего участников теста: 5918\n",
      "Количество участников теста из Европы: 5568\n",
      "Количество новых пользователей из Европы: 46270\n",
      "Процент новых пользователей из региона EU, участвующих в А/В-тесте: 12.03%\n"
     ]
    }
   ],
   "source": [
    "# посчитаем количество участников теста из Европы\n",
    "participants_eu = participants[\"user_id\"]\n",
    "participants_EU = len(users.query('user_id in @participants_eu and region == \"EU\"'))\n",
    "\n",
    "# посчитаем количество новых пользователей из Европы\n",
    "users_EU = len(users.query('region == \"EU\"'))\n",
    "\n",
    "# посчитаем долю\n",
    "print('Количество всего участников теста: {}\\n'\n",
    "      'Количество участников теста из Европы: {}\\n'\n",
    "      'Количество новых пользователей из Европы: {}\\n'\n",
    "      'Процент новых пользователей из региона EU, участвующих в А/В-тесте: {:.2%}'.format(participants['user_id'].nunique(),\n",
    "                                                                                          participants_EU,\n",
    "                                                                                          users_EU,\n",
    "                                                                                          participants_EU/users_EU))"
   ]
  },
  {
   "cell_type": "markdown",
   "metadata": {},
   "source": [
    "Доля новых пользователей из региона EU, участвующих в А/В-тесте составляет 13.15%, что меньше доли по ТЗ равная 15%."
   ]
  },
  {
   "cell_type": "markdown",
   "metadata": {},
   "source": [
    "<a id=\"corr_date\"></a>\n",
    "### Соответствие ТЗ по датам \n",
    "Для начала заранее определим необходимые нам даты отдельно в переменные. И проверим даты запускка и остановки А/В-теста. "
   ]
  },
  {
   "cell_type": "code",
   "execution_count": 18,
   "metadata": {
    "scrolled": true
   },
   "outputs": [
    {
     "name": "stdout",
     "output_type": "stream",
     "text": [
      "Дата запуска: 2020-12-07\n",
      "Дата остановки: 2020-12-30\n"
     ]
    }
   ],
   "source": [
    "# необходимые даты\n",
    "ab_start = dt.date(2020, 12, 7) \n",
    "ab_finish = dt.date(2021, 1, 4)\n",
    "reg_finish = dt.date(2020, 12, 21)\n",
    "\n",
    "\n",
    "print('Дата запуска: {}\\n'\n",
    "      'Дата остановки: {}'.format(events['event_dt'].min(), \n",
    "                                  events['event_dt'].max()))"
   ]
  },
  {
   "cell_type": "markdown",
   "metadata": {},
   "source": [
    "По ТЗ даты запуска и остановки тестирования должны соответствовать 2020-12-07 и 2021-01-04. В нашем случае дата остановки теста является 2020-12-30, т.е. не хватает данных за 4 дня с 31 декабря по 4 января. Возможно тест отключили на праздничные дни, чтобы не исказить результаты.\n",
    "\n",
    "Проверим дату остановки набора новых пользователей."
   ]
  },
  {
   "cell_type": "code",
   "execution_count": 19,
   "metadata": {},
   "outputs": [
    {
     "name": "stdout",
     "output_type": "stream",
     "text": [
      "Минимальная дата регистрации: 2020-12-07\n",
      "Дата остановки набора новых пользователей: 2020-12-21\n"
     ]
    }
   ],
   "source": [
    "print('Минимальная дата регистрации: {}\\n'\n",
    "      'Дата остановки набора новых пользователей: {}'.format(\n",
    "          users.query('user_id in @participants_eu')['first_date'].min(), \n",
    "          users.query('user_id in @participants_eu')['first_date'].max()))"
   ]
  },
  {
   "cell_type": "markdown",
   "metadata": {},
   "source": [
    "Согласно ТЗ дата остановки набора новых пользователей нашего теста должна была поизойти 2020-12-21, поэтому по нашим данным все соответствует.   \n",
    "Теперь проверим, проходили ли в период тестирования маркенговые события, которые могли бы повлиять на результаты теста."
   ]
  },
  {
   "cell_type": "code",
   "execution_count": 20,
   "metadata": {},
   "outputs": [
    {
     "data": {
      "text/html": [
       "<div>\n",
       "<style scoped>\n",
       "    .dataframe tbody tr th:only-of-type {\n",
       "        vertical-align: middle;\n",
       "    }\n",
       "\n",
       "    .dataframe tbody tr th {\n",
       "        vertical-align: top;\n",
       "    }\n",
       "\n",
       "    .dataframe thead th {\n",
       "        text-align: right;\n",
       "    }\n",
       "</style>\n",
       "<table border=\"1\" class=\"dataframe\">\n",
       "  <thead>\n",
       "    <tr style=\"text-align: right;\">\n",
       "      <th></th>\n",
       "      <th>name</th>\n",
       "      <th>regions</th>\n",
       "      <th>start_dt</th>\n",
       "      <th>finish_dt</th>\n",
       "    </tr>\n",
       "  </thead>\n",
       "  <tbody>\n",
       "    <tr>\n",
       "      <th>0</th>\n",
       "      <td>Christmas&amp;New Year Promo</td>\n",
       "      <td>EU, N.America</td>\n",
       "      <td>2020-12-25</td>\n",
       "      <td>2021-01-03</td>\n",
       "    </tr>\n",
       "  </tbody>\n",
       "</table>\n",
       "</div>"
      ],
      "text/plain": [
       "                       name        regions    start_dt   finish_dt\n",
       "0  Christmas&New Year Promo  EU, N.America  2020-12-25  2021-01-03"
      ]
     },
     "execution_count": 20,
     "metadata": {},
     "output_type": "execute_result"
    }
   ],
   "source": [
    "# отфильтруем маркетинговые события\n",
    "marketing = calendar[calendar['regions'].str.contains('EU')]\n",
    "marketing.query('(start_dt < @ab_start and finish_dt > @ab_finish) or (@ab_start <= start_dt <= @ab_finish) or (@ab_start <= finish_dt <= @ab_finish)'\n",
    ")"
   ]
  },
  {
   "cell_type": "markdown",
   "metadata": {},
   "source": [
    "Во время проведения теста прозошло 1 событие, проводимых в Европе - \"Christmas&New Year Promo\" с 25 декабря до 3 января. Данная рекламная компания могла повлиять пользователей и тем самым исказить результаты.    \n",
    "Посмотрим на распределение событий по датам."
   ]
  },
  {
   "cell_type": "code",
   "execution_count": 21,
   "metadata": {},
   "outputs": [
    {
     "data": {
      "image/png": "[encoded data removed]"
     },
     "metadata": {},
     "output_type": "display_data"
    }
   ],
   "source": [
    "# выведем гистограмму распределения количества событий по датам\n",
    "fig = go.Figure(data=[go.Histogram(x=events.query('user_id in @participants_eu')['event_time'], nbinsx=150)])\n",
    "fig.update_layout(title=\"Гистограмма распределения количества событий по датам\")\n",
    "\n",
    "fig.show()"
   ]
  },
  {
   "cell_type": "markdown",
   "metadata": {},
   "source": [
    "На графике заметен только один самый большой пик 21 декабря, хотя в эту дату никакх рекламных событий не происходило. В целом с 25 декабря пиков не наблюдается, поэтому скорее всего предновогодня рекламная компания значительно не повлияла на действия наших пользователей."
   ]
  },
  {
   "cell_type": "markdown",
   "metadata": {},
   "source": [
    "<a id=\"corr_events\"></a>\n",
    "\n",
    "### Соответствие ТЗ по событиям"
   ]
  },
  {
   "cell_type": "code",
   "execution_count": 22,
   "metadata": {},
   "outputs": [
    {
     "name": "stdout",
     "output_type": "stream",
     "text": [
      "Количество пользователей, совершивших событие: 3244\n",
      "Доля пользователей, совершивших событие: 54.82%\n"
     ]
    }
   ],
   "source": [
    "# соединим таблицы по пользователям\n",
    "events_ab = participants[['user_id', 'group']].merge(events, on='user_id', how='inner')\n",
    "\n",
    "# посчиатем количество пользователей, совершивших событие\n",
    "print('Количество пользователей, совершивших событие: {}\\n'\n",
    "      'Доля пользователей, совершивших событие: {:.2%}'.format(events_ab['user_id'].nunique(),\n",
    "                                                           events_ab['user_id'].nunique()/participants['user_id'].nunique()))"
   ]
  },
  {
   "cell_type": "markdown",
   "metadata": {},
   "source": [
    "Всего 3244 пользователей, совершившие то или иное событие, что составляет 54.82% от всех пользователей теста, т.е. чуть больше половины пользователей теста.     \n",
    "Посмотрим, как распределены такие пользователи по группам. "
   ]
  },
  {
   "cell_type": "code",
   "execution_count": 23,
   "metadata": {},
   "outputs": [
    {
     "data": {
      "image/png": "[encoded data removed]"
     },
     "metadata": {},
     "output_type": "display_data"
    }
   ],
   "source": [
    "events_ab = participants[['user_id', 'group']].merge(events, on='user_id')\n",
    "ab = events_ab.groupby(['group']).agg({'user_id': 'nunique'}).reset_index()\n",
    "\n",
    "# выведем круговую диаграмму\n",
    "fig = go.Figure(data=[go.Pie(labels=['А', 'В'], \n",
    "                             values=ab['user_id'],\n",
    "                             pull=[0.05, 0],\n",
    "                             hole=0.75)])\n",
    "fig.update_layout(width=800,\n",
    "                  height=600,\n",
    "                  annotations=[dict(text='Соотношение пользователей<br> двух групп А/В-теста', \n",
    "                                   x=0.5, \n",
    "                                   y=0.5, \n",
    "                                   font_size=19, \n",
    "                                   showarrow=False)])\n",
    "fig.update_traces(textinfo='percent + value')\n",
    "fig.show()"
   ]
  },
  {
   "cell_type": "markdown",
   "metadata": {},
   "source": [
    "Итак, в тестовой группе В совершили события лишь 25,3% пользователей и 74,7% пользователей контрольной группы А от всех пользователей теста. Группы распределены неравномерно. Количество пользователей в группе А в 3 раза превышает количество пользователей группы В.\n",
    "\n",
    "Согласно ТЗ ожидаемый эффект должен произойти за 14 дней с момента регистрации.    \n",
    "Поэтому рассчитаем лайфтайм для каждого пользователя и оставим события, совершенные до 14 дня с момента регистрации пользователя."
   ]
  },
  {
   "cell_type": "code",
   "execution_count": 24,
   "metadata": {},
   "outputs": [
    {
     "data": {
      "text/html": [
       "<div>\n",
       "<style scoped>\n",
       "    .dataframe tbody tr th:only-of-type {\n",
       "        vertical-align: middle;\n",
       "    }\n",
       "\n",
       "    .dataframe tbody tr th {\n",
       "        vertical-align: top;\n",
       "    }\n",
       "\n",
       "    .dataframe thead th {\n",
       "        text-align: right;\n",
       "    }\n",
       "</style>\n",
       "<table border=\"1\" class=\"dataframe\">\n",
       "  <thead>\n",
       "    <tr style=\"text-align: right;\">\n",
       "      <th></th>\n",
       "      <th>user_id</th>\n",
       "      <th>group</th>\n",
       "      <th>event_dt</th>\n",
       "      <th>event_name</th>\n",
       "      <th>details</th>\n",
       "      <th>event_time</th>\n",
       "      <th>first_date</th>\n",
       "      <th>region</th>\n",
       "      <th>device</th>\n",
       "      <th>liftime</th>\n",
       "    </tr>\n",
       "  </thead>\n",
       "  <tbody>\n",
       "    <tr>\n",
       "      <th>0</th>\n",
       "      <td>D1ABA3E2887B6A73</td>\n",
       "      <td>A</td>\n",
       "      <td>2020-12-07</td>\n",
       "      <td>purchase</td>\n",
       "      <td>99.99</td>\n",
       "      <td>2020-12-07 14:43:27</td>\n",
       "      <td>2020-12-07</td>\n",
       "      <td>EU</td>\n",
       "      <td>PC</td>\n",
       "      <td>0</td>\n",
       "    </tr>\n",
       "    <tr>\n",
       "      <th>2</th>\n",
       "      <td>D1ABA3E2887B6A73</td>\n",
       "      <td>A</td>\n",
       "      <td>2020-12-07</td>\n",
       "      <td>product_cart</td>\n",
       "      <td>NaN</td>\n",
       "      <td>2020-12-07 14:43:29</td>\n",
       "      <td>2020-12-07</td>\n",
       "      <td>EU</td>\n",
       "      <td>PC</td>\n",
       "      <td>0</td>\n",
       "    </tr>\n",
       "    <tr>\n",
       "      <th>4</th>\n",
       "      <td>D1ABA3E2887B6A73</td>\n",
       "      <td>A</td>\n",
       "      <td>2020-12-07</td>\n",
       "      <td>product_page</td>\n",
       "      <td>NaN</td>\n",
       "      <td>2020-12-07 14:43:27</td>\n",
       "      <td>2020-12-07</td>\n",
       "      <td>EU</td>\n",
       "      <td>PC</td>\n",
       "      <td>0</td>\n",
       "    </tr>\n",
       "    <tr>\n",
       "      <th>6</th>\n",
       "      <td>D1ABA3E2887B6A73</td>\n",
       "      <td>A</td>\n",
       "      <td>2020-12-07</td>\n",
       "      <td>login</td>\n",
       "      <td>NaN</td>\n",
       "      <td>2020-12-07 14:43:27</td>\n",
       "      <td>2020-12-07</td>\n",
       "      <td>EU</td>\n",
       "      <td>PC</td>\n",
       "      <td>0</td>\n",
       "    </tr>\n",
       "    <tr>\n",
       "      <th>8</th>\n",
       "      <td>A7A3664BD6242119</td>\n",
       "      <td>A</td>\n",
       "      <td>2020-12-20</td>\n",
       "      <td>product_page</td>\n",
       "      <td>NaN</td>\n",
       "      <td>2020-12-20 15:46:06</td>\n",
       "      <td>2020-12-20</td>\n",
       "      <td>EU</td>\n",
       "      <td>iPhone</td>\n",
       "      <td>0</td>\n",
       "    </tr>\n",
       "  </tbody>\n",
       "</table>\n",
       "</div>"
      ],
      "text/plain": [
       "            user_id group    event_dt    event_name  details  \\\n",
       "0  D1ABA3E2887B6A73     A  2020-12-07      purchase    99.99   \n",
       "2  D1ABA3E2887B6A73     A  2020-12-07  product_cart      NaN   \n",
       "4  D1ABA3E2887B6A73     A  2020-12-07  product_page      NaN   \n",
       "6  D1ABA3E2887B6A73     A  2020-12-07         login      NaN   \n",
       "8  A7A3664BD6242119     A  2020-12-20  product_page      NaN   \n",
       "\n",
       "           event_time  first_date region  device  liftime  \n",
       "0 2020-12-07 14:43:27  2020-12-07     EU      PC        0  \n",
       "2 2020-12-07 14:43:29  2020-12-07     EU      PC        0  \n",
       "4 2020-12-07 14:43:27  2020-12-07     EU      PC        0  \n",
       "6 2020-12-07 14:43:27  2020-12-07     EU      PC        0  \n",
       "8 2020-12-20 15:46:06  2020-12-20     EU  iPhone        0  "
      ]
     },
     "execution_count": 24,
     "metadata": {},
     "output_type": "execute_result"
    }
   ],
   "source": [
    "# соединим таблицы по пользователям\n",
    "users_ab = events_ab.merge(users, on='user_id', how='left')\n",
    "\n",
    "# рассчитываем лайфтайм пользователя и сохраняем события до 14 дня с момента регистрации\n",
    "users_ab['liftime'] = (users_ab['event_dt'] - users_ab['first_date']).dt.days\n",
    "ab_test = users_ab.query('liftime <= 14')\n",
    "\n",
    "# две таблица по группам теста\n",
    "a_test = ab_test.query('group == \"A\"')\n",
    "b_test = ab_test.query('group == \"B\"')\n",
    "\n",
    "ab_test.head()"
   ]
  },
  {
   "cell_type": "markdown",
   "metadata": {},
   "source": [
    "С данными выборками мы и будем работать в дальше.\n",
    "\n",
    "**Вывод по разделу:**\n",
    "\n",
    "**Техническое задание**  \n",
    "\n",
    "* Название теста соответствует ТЗ: `recommender_system_test`   \n",
    "\n",
    "\n",
    "* Группы соответствуют ТЗ: А (контрольная), B (новая платёжная воронка)\n",
    "\n",
    "\n",
    "* Дата запуска соответствует ТЗ: 2020-12-07\n",
    "\n",
    "\n",
    "* Дата остановки набора новых пользователей не соответствует ТЗ: 2020-12-21\n",
    "    - ***В данных присутствовали пользователи, зарегистрировавшиеся после 21-12-2020. Таких пользователей отсеили.***\n",
    "\n",
    "\n",
    "* Дата остановкине соответствует ТЗ: 2021-01-04  \n",
    "    - ***В датафрейме отсутствовали данные за 4 дня - с 31 декабря по 4 января.***\n",
    "\n",
    "\n",
    "* Аудитория: 15% новых пользователей из региона EU - не соответствует, факт 13%   \n",
    "    - ***Доля новых пользователей из региона EU, участвовавших в тесте, составляет 13.15%, вместо ожидаемых 15%***\n",
    "\n",
    "\n",
    "* Ожидаемое количество участников теста: 6000\n",
    "    - ***Количество участников теста составило 5918, вместо ожидаемых 6000***\n",
    "\n",
    "\n",
    "* Согласно ТЗ ожидаемый эффект должен произойти за 14 дней с момента регистрации. \n",
    "    - ***Данные подготовлены. Количество участников теста после фильтрации составило 3244*** \n",
    " \n",
    "Реальных данных по количеству пользователей составило чуть больше 50% от ожидаемых"
   ]
  },
  {
   "cell_type": "markdown",
   "metadata": {},
   "source": [
    "<a id=\"research\"></a>\n",
    "## Исследовательский анализ данных"
   ]
  },
  {
   "cell_type": "markdown",
   "metadata": {},
   "source": [
    "<a id=\"analysis_events\"></a>\n",
    "### Анализ событий\n",
    "\n",
    "Посмотрим на распределения количества событий на пользователя."
   ]
  },
  {
   "cell_type": "code",
   "execution_count": 25,
   "metadata": {},
   "outputs": [
    {
     "data": {
      "text/html": [
       "<div>\n",
       "<style scoped>\n",
       "    .dataframe tbody tr th:only-of-type {\n",
       "        vertical-align: middle;\n",
       "    }\n",
       "\n",
       "    .dataframe tbody tr th {\n",
       "        vertical-align: top;\n",
       "    }\n",
       "\n",
       "    .dataframe thead th {\n",
       "        text-align: right;\n",
       "    }\n",
       "</style>\n",
       "<table border=\"1\" class=\"dataframe\">\n",
       "  <thead>\n",
       "    <tr style=\"text-align: right;\">\n",
       "      <th></th>\n",
       "      <th>event_name</th>\n",
       "      <th>user_id</th>\n",
       "      <th>event_per_user</th>\n",
       "    </tr>\n",
       "    <tr>\n",
       "      <th>group</th>\n",
       "      <th></th>\n",
       "      <th></th>\n",
       "      <th></th>\n",
       "    </tr>\n",
       "  </thead>\n",
       "  <tbody>\n",
       "    <tr>\n",
       "      <th>A</th>\n",
       "      <td>16821</td>\n",
       "      <td>2422</td>\n",
       "      <td>6.95</td>\n",
       "    </tr>\n",
       "    <tr>\n",
       "      <th>B</th>\n",
       "      <td>4455</td>\n",
       "      <td>822</td>\n",
       "      <td>5.42</td>\n",
       "    </tr>\n",
       "  </tbody>\n",
       "</table>\n",
       "</div>"
      ],
      "text/plain": [
       "       event_name  user_id  event_per_user\n",
       "group                                     \n",
       "A           16821     2422            6.95\n",
       "B            4455      822            5.42"
      ]
     },
     "metadata": {},
     "output_type": "display_data"
    },
    {
     "name": "stdout",
     "output_type": "stream",
     "text": [
      "Отностительная разница между группами по количеству событий на пользователя: 28.23%\n"
     ]
    }
   ],
   "source": [
    "# сгруппируем данные по группам и посчитаем количество событий и количество уникальных пользователей\n",
    "event_per_user = ab_test.groupby('group').agg({'event_name': 'count', 'user_id': 'nunique'})\n",
    "\n",
    "# посчитаем количество событий на пользователя\n",
    "event_per_user['event_per_user'] = (event_per_user['event_name']/event_per_user['user_id']).round(2)\n",
    "\n",
    "display(event_per_user)\n",
    "\n",
    "print('Отностительная разница между группами по количеству событий на пользователя: {:.2%}'.format(\n",
    "    event_per_user.loc['A','event_per_user']/event_per_user.loc['B','event_per_user'] - 1)\n",
    "     )"
   ]
  },
  {
   "cell_type": "markdown",
   "metadata": {},
   "source": [
    "В группе А пользователи в среднем совершают около 6-7 событий, а пользователи группы В - 5 событий, что на 28% меньше группы А.  \n",
    "Рассмотрим распределение событий по дням. Для этого выведем столбчатый график по сгруппированной таблице."
   ]
  },
  {
   "cell_type": "code",
   "execution_count": 26,
   "metadata": {},
   "outputs": [
    {
     "data": {
      "image/png": "[encoded data removed]"
     },
     "metadata": {},
     "output_type": "display_data"
    },
    {
     "data": {
      "image/png": "[encoded data removed]"
     },
     "metadata": {},
     "output_type": "display_data"
    }
   ],
   "source": [
    "event_date_a = a_test.groupby(['event_dt', 'event_name']).agg({'user_id': 'count'}).reset_index()\n",
    "event_date_b = b_test.groupby(['event_dt', 'event_name']).agg({'user_id': 'count'}).reset_index()\n",
    "\n",
    "figA = px.bar(event_date_a, x='event_dt', y='user_id', color='event_name')\n",
    "figA.update_layout(title_text='График распределения событий по дням для группы А',\n",
    "                  xaxis_title='Дата',\n",
    "                  yaxis_title='Количество событий',\n",
    "                  legend=dict(x=.8,  y=.98),\n",
    "                  legend_title=dict(text = 'События'))\n",
    "figA.show()\n",
    "\n",
    "figB = px.bar(event_date_b, x='event_dt', y='user_id', color='event_name')\n",
    "figB.update_layout(title_text='График распределения событий по дням для группы В',\n",
    "                  xaxis_title='Дата',\n",
    "                  yaxis_title='Количество событий',\n",
    "                  legend=dict(x=.8,  y=.98),\n",
    "                  legend_title=dict(text = 'События'))\n",
    "figB.show()"
   ]
  },
  {
   "cell_type": "markdown",
   "metadata": {},
   "source": [
    "В группе А события распределены более равномерно, чем в группе В. В группе А наблюдается рост только 14 декабря, в то время в группе В рост количества событий происходил скачкообразно вплоть до 21 декабря, что скорее связано с размером выборки. В обеих группах можно заметить самые большие пики 21 декабря, а в группе В еще и 7, 9 и 16 декабря.   \n",
    "Самое большое количество покупок в группе А наблюдается также 21 декабря, а в группе В - 7 и 21 декабря. Возможно в этот день проводились какие-то акции на сайте."
   ]
  },
  {
   "cell_type": "markdown",
   "metadata": {},
   "source": [
    "<a id=\"funnel\"></a>\n",
    "\n",
    "### Воронка событий\n",
    "\n",
    "Посмотрим на изменение конверсии в воронке в выборках на разных этапах. Для этого построим последовательную таблицу событий для каждой из групп."
   ]
  },
  {
   "cell_type": "code",
   "execution_count": 27,
   "metadata": {},
   "outputs": [
    {
     "data": {
      "text/html": [
       "<div>\n",
       "<style scoped>\n",
       "    .dataframe tbody tr th:only-of-type {\n",
       "        vertical-align: middle;\n",
       "    }\n",
       "\n",
       "    .dataframe tbody tr th {\n",
       "        vertical-align: top;\n",
       "    }\n",
       "\n",
       "    .dataframe thead th {\n",
       "        text-align: right;\n",
       "    }\n",
       "</style>\n",
       "<table border=\"1\" class=\"dataframe\">\n",
       "  <thead>\n",
       "    <tr style=\"text-align: right;\">\n",
       "      <th></th>\n",
       "      <th>event_name</th>\n",
       "      <th>count_events</th>\n",
       "      <th>count_users</th>\n",
       "      <th>conversion</th>\n",
       "      <th>conversion_previous</th>\n",
       "    </tr>\n",
       "  </thead>\n",
       "  <tbody>\n",
       "    <tr>\n",
       "      <th>0</th>\n",
       "      <td>login</td>\n",
       "      <td>7450</td>\n",
       "      <td>2422</td>\n",
       "      <td>100.0</td>\n",
       "      <td>100.0</td>\n",
       "    </tr>\n",
       "    <tr>\n",
       "      <th>2</th>\n",
       "      <td>product_page</td>\n",
       "      <td>4804</td>\n",
       "      <td>1571</td>\n",
       "      <td>64.9</td>\n",
       "      <td>64.9</td>\n",
       "    </tr>\n",
       "    <tr>\n",
       "      <th>1</th>\n",
       "      <td>product_cart</td>\n",
       "      <td>2248</td>\n",
       "      <td>728</td>\n",
       "      <td>30.1</td>\n",
       "      <td>94.2</td>\n",
       "    </tr>\n",
       "    <tr>\n",
       "      <th>3</th>\n",
       "      <td>purchase</td>\n",
       "      <td>2319</td>\n",
       "      <td>773</td>\n",
       "      <td>31.9</td>\n",
       "      <td>49.2</td>\n",
       "    </tr>\n",
       "  </tbody>\n",
       "</table>\n",
       "</div>"
      ],
      "text/plain": [
       "     event_name  count_events  count_users  conversion  conversion_previous\n",
       "0         login          7450         2422       100.0                100.0\n",
       "2  product_page          4804         1571        64.9                 64.9\n",
       "1  product_cart          2248          728        30.1                 94.2\n",
       "3      purchase          2319          773        31.9                 49.2"
      ]
     },
     "metadata": {},
     "output_type": "display_data"
    },
    {
     "data": {
      "text/html": [
       "<div>\n",
       "<style scoped>\n",
       "    .dataframe tbody tr th:only-of-type {\n",
       "        vertical-align: middle;\n",
       "    }\n",
       "\n",
       "    .dataframe tbody tr th {\n",
       "        vertical-align: top;\n",
       "    }\n",
       "\n",
       "    .dataframe thead th {\n",
       "        text-align: right;\n",
       "    }\n",
       "</style>\n",
       "<table border=\"1\" class=\"dataframe\">\n",
       "  <thead>\n",
       "    <tr style=\"text-align: right;\">\n",
       "      <th></th>\n",
       "      <th>event_name</th>\n",
       "      <th>count_events</th>\n",
       "      <th>count_users</th>\n",
       "      <th>conversion</th>\n",
       "      <th>conversion_previous</th>\n",
       "    </tr>\n",
       "  </thead>\n",
       "  <tbody>\n",
       "    <tr>\n",
       "      <th>0</th>\n",
       "      <td>login</td>\n",
       "      <td>2184</td>\n",
       "      <td>821</td>\n",
       "      <td>99.9</td>\n",
       "      <td>100.0</td>\n",
       "    </tr>\n",
       "    <tr>\n",
       "      <th>2</th>\n",
       "      <td>product_page</td>\n",
       "      <td>1148</td>\n",
       "      <td>459</td>\n",
       "      <td>55.8</td>\n",
       "      <td>55.9</td>\n",
       "    </tr>\n",
       "    <tr>\n",
       "      <th>1</th>\n",
       "      <td>product_cart</td>\n",
       "      <td>576</td>\n",
       "      <td>225</td>\n",
       "      <td>27.4</td>\n",
       "      <td>99.6</td>\n",
       "    </tr>\n",
       "    <tr>\n",
       "      <th>3</th>\n",
       "      <td>purchase</td>\n",
       "      <td>547</td>\n",
       "      <td>226</td>\n",
       "      <td>27.5</td>\n",
       "      <td>49.2</td>\n",
       "    </tr>\n",
       "  </tbody>\n",
       "</table>\n",
       "</div>"
      ],
      "text/plain": [
       "     event_name  count_events  count_users  conversion  conversion_previous\n",
       "0         login          2184          821        99.9                100.0\n",
       "2  product_page          1148          459        55.8                 55.9\n",
       "1  product_cart           576          225        27.4                 99.6\n",
       "3      purchase           547          226        27.5                 49.2"
      ]
     },
     "metadata": {},
     "output_type": "display_data"
    }
   ],
   "source": [
    "# посчитаем частоту каждого события, количество уникальных пользователей, которые совершали это событие,\n",
    "# переименум столбцы и сортируем события по числу таких пользователей по убыванию для каждой группы\n",
    "funnel_a = a_test.groupby('event_name').agg(\n",
    "    {'event_dt': 'count',  'user_id': 'nunique'}).reset_index().rename(\n",
    "    columns={'event_dt': 'count_events', 'user_id': 'count_users'}).sort_values('count_users', ascending=False)\n",
    "\n",
    "funnel_b = b_test.groupby('event_name').agg(\n",
    "    {'event_dt': 'count',  'user_id': 'nunique'}).reset_index().rename(\n",
    "    columns={'event_dt': 'count_events', 'user_id': 'count_users'}).sort_values('count_users', ascending=False)\n",
    "\n",
    "# посчитаем долю пользователей, которые хоть раз совершали событие\n",
    "funnel_a['conversion'] = round(funnel_a['count_users']/a_test['user_id'].nunique() * 100, 1)\n",
    "funnel_b['conversion'] = round(funnel_b['count_users']/b_test['user_id'].nunique() * 100, 1)\n",
    "\n",
    "# посчситаем долю пользователей, которые проходят на следующий шаг воронки от числа пользователей на предыдущем\n",
    "funnel_a['conversion_previous'] = round(funnel_a['count_users']/funnel_a['count_users'].shift(periods=1).fillna(2422) * 100, 1)\n",
    "funnel_b['conversion_previous'] = round(funnel_b['count_users']/funnel_b['count_users'].shift(periods=1).fillna(821) * 100, 1)\n",
    "funnel_a, funnel_b = funnel_a.reindex([0,2,1,3]), funnel_b.reindex([0,2,1,3])\n",
    "\n",
    "display(funnel_a, funnel_b)"
   ]
  },
  {
   "cell_type": "code",
   "execution_count": 28,
   "metadata": {},
   "outputs": [
    {
     "data": {
      "image/png": "[encoded data removed]"
     },
     "metadata": {},
     "output_type": "display_data"
    }
   ],
   "source": [
    "fig = go.Figure()\n",
    "# по воронке событий визуализируем количество и долю пользователей группы А, которые проходят на следующий шаг воронки\n",
    "fig.add_trace(go.Funnel(\n",
    "    y=funnel_a['event_name'], x=funnel_a['count_users'], textinfo = 'value+percent previous+percent initial', name='Группа А'))\n",
    "fig.add_trace(go.Funnel(\n",
    "    y=funnel_b['event_name'], x=funnel_b['count_users'], textinfo = 'value+percent previous+percent initial', name='Группа B'))\n",
    "fig.update_layout(title=\"Воронка событий\")\n",
    "\n",
    "fig.show()"
   ]
  },
  {
   "cell_type": "markdown",
   "metadata": {},
   "source": [
    "Итак, самым часто встречаемым событием является `login` - авторизация/вход, после чего `product_page` - просмотр страницы предложений/товара, далее у групп идет расхождение - у группы В `product_cart` - открытие страницы корзины, следом за ней `purchase` - покупка, но у группы А наоборот - чаще идет сразу `purchase` - покупка и на самом последнем месте `product_cart` - открытие страницы корзины.  \n",
    "\n",
    "Можно заметить, что порядок событий по количеству уникальных пользователей и их доле абсолютно одинаковый у двух групп.\n",
    "Так, до этапа открытия страницы корзины доходят почти 27-30% пользователей в обоих группах, а до покупки немного даже больше - около 28-32% пользователей. Скорее всего открытие корзины не обязательно и есть возможность купить товар в один клик, поэтому переход к покупке может быть с большей конверсией.\n",
    "\n",
    "В общем конверсия группы А, не смотря на размер выборок, лучше конверсии группы В, поэтому ожидаемый эффект увеличения конверсии пользователей не менее, чем на 10%, не оправдался.\n",
    "\n",
    "**Вывод по разделу**\n",
    "\n",
    "* В группе А пользователи в среднем совершают около 6-7 событий, а пользователи группы В - 5 событий, что на 28% меньше группы А.\n",
    "* В группе А события распределены более равномерно, чем в группе В. В обеих группах можно заметить самые большие пики 21 декабря, а в группе В еще и 7, 9 и 16 декабря. Самое большое количество покупок в группе А наблюдается также 21 декабря, а в группе В - 7 и 21 декабря. Возможно в этот день проводились какие-то акции на сайте.\n",
    "* Так, до этапа открытия страницы корзины доходят почти 27-30% пользователей в обоих группах, а до покупки немного даже больше - около 28-32% пользователей. Скорее всего открытие корзины не обязательно и есть возможность купить товар в один клик, поэтому переход к покупке может быть с большей конверсией. Конверсия группы А, не смотря на размер выборок, лучше конверсии группы В, поэтому ожидаемый эффект увеличения конверсии пользователей не менее, чем на 10%, не оправдался.\n"
   ]
  },
  {
   "cell_type": "markdown",
   "metadata": {},
   "source": [
    "<a id=\"stats\"></a>\n",
    "\n",
    "## Оценка результатов A/B-тестирования\n",
    "\n",
    "Проанализируем А/В-тест с использованием функции `z_test()` и дополнительного цикла.\n",
    "\n",
    "Сформулируем гипотезы:\n",
    "\n",
    "* Гипотеза H0: Различия в долях отсутствуют\n",
    "* Гипотеза H1: Различия в долях присутствуют\n",
    "\n",
    "Для начала создадим сводную таблицу количества пользователей каждой группы на каждом событии, а также добавим в таблицу всего пользователей, всего пользователей на каждом событии."
   ]
  },
  {
   "cell_type": "code",
   "execution_count": 29,
   "metadata": {},
   "outputs": [
    {
     "data": {
      "text/html": [
       "<div>\n",
       "<style scoped>\n",
       "    .dataframe tbody tr th:only-of-type {\n",
       "        vertical-align: middle;\n",
       "    }\n",
       "\n",
       "    .dataframe tbody tr th {\n",
       "        vertical-align: top;\n",
       "    }\n",
       "\n",
       "    .dataframe thead th {\n",
       "        text-align: right;\n",
       "    }\n",
       "</style>\n",
       "<table border=\"1\" class=\"dataframe\">\n",
       "  <thead>\n",
       "    <tr style=\"text-align: right;\">\n",
       "      <th></th>\n",
       "      <th>event_name</th>\n",
       "      <th>A</th>\n",
       "      <th>B</th>\n",
       "      <th>All</th>\n",
       "    </tr>\n",
       "  </thead>\n",
       "  <tbody>\n",
       "    <tr>\n",
       "      <th>0</th>\n",
       "      <td>All</td>\n",
       "      <td>2422</td>\n",
       "      <td>822</td>\n",
       "      <td>3244</td>\n",
       "    </tr>\n",
       "    <tr>\n",
       "      <th>1</th>\n",
       "      <td>login</td>\n",
       "      <td>2422</td>\n",
       "      <td>821</td>\n",
       "      <td>3243</td>\n",
       "    </tr>\n",
       "    <tr>\n",
       "      <th>2</th>\n",
       "      <td>product_page</td>\n",
       "      <td>1571</td>\n",
       "      <td>459</td>\n",
       "      <td>2030</td>\n",
       "    </tr>\n",
       "    <tr>\n",
       "      <th>3</th>\n",
       "      <td>product_cart</td>\n",
       "      <td>728</td>\n",
       "      <td>225</td>\n",
       "      <td>953</td>\n",
       "    </tr>\n",
       "    <tr>\n",
       "      <th>4</th>\n",
       "      <td>purchase</td>\n",
       "      <td>773</td>\n",
       "      <td>226</td>\n",
       "      <td>999</td>\n",
       "    </tr>\n",
       "  </tbody>\n",
       "</table>\n",
       "</div>"
      ],
      "text/plain": [
       "     event_name     A    B   All\n",
       "0           All  2422  822  3244\n",
       "1         login  2422  821  3243\n",
       "2  product_page  1571  459  2030\n",
       "3  product_cart   728  225   953\n",
       "4      purchase   773  226   999"
      ]
     },
     "execution_count": 29,
     "metadata": {},
     "output_type": "execute_result"
    }
   ],
   "source": [
    "# создадим сводную таблицу количества пользователей каждой группы на каждом событии\n",
    "# сортируем по убыванию общего числа пользователей и сбросим индексы\n",
    "pivot_ab = ab_test.pivot_table(\n",
    "    index='event_name', columns='group', values='user_id', aggfunc='nunique', margins=True\n",
    ").sort_values('All', ascending=False).reset_index()\n",
    "\n",
    "# переименуем столбцы\n",
    "pivot_ab.columns = ['event_name', 'A', 'B', 'All']\n",
    "\n",
    "pivot_ab = pivot_ab.reindex([0,1,2,4,3]).reset_index(drop=True)\n",
    "pivot_ab"
   ]
  },
  {
   "cell_type": "markdown",
   "metadata": {},
   "source": [
    "Далее создадим функцию для проверки гипотезы о равенстве долей, которая принимает на вход строку события, первую группу и вторую группу эксперимента, а на выход выдает результат проверки гипотез:"
   ]
  },
  {
   "cell_type": "code",
   "execution_count": 30,
   "metadata": {},
   "outputs": [],
   "source": [
    "def z_test(event, group1, group2):\n",
    "    \n",
    "    # критический уровень статистической значимости\n",
    "    alpha = .05 \n",
    "    # поправка Бинферрони\n",
    "    alpha_binferroni = alpha/4\n",
    "    \n",
    "    successes1 = pivot_ab.loc[event, group1]\n",
    "    successes2 = pivot_ab.loc[event, group2]\n",
    "    trials1 = pivot_ab.loc[0, group1]\n",
    "    trials2 = pivot_ab.loc[0, group2]\n",
    "    \n",
    "    # пропорция успехов в первой группе:\n",
    "    p1 = successes1/trials1\n",
    "    \n",
    "    # пропорция успехов во второй группе:\n",
    "    p2 = successes2/trials2\n",
    "    \n",
    "    # пропорция успехов в комбинированном датасете:\n",
    "    p_combined = (successes1 + successes2) / (trials1 + trials2)\n",
    "    \n",
    "    # разница пропорций в датасетах\n",
    "    difference = p1 - p2 \n",
    "    \n",
    "    # считаем статистику в ст.отклонениях стандартного нормального распределения\n",
    "    z_value = difference / mth.sqrt(p_combined * (1 - p_combined) * (1/trials1 + 1/trials2))\n",
    "    \n",
    "    # задаем стандартное нормальное распределение (среднее 0, ст.отклонение 1)\n",
    "    distr = stats.norm(0, 1)\n",
    "    \n",
    "    p_value = (1 - distr.cdf(abs(z_value))) * 2\n",
    "    \n",
    "    print('p-значение: ', p_value)\n",
    "    \n",
    "    if p_value < alpha_binferroni:\n",
    "        print('Отвергаем нулевую гипотезу: между долями есть значимая разница')\n",
    "        \n",
    "    else:\n",
    "        print('Не получилось отвергнуть нулевую гипотезу, нет оснований считать доли разными') "
   ]
  },
  {
   "cell_type": "markdown",
   "metadata": {},
   "source": [
    " Осталось написанной функией пройтись по событиям с помощью цикла и вывести результат A/B-тестирования."
   ]
  },
  {
   "cell_type": "code",
   "execution_count": 31,
   "metadata": {},
   "outputs": [
    {
     "name": "stdout",
     "output_type": "stream",
     "text": [
      "СРАВНЕНИЕ ГРУПП - A и B:\n",
      "\n",
      "Для события login:\n",
      "p-значение:  0.08601687380547407\n",
      "Не получилось отвергнуть нулевую гипотезу, нет оснований считать доли разными\n",
      "\n",
      "Для события product_page:\n",
      "p-значение:  3.8415005565450855e-06\n",
      "Отвергаем нулевую гипотезу: между долями есть значимая разница\n",
      "\n",
      "Для события product_cart:\n",
      "p-значение:  0.14412076974264498\n",
      "Не получилось отвергнуть нулевую гипотезу, нет оснований считать доли разными\n",
      "\n",
      "Для события purchase:\n",
      "p-значение:  0.01764968717521609\n",
      "Не получилось отвергнуть нулевую гипотезу, нет оснований считать доли разными\n",
      "\n"
     ]
    }
   ],
   "source": [
    "# создадим список уникаальных событий в правильной последовательности\n",
    "event_name = ['login', 'product_page', 'product_cart', 'purchase']\n",
    "\n",
    "print(f'СРАВНЕНИЕ ГРУПП - A и B:')\n",
    "print()\n",
    "for event, name in enumerate(event_name, start=1):\n",
    "    print(f'Для события {name}:')\n",
    "    z_test(event, 'A', 'B')\n",
    "    print()\n",
    "  "
   ]
  },
  {
   "cell_type": "markdown",
   "metadata": {},
   "source": [
    "**Вывод**\n",
    "\n",
    "Таким образом, сравнение групп по событиям показало статистические значимые различия между группами есть только на этапе просмотров страницы предложений/товара `product_page`, что дает оснований считать доли разными, следовательно, отвергаем нулевую гипотезу, а при входе, просмотре корзины и покупке статистически значимых различий нет.\n",
    "\n",
    "Мы провели 4 проверки в А/В-тесте. При множественном сравнении, чтобы снизить вероятность ложнопозитивного результата (ошибки первого рода), уменьшая уровень значимости, мы использовали поправку Бонферрони. Тем самым, мы снизили уровень статистической значимости до 0,0125.\n",
    "\n",
    "Однако исходя из выше проведенного исследования можно сказать о том, что статистически значимые различия говорят лишь о понижении конверсии группы В. Исходя из этого, можно сделать вывод, что тестовые изменения показали противоположный результат."
   ]
  },
  {
   "cell_type": "markdown",
   "metadata": {},
   "source": [
    "<a id=\"rec\"></a>\n",
    "\n",
    "## Общий вывод"
   ]
  },
  {
   "cell_type": "markdown",
   "metadata": {},
   "source": [
    "<div class=\"alert alert-info\">   \n",
    "\n",
    "------------------------------------------------------------------------------------------------------------------------------\n",
    "    \n",
    "**1. Была изучена общая информация о датафреймах.**\n",
    "    \n",
    "Файл, содержащий информацию о участниках тестов, имеет всего 18268 записи и 3 столбца.\n",
    "Файл, содержащий информацию о маркетинговых событиях на 2020 год, имеет всего 14 записей и 4 столбца. \n",
    "Файл, содержащий информацию о всех пользователях, зарегистрировавшихся в интернет-магазине в период с 7 по 21 декабря 2020 года, имеет всего 61733 записи и 4 столбца.\n",
    "Файл, содержащий информацию о событиях новых пользователей в период с 7 декабря 2020 по 4 января 2021 года, имеет всего 440317 записей и 4 столбца. \n",
    "\n",
    "-----------------------------------------------------------------------------------------------------------------------------  \n",
    "    \n",
    "**2. В разделе предобратоки данных:**\n",
    "\n",
    "\n",
    "* изменили типы данных в `start_dt`, `finish_dt`, `first_date` и `event_dt`\n",
    "* Пропуски обнаружились во всех событиях, кроме покупки. Не стали ничего менять\n",
    "* Строк-дубликатов не обнаружили\n",
    "    \n",
    "-------------------------------------------------------------------------------------------------------------------------------\n",
    "    \n",
    "**3. Оценка корректности проведения теста:**\n",
    "\n",
    "**Техническое задание**  \n",
    "\n",
    "* Название теста соответствует ТЗ: `recommender_system_test`   \n",
    "\n",
    "\n",
    "* Группы соответствуют ТЗ: А (контрольная), B (новая платёжная воронка)\n",
    "\n",
    "\n",
    "* Дата запуска соответствует ТЗ: 2020-12-07\n",
    "\n",
    "\n",
    "* Дата остановки набора новых пользователей не соответствует ТЗ: 2020-12-21\n",
    "    - ***В данных присутствовали пользователи, зарегистрировавшиеся после 21-12-2020. Таких пользователей отсеили.***\n",
    "\n",
    "\n",
    "* Дата остановки не соответствует ТЗ: 2021-01-04\n",
    "    - ***В датафрейме отсутствовали данные за 4 дня - с 31 декабря по 4 января.***\n",
    "\n",
    "\n",
    "* Аудитория: 15% новых пользователей из региона EU - не соответствует, факт 13%   \n",
    "    - ***Доля новых пользователей из региона EU, участвовавших в тесте, составляет 13.15%, вместо ожидаемых 15%***\n",
    "\n",
    "\n",
    "* Ожидаемое количество участников теста: 6000\n",
    "    - ***Количество участников теста составило 5918, вместо ожидаемых 6000***\n",
    "\n",
    "\n",
    "*  Ожидаемый эффект: за 14 дней с момента регистрации пользователи покажут улучшение каждой метрики не менее, чем на 10%:\n",
    "    - конверсии в просмотр карточек товаров — событие `product_page`,\n",
    "    - просмотры корзины — `product_cart`,\n",
    "    - покупки — `purchase`. \n",
    "    ***Количество участников теста после фильтрации составило 3244. Ожидаемый эффект увеличения конверсии пользователей не менее, чем на 10%, не оправдался*** \n",
    " \n",
    "    \n",
    "Всего 3244 пользователей, совершившие то или иное событие, что составляет 54.82% от всех пользователей теста, т.е. чуть больше половины пользователей теста.   \n",
    "В тестовой группе В совершили события лишь 25,3% пользователей и 74,7% пользователей контрольной группы А от всех пользователей теста. Группы распределены неравномерно. \n",
    "Количество пользователей в группе А в 3 раза превышает количество пользователей группы В.\n",
    "    \n",
    "Реальных данных по количеству пользователей составило чуть больше 50% от ожидаемых.\n",
    "\n",
    "-------------------------------------------------------------------------------------------------------------------------------\n",
    "    \n",
    "**4. Исследовательский анализа данных**  \n",
    "    \n",
    "* В группе А пользователи в среднем совершают около 6-7 событий, а пользователи группы В - 5 событий, что на 28% меньше группы А.\n",
    "    \n",
    "* В группе А события распределены более равномерно, чем в группе В. \n",
    "    \n",
    "* Самым часто встречаемым событием является `login` - авторизация/вход, после чего `product_page` - просмотр страницы предложений/товара, далее у групп идет расхождение - у группы В `product_cart` - открытие страницы корзины, следом за ней `purchase` - покупка, но у группы А наоборот - чаще идет сразу `purchase` - покупка и на самом последнем месте `product_cart` - открытие страницы корзины.  \n",
    "\n",
    "Так, до этапа открытия страницы корзины доходят почти 27-30% пользователей в обоих группах, а до покупки немного даже больше - около 28-32% пользователей. Скорее всего открытие корзины не обязательно и есть возможность купить товар в один клик, поэтому переход к покупке может быть с большей конверсией.\n",
    "\n",
    "Таким образом, конверсия группы А, не смотря на размер выборок, лучше конверсии группы В, поэтому ожидаемый эффект увеличения конверсии пользователей не менее, чем на 10%, не оправдался.\n",
    " \n",
    "---------------------------------------------------------------------------------------------------------------------------    \n",
    "\n",
    "**5. Статистический аналих данных**\n",
    "    \n",
    "* Сформулируем гипотезы:\n",
    "\n",
    "    * Гипотеза H0: Различия в долях отсутствуют\n",
    "    * Гипотеза H1: Различия в долях присутствуют\n",
    "\n",
    "    Вывод: \n",
    "    - Различия по долям между группами участников статистически значимы только на этапах просмотров страницы предложений/товара `product_page` и покупок `purchase`, что дает оснований считать доли разными, следовательно, отвергаем нулевую гипотезу, а при просмотре корзины статистически значимых различий нет.;\n",
    "    - Однако исходя конверсии можно сказать о том, что статистически значимые различия говорят лишь о понижении конверсии группы В. Исходя из этого, можно сделать вывод, что тестовые изменения показали противоположный результат.    \n",
    "---------------------------------------------------------------------------------------------------------------------------    \n",
    "    \n",
    "**Вывод и рекомендации:**\n",
    "\n",
    "Сложно назвать проведение данного теста корректным решением.   \n",
    "Доля новых пользователей из региона EU, участвовавших в тесте, составляет 13.15%, вместо ожидаемых 15%   \n",
    "Количество участников теста составило 5918, вместо ожидаемых 6000.      \n",
    "Всего 3244 пользователей, совершившие то или иное событие, что составляет 54.82% от всех пользователей теста.        \n",
    "Реальных данных по количеству пользователей составило чуть больше 50% от ожидаемых.         \n",
    "Ожидаемый эффект увеличения конверсии пользователей не менее, чем на 10%, не оправдался и дал обратный эффект.       \n",
    "    \n",
    "Данных не достаточно, чтобы делать какой-то однозначный вывод. Также стоит учитывать, что в данных присутствуют праздничные дни, которые из-за ажиотажа могут исказить результаты исследования. Более того, на период проведения тестирования выпали маркетинговые рекламные компании, что тоже могло исказить результаты.\n",
    "Также стоит отметить, что данные по группам были распределены неравномерно, а в обоих тестах находились пересечения по пользователям. \n",
    "    \n",
    "Таким образом, ожидаемого эффекта рекомендательная система не достигла."
   ]
  }
 ],
 "metadata": {
  "ExecuteTimeLog": [
   {
    "duration": 1550,
    "start_time": "2023-06-14T06:21:50.579Z"
   },
   {
    "duration": 1102,
    "start_time": "2023-06-14T06:39:35.418Z"
   },
   {
    "duration": 6,
    "start_time": "2023-06-14T06:40:09.075Z"
   },
   {
    "duration": 178,
    "start_time": "2023-06-14T06:40:40.907Z"
   },
   {
    "duration": 4,
    "start_time": "2023-06-14T06:41:06.073Z"
   },
   {
    "duration": 47,
    "start_time": "2023-06-14T06:41:08.180Z"
   },
   {
    "duration": 137,
    "start_time": "2023-06-14T06:44:26.081Z"
   },
   {
    "duration": 700,
    "start_time": "2023-06-14T06:44:27.065Z"
   },
   {
    "duration": 64,
    "start_time": "2023-06-14T06:44:27.927Z"
   },
   {
    "duration": 5,
    "start_time": "2023-06-14T06:47:03.334Z"
   },
   {
    "duration": 35,
    "start_time": "2023-06-14T06:47:04.180Z"
   },
   {
    "duration": 101,
    "start_time": "2023-06-14T06:47:10.707Z"
   },
   {
    "duration": 5,
    "start_time": "2023-06-14T06:47:39.423Z"
   },
   {
    "duration": 42,
    "start_time": "2023-06-14T06:47:40.020Z"
   },
   {
    "duration": 11,
    "start_time": "2023-06-14T06:58:39.129Z"
   },
   {
    "duration": 6,
    "start_time": "2023-06-14T07:25:13.360Z"
   },
   {
    "duration": 31,
    "start_time": "2023-06-14T07:25:30.806Z"
   },
   {
    "duration": 40,
    "start_time": "2023-06-14T07:28:33.031Z"
   },
   {
    "duration": 1505,
    "start_time": "2023-06-14T07:36:28.385Z"
   },
   {
    "duration": 1406,
    "start_time": "2023-06-14T07:38:20.650Z"
   },
   {
    "duration": 107,
    "start_time": "2023-06-14T07:38:53.999Z"
   },
   {
    "duration": 8,
    "start_time": "2023-06-14T07:41:08.962Z"
   },
   {
    "duration": 5,
    "start_time": "2023-06-14T07:41:30.771Z"
   },
   {
    "duration": 36,
    "start_time": "2023-06-14T07:42:37.611Z"
   },
   {
    "duration": 7,
    "start_time": "2023-06-14T07:42:38.463Z"
   },
   {
    "duration": 98,
    "start_time": "2023-06-14T07:43:26.644Z"
   },
   {
    "duration": 6,
    "start_time": "2023-06-14T07:43:27.525Z"
   },
   {
    "duration": 6,
    "start_time": "2023-06-14T07:45:00.170Z"
   },
   {
    "duration": 8,
    "start_time": "2023-06-14T07:45:13.402Z"
   },
   {
    "duration": 219,
    "start_time": "2023-06-14T07:48:05.483Z"
   },
   {
    "duration": 249,
    "start_time": "2023-06-14T07:49:24.788Z"
   },
   {
    "duration": 238,
    "start_time": "2023-06-14T07:49:44.279Z"
   },
   {
    "duration": 1287,
    "start_time": "2023-06-14T07:50:39.855Z"
   },
   {
    "duration": 566,
    "start_time": "2023-06-14T07:50:41.146Z"
   },
   {
    "duration": 4,
    "start_time": "2023-06-14T07:50:41.715Z"
   },
   {
    "duration": 54,
    "start_time": "2023-06-14T07:50:41.721Z"
   },
   {
    "duration": 144,
    "start_time": "2023-06-14T07:50:41.776Z"
   },
   {
    "duration": 700,
    "start_time": "2023-06-14T07:50:41.922Z"
   },
   {
    "duration": 58,
    "start_time": "2023-06-14T07:50:42.624Z"
   },
   {
    "duration": 109,
    "start_time": "2023-06-14T07:50:42.684Z"
   },
   {
    "duration": 204,
    "start_time": "2023-06-14T07:50:42.796Z"
   },
   {
    "duration": 6,
    "start_time": "2023-06-14T07:50:43.003Z"
   },
   {
    "duration": 20,
    "start_time": "2023-06-14T07:50:43.011Z"
   },
   {
    "duration": 21,
    "start_time": "2023-06-14T07:50:43.033Z"
   },
   {
    "duration": 27,
    "start_time": "2023-06-14T07:50:43.056Z"
   },
   {
    "duration": 51,
    "start_time": "2023-06-14T07:50:43.085Z"
   },
   {
    "duration": 30,
    "start_time": "2023-06-14T07:50:43.138Z"
   },
   {
    "duration": 106,
    "start_time": "2023-06-14T07:58:43.223Z"
   },
   {
    "duration": 136,
    "start_time": "2023-06-14T07:58:46.444Z"
   },
   {
    "duration": 42,
    "start_time": "2023-06-14T07:58:51.260Z"
   },
   {
    "duration": 102,
    "start_time": "2023-06-14T07:59:12.216Z"
   },
   {
    "duration": 33,
    "start_time": "2023-06-14T08:01:07.596Z"
   },
   {
    "duration": 6,
    "start_time": "2023-06-14T08:01:10.110Z"
   },
   {
    "duration": 1269,
    "start_time": "2023-06-14T08:01:24.450Z"
   },
   {
    "duration": 580,
    "start_time": "2023-06-14T08:01:25.721Z"
   },
   {
    "duration": 4,
    "start_time": "2023-06-14T08:01:26.304Z"
   },
   {
    "duration": 62,
    "start_time": "2023-06-14T08:01:26.310Z"
   },
   {
    "duration": 155,
    "start_time": "2023-06-14T08:01:26.374Z"
   },
   {
    "duration": 715,
    "start_time": "2023-06-14T08:01:26.531Z"
   },
   {
    "duration": 76,
    "start_time": "2023-06-14T08:01:27.249Z"
   },
   {
    "duration": 142,
    "start_time": "2023-06-14T08:01:27.327Z"
   },
   {
    "duration": 244,
    "start_time": "2023-06-14T08:01:27.471Z"
   },
   {
    "duration": 6,
    "start_time": "2023-06-14T08:01:27.718Z"
   },
   {
    "duration": 11,
    "start_time": "2023-06-14T08:01:27.726Z"
   },
   {
    "duration": 137,
    "start_time": "2023-06-14T08:01:27.739Z"
   },
   {
    "duration": 32,
    "start_time": "2023-06-14T08:01:27.878Z"
   },
   {
    "duration": 29,
    "start_time": "2023-06-14T08:04:00.218Z"
   },
   {
    "duration": 5,
    "start_time": "2023-06-14T08:04:03.388Z"
   },
   {
    "duration": 170,
    "start_time": "2023-06-14T08:04:16.873Z"
   },
   {
    "duration": 100,
    "start_time": "2023-06-14T08:04:23.075Z"
   },
   {
    "duration": 1529,
    "start_time": "2023-06-14T08:06:25.659Z"
   },
   {
    "duration": 650,
    "start_time": "2023-06-14T08:06:27.190Z"
   },
   {
    "duration": 4,
    "start_time": "2023-06-14T08:06:27.842Z"
   },
   {
    "duration": 55,
    "start_time": "2023-06-14T08:06:27.848Z"
   },
   {
    "duration": 168,
    "start_time": "2023-06-14T08:06:27.905Z"
   },
   {
    "duration": 745,
    "start_time": "2023-06-14T08:06:28.075Z"
   },
   {
    "duration": 67,
    "start_time": "2023-06-14T08:06:28.823Z"
   },
   {
    "duration": 136,
    "start_time": "2023-06-14T08:06:28.892Z"
   },
   {
    "duration": 239,
    "start_time": "2023-06-14T08:06:29.030Z"
   },
   {
    "duration": 7,
    "start_time": "2023-06-14T08:06:29.272Z"
   },
   {
    "duration": 14,
    "start_time": "2023-06-14T08:06:29.280Z"
   },
   {
    "duration": 128,
    "start_time": "2023-06-14T08:06:29.296Z"
   },
   {
    "duration": 41,
    "start_time": "2023-06-14T08:06:29.426Z"
   },
   {
    "duration": 31,
    "start_time": "2023-06-14T08:09:03.746Z"
   },
   {
    "duration": 6,
    "start_time": "2023-06-14T08:09:06.025Z"
   },
   {
    "duration": 28,
    "start_time": "2023-06-14T08:09:11.910Z"
   },
   {
    "duration": 6,
    "start_time": "2023-06-14T08:09:14.958Z"
   },
   {
    "duration": 6,
    "start_time": "2023-06-14T08:10:20.006Z"
   },
   {
    "duration": 116,
    "start_time": "2023-06-14T08:10:32.441Z"
   },
   {
    "duration": 16,
    "start_time": "2023-06-14T08:11:55.544Z"
   },
   {
    "duration": 18,
    "start_time": "2023-06-14T08:12:24.384Z"
   },
   {
    "duration": 135,
    "start_time": "2023-06-14T08:12:40.043Z"
   },
   {
    "duration": 13,
    "start_time": "2023-06-14T08:12:42.619Z"
   },
   {
    "duration": 9,
    "start_time": "2023-06-14T08:13:36.056Z"
   },
   {
    "duration": 120,
    "start_time": "2023-06-14T08:15:41.278Z"
   },
   {
    "duration": 9,
    "start_time": "2023-06-14T08:40:11.282Z"
   },
   {
    "duration": 9,
    "start_time": "2023-06-14T08:40:21.202Z"
   },
   {
    "duration": 7,
    "start_time": "2023-06-14T08:40:32.825Z"
   },
   {
    "duration": 7,
    "start_time": "2023-06-14T08:40:53.988Z"
   },
   {
    "duration": 6,
    "start_time": "2023-06-14T08:42:13.193Z"
   },
   {
    "duration": 7,
    "start_time": "2023-06-14T08:43:34.725Z"
   },
   {
    "duration": 83,
    "start_time": "2023-06-14T08:49:51.050Z"
   },
   {
    "duration": 7,
    "start_time": "2023-06-14T08:49:57.071Z"
   },
   {
    "duration": 12,
    "start_time": "2023-06-14T09:28:04.181Z"
   },
   {
    "duration": 1285,
    "start_time": "2023-06-14T09:28:25.621Z"
   },
   {
    "duration": 590,
    "start_time": "2023-06-14T09:28:26.908Z"
   },
   {
    "duration": 4,
    "start_time": "2023-06-14T09:28:27.500Z"
   },
   {
    "duration": 58,
    "start_time": "2023-06-14T09:28:27.507Z"
   },
   {
    "duration": 122,
    "start_time": "2023-06-14T09:28:27.567Z"
   },
   {
    "duration": 722,
    "start_time": "2023-06-14T09:28:27.691Z"
   },
   {
    "duration": 64,
    "start_time": "2023-06-14T09:28:28.414Z"
   },
   {
    "duration": 155,
    "start_time": "2023-06-14T09:28:28.480Z"
   },
   {
    "duration": 252,
    "start_time": "2023-06-14T09:28:28.637Z"
   },
   {
    "duration": 139,
    "start_time": "2023-06-14T09:28:28.892Z"
   },
   {
    "duration": 14,
    "start_time": "2023-06-14T09:28:29.032Z"
   },
   {
    "duration": 134,
    "start_time": "2023-06-14T09:28:29.048Z"
   },
   {
    "duration": 0,
    "start_time": "2023-06-14T09:28:29.184Z"
   },
   {
    "duration": 0,
    "start_time": "2023-06-14T09:28:29.185Z"
   },
   {
    "duration": 62,
    "start_time": "2023-06-14T09:30:10.321Z"
   },
   {
    "duration": 54,
    "start_time": "2023-06-14T09:30:32.907Z"
   },
   {
    "duration": 36,
    "start_time": "2023-06-14T09:31:27.456Z"
   },
   {
    "duration": 6,
    "start_time": "2023-06-14T09:36:11.818Z"
   },
   {
    "duration": 10,
    "start_time": "2023-06-14T09:49:19.011Z"
   },
   {
    "duration": 10,
    "start_time": "2023-06-14T09:50:25.983Z"
   },
   {
    "duration": 4,
    "start_time": "2023-06-14T09:54:22.249Z"
   },
   {
    "duration": 14,
    "start_time": "2023-06-14T09:54:27.418Z"
   },
   {
    "duration": 579,
    "start_time": "2023-06-14T09:56:04.355Z"
   },
   {
    "duration": 567,
    "start_time": "2023-06-14T09:56:18.755Z"
   },
   {
    "duration": 13,
    "start_time": "2023-06-14T09:57:45.090Z"
   },
   {
    "duration": 11,
    "start_time": "2023-06-14T09:57:50.116Z"
   },
   {
    "duration": 46,
    "start_time": "2023-06-14T10:12:41.200Z"
   },
   {
    "duration": 7,
    "start_time": "2023-06-14T10:15:56.171Z"
   },
   {
    "duration": 28,
    "start_time": "2023-06-14T10:16:08.426Z"
   },
   {
    "duration": 11,
    "start_time": "2023-06-14T10:16:16.931Z"
   },
   {
    "duration": 10,
    "start_time": "2023-06-14T10:16:20.461Z"
   },
   {
    "duration": 210,
    "start_time": "2023-06-14T10:54:11.670Z"
   },
   {
    "duration": 92,
    "start_time": "2023-06-14T10:54:20.871Z"
   },
   {
    "duration": 60,
    "start_time": "2023-06-14T10:54:38.091Z"
   },
   {
    "duration": 107,
    "start_time": "2023-06-14T10:55:21.654Z"
   },
   {
    "duration": 69,
    "start_time": "2023-06-14T10:56:37.400Z"
   },
   {
    "duration": 57,
    "start_time": "2023-06-14T10:57:53.953Z"
   },
   {
    "duration": 14,
    "start_time": "2023-06-14T11:23:14.388Z"
   },
   {
    "duration": 32,
    "start_time": "2023-06-14T11:25:08.188Z"
   },
   {
    "duration": 27,
    "start_time": "2023-06-14T11:26:09.295Z"
   },
   {
    "duration": 25,
    "start_time": "2023-06-14T11:30:38.480Z"
   },
   {
    "duration": 21,
    "start_time": "2023-06-14T11:34:45.858Z"
   },
   {
    "duration": 19,
    "start_time": "2023-06-14T11:34:50.650Z"
   },
   {
    "duration": 27,
    "start_time": "2023-06-14T11:36:06.274Z"
   },
   {
    "duration": 36,
    "start_time": "2023-06-14T11:40:37.899Z"
   },
   {
    "duration": 25,
    "start_time": "2023-06-14T11:40:43.104Z"
   },
   {
    "duration": 16,
    "start_time": "2023-06-14T11:41:33.558Z"
   },
   {
    "duration": 12,
    "start_time": "2023-06-14T11:41:46.004Z"
   },
   {
    "duration": 822,
    "start_time": "2023-06-14T11:41:46.018Z"
   },
   {
    "duration": 4,
    "start_time": "2023-06-14T11:41:46.842Z"
   },
   {
    "duration": 59,
    "start_time": "2023-06-14T11:41:46.848Z"
   },
   {
    "duration": 134,
    "start_time": "2023-06-14T11:41:46.910Z"
   },
   {
    "duration": 788,
    "start_time": "2023-06-14T11:41:47.046Z"
   },
   {
    "duration": 71,
    "start_time": "2023-06-14T11:41:47.836Z"
   },
   {
    "duration": 137,
    "start_time": "2023-06-14T11:41:47.908Z"
   },
   {
    "duration": 250,
    "start_time": "2023-06-14T11:41:48.047Z"
   },
   {
    "duration": 125,
    "start_time": "2023-06-14T11:41:48.299Z"
   },
   {
    "duration": 7,
    "start_time": "2023-06-14T11:41:48.426Z"
   },
   {
    "duration": 29,
    "start_time": "2023-06-14T11:41:48.434Z"
   },
   {
    "duration": 23,
    "start_time": "2023-06-14T11:41:48.467Z"
   },
   {
    "duration": 11,
    "start_time": "2023-06-14T11:41:48.492Z"
   },
   {
    "duration": 23,
    "start_time": "2023-06-14T11:41:48.505Z"
   },
   {
    "duration": 16,
    "start_time": "2023-06-14T11:41:54.874Z"
   },
   {
    "duration": 58,
    "start_time": "2023-06-14T11:42:07.939Z"
   },
   {
    "duration": 29,
    "start_time": "2023-06-14T11:42:09.332Z"
   },
   {
    "duration": 16,
    "start_time": "2023-06-14T11:42:16.471Z"
   },
   {
    "duration": 25,
    "start_time": "2023-06-14T11:42:37.702Z"
   },
   {
    "duration": 1323,
    "start_time": "2023-06-14T11:43:58.934Z"
   },
   {
    "duration": 604,
    "start_time": "2023-06-14T11:44:00.259Z"
   },
   {
    "duration": 4,
    "start_time": "2023-06-14T11:44:00.865Z"
   },
   {
    "duration": 79,
    "start_time": "2023-06-14T11:44:00.871Z"
   },
   {
    "duration": 132,
    "start_time": "2023-06-14T11:44:00.952Z"
   },
   {
    "duration": 751,
    "start_time": "2023-06-14T11:44:01.086Z"
   },
   {
    "duration": 66,
    "start_time": "2023-06-14T11:44:01.839Z"
   },
   {
    "duration": 150,
    "start_time": "2023-06-14T11:44:01.908Z"
   },
   {
    "duration": 237,
    "start_time": "2023-06-14T11:44:02.060Z"
   },
   {
    "duration": 127,
    "start_time": "2023-06-14T11:44:02.300Z"
   },
   {
    "duration": 7,
    "start_time": "2023-06-14T11:44:02.429Z"
   },
   {
    "duration": 28,
    "start_time": "2023-06-14T11:44:02.437Z"
   },
   {
    "duration": 49,
    "start_time": "2023-06-14T11:44:02.466Z"
   },
   {
    "duration": 10,
    "start_time": "2023-06-14T11:44:02.518Z"
   },
   {
    "duration": 44,
    "start_time": "2023-06-14T11:44:02.530Z"
   },
   {
    "duration": 69,
    "start_time": "2023-06-14T11:44:02.576Z"
   },
   {
    "duration": 138,
    "start_time": "2023-06-14T11:44:02.647Z"
   },
   {
    "duration": 0,
    "start_time": "2023-06-14T11:44:02.786Z"
   },
   {
    "duration": 0,
    "start_time": "2023-06-14T11:44:02.788Z"
   },
   {
    "duration": 0,
    "start_time": "2023-06-14T11:44:02.789Z"
   },
   {
    "duration": 29,
    "start_time": "2023-06-14T11:45:00.704Z"
   },
   {
    "duration": 15,
    "start_time": "2023-06-14T11:47:04.444Z"
   },
   {
    "duration": 1357,
    "start_time": "2023-06-14T11:47:45.458Z"
   },
   {
    "duration": 608,
    "start_time": "2023-06-14T11:47:46.817Z"
   },
   {
    "duration": 6,
    "start_time": "2023-06-14T11:47:47.427Z"
   },
   {
    "duration": 67,
    "start_time": "2023-06-14T11:47:47.435Z"
   },
   {
    "duration": 159,
    "start_time": "2023-06-14T11:47:47.504Z"
   },
   {
    "duration": 764,
    "start_time": "2023-06-14T11:47:47.665Z"
   },
   {
    "duration": 82,
    "start_time": "2023-06-14T11:47:48.431Z"
   },
   {
    "duration": 186,
    "start_time": "2023-06-14T11:47:48.515Z"
   },
   {
    "duration": 247,
    "start_time": "2023-06-14T11:47:48.703Z"
   },
   {
    "duration": 134,
    "start_time": "2023-06-14T11:47:48.952Z"
   },
   {
    "duration": 7,
    "start_time": "2023-06-14T11:47:49.088Z"
   },
   {
    "duration": 16,
    "start_time": "2023-06-14T11:47:49.097Z"
   },
   {
    "duration": 23,
    "start_time": "2023-06-14T11:47:49.115Z"
   },
   {
    "duration": 26,
    "start_time": "2023-06-14T11:47:49.140Z"
   },
   {
    "duration": 54,
    "start_time": "2023-06-14T11:47:49.168Z"
   },
   {
    "duration": 49,
    "start_time": "2023-06-14T11:47:49.223Z"
   },
   {
    "duration": 47,
    "start_time": "2023-06-14T11:47:49.274Z"
   },
   {
    "duration": 144,
    "start_time": "2023-06-14T11:47:49.324Z"
   },
   {
    "duration": 7,
    "start_time": "2023-06-14T11:47:49.470Z"
   },
   {
    "duration": 19,
    "start_time": "2023-06-14T11:47:49.478Z"
   },
   {
    "duration": 17,
    "start_time": "2023-06-14T11:47:56.955Z"
   },
   {
    "duration": 9,
    "start_time": "2023-06-14T11:50:16.558Z"
   },
   {
    "duration": 147,
    "start_time": "2023-06-14T11:50:56.567Z"
   },
   {
    "duration": 13,
    "start_time": "2023-06-14T11:51:09.454Z"
   },
   {
    "duration": 12,
    "start_time": "2023-06-14T11:51:58.490Z"
   },
   {
    "duration": 12,
    "start_time": "2023-06-14T11:52:55.664Z"
   },
   {
    "duration": 17,
    "start_time": "2023-06-14T11:53:18.407Z"
   },
   {
    "duration": 16,
    "start_time": "2023-06-14T12:16:40.878Z"
   },
   {
    "duration": 17,
    "start_time": "2023-06-14T12:16:52.015Z"
   },
   {
    "duration": 1378,
    "start_time": "2023-06-14T12:17:01.988Z"
   },
   {
    "duration": 652,
    "start_time": "2023-06-14T12:17:03.368Z"
   },
   {
    "duration": 4,
    "start_time": "2023-06-14T12:17:04.022Z"
   },
   {
    "duration": 52,
    "start_time": "2023-06-14T12:17:04.029Z"
   },
   {
    "duration": 209,
    "start_time": "2023-06-14T12:17:04.083Z"
   },
   {
    "duration": 758,
    "start_time": "2023-06-14T12:17:04.294Z"
   },
   {
    "duration": 63,
    "start_time": "2023-06-14T12:17:05.054Z"
   },
   {
    "duration": 140,
    "start_time": "2023-06-14T12:17:05.119Z"
   },
   {
    "duration": 250,
    "start_time": "2023-06-14T12:17:05.261Z"
   },
   {
    "duration": 138,
    "start_time": "2023-06-14T12:17:05.514Z"
   },
   {
    "duration": 13,
    "start_time": "2023-06-14T12:17:05.654Z"
   },
   {
    "duration": 38,
    "start_time": "2023-06-14T12:17:05.669Z"
   },
   {
    "duration": 42,
    "start_time": "2023-06-14T12:17:05.709Z"
   },
   {
    "duration": 87,
    "start_time": "2023-06-14T12:17:05.753Z"
   },
   {
    "duration": 68,
    "start_time": "2023-06-14T12:17:05.843Z"
   },
   {
    "duration": 40,
    "start_time": "2023-06-14T12:17:05.912Z"
   },
   {
    "duration": 99,
    "start_time": "2023-06-14T12:17:05.954Z"
   },
   {
    "duration": 38,
    "start_time": "2023-06-14T12:17:06.055Z"
   },
   {
    "duration": 56,
    "start_time": "2023-06-14T12:17:06.096Z"
   },
   {
    "duration": 35,
    "start_time": "2023-06-14T12:17:06.154Z"
   },
   {
    "duration": 17,
    "start_time": "2023-06-14T12:17:06.192Z"
   },
   {
    "duration": 58,
    "start_time": "2023-06-14T12:17:06.211Z"
   },
   {
    "duration": 33,
    "start_time": "2023-06-14T12:17:06.271Z"
   },
   {
    "duration": 26,
    "start_time": "2023-06-14T12:17:43.570Z"
   },
   {
    "duration": 11,
    "start_time": "2023-06-14T12:20:50.705Z"
   },
   {
    "duration": 106,
    "start_time": "2023-06-14T12:21:36.586Z"
   },
   {
    "duration": 12,
    "start_time": "2023-06-14T12:21:43.503Z"
   },
   {
    "duration": 1394,
    "start_time": "2023-06-14T12:21:52.732Z"
   },
   {
    "duration": 638,
    "start_time": "2023-06-14T12:21:54.128Z"
   },
   {
    "duration": 4,
    "start_time": "2023-06-14T12:21:54.771Z"
   },
   {
    "duration": 66,
    "start_time": "2023-06-14T12:21:54.777Z"
   },
   {
    "duration": 162,
    "start_time": "2023-06-14T12:21:54.845Z"
   },
   {
    "duration": 736,
    "start_time": "2023-06-14T12:21:55.009Z"
   },
   {
    "duration": 55,
    "start_time": "2023-06-14T12:21:55.747Z"
   },
   {
    "duration": 153,
    "start_time": "2023-06-14T12:21:55.804Z"
   },
   {
    "duration": 251,
    "start_time": "2023-06-14T12:21:55.961Z"
   },
   {
    "duration": 138,
    "start_time": "2023-06-14T12:21:56.214Z"
   },
   {
    "duration": 11,
    "start_time": "2023-06-14T12:21:56.354Z"
   },
   {
    "duration": 18,
    "start_time": "2023-06-14T12:21:56.367Z"
   },
   {
    "duration": 19,
    "start_time": "2023-06-14T12:21:56.387Z"
   },
   {
    "duration": 13,
    "start_time": "2023-06-14T12:21:56.409Z"
   },
   {
    "duration": 40,
    "start_time": "2023-06-14T12:21:56.424Z"
   },
   {
    "duration": 134,
    "start_time": "2023-06-14T12:21:56.466Z"
   },
   {
    "duration": 0,
    "start_time": "2023-06-14T12:21:56.602Z"
   },
   {
    "duration": 0,
    "start_time": "2023-06-14T12:21:56.603Z"
   },
   {
    "duration": 0,
    "start_time": "2023-06-14T12:21:56.605Z"
   },
   {
    "duration": 0,
    "start_time": "2023-06-14T12:21:56.606Z"
   },
   {
    "duration": 0,
    "start_time": "2023-06-14T12:21:56.608Z"
   },
   {
    "duration": 0,
    "start_time": "2023-06-14T12:21:56.609Z"
   },
   {
    "duration": 0,
    "start_time": "2023-06-14T12:21:56.611Z"
   },
   {
    "duration": 0,
    "start_time": "2023-06-14T12:21:56.612Z"
   },
   {
    "duration": 38,
    "start_time": "2023-06-14T12:22:31.482Z"
   },
   {
    "duration": 29,
    "start_time": "2023-06-14T12:22:33.194Z"
   },
   {
    "duration": 26,
    "start_time": "2023-06-14T12:22:34.255Z"
   },
   {
    "duration": 13,
    "start_time": "2023-06-14T12:22:35.084Z"
   },
   {
    "duration": 4,
    "start_time": "2023-06-14T12:22:38.351Z"
   },
   {
    "duration": 17,
    "start_time": "2023-06-14T12:22:56.623Z"
   },
   {
    "duration": 33,
    "start_time": "2023-06-14T12:29:33.913Z"
   },
   {
    "duration": 1369,
    "start_time": "2023-06-14T12:29:41.660Z"
   },
   {
    "duration": 701,
    "start_time": "2023-06-14T12:29:43.031Z"
   },
   {
    "duration": 5,
    "start_time": "2023-06-14T12:29:43.734Z"
   },
   {
    "duration": 90,
    "start_time": "2023-06-14T12:29:43.741Z"
   },
   {
    "duration": 135,
    "start_time": "2023-06-14T12:29:43.832Z"
   },
   {
    "duration": 820,
    "start_time": "2023-06-14T12:29:43.970Z"
   },
   {
    "duration": 46,
    "start_time": "2023-06-14T12:29:44.792Z"
   },
   {
    "duration": 902,
    "start_time": "2023-06-14T12:29:44.840Z"
   },
   {
    "duration": 251,
    "start_time": "2023-06-14T12:29:45.744Z"
   },
   {
    "duration": 157,
    "start_time": "2023-06-14T12:29:45.998Z"
   },
   {
    "duration": 7,
    "start_time": "2023-06-14T12:29:46.157Z"
   },
   {
    "duration": 38,
    "start_time": "2023-06-14T12:29:46.166Z"
   },
   {
    "duration": 16,
    "start_time": "2023-06-14T12:29:46.206Z"
   },
   {
    "duration": 11,
    "start_time": "2023-06-14T12:29:46.224Z"
   },
   {
    "duration": 20,
    "start_time": "2023-06-14T12:29:46.237Z"
   },
   {
    "duration": 45,
    "start_time": "2023-06-14T12:29:46.259Z"
   },
   {
    "duration": 45,
    "start_time": "2023-06-14T12:29:46.306Z"
   },
   {
    "duration": 18,
    "start_time": "2023-06-14T12:29:46.361Z"
   },
   {
    "duration": 91,
    "start_time": "2023-06-14T12:29:46.383Z"
   },
   {
    "duration": 0,
    "start_time": "2023-06-14T12:29:46.477Z"
   },
   {
    "duration": 0,
    "start_time": "2023-06-14T12:29:46.478Z"
   },
   {
    "duration": 0,
    "start_time": "2023-06-14T12:29:46.480Z"
   },
   {
    "duration": 0,
    "start_time": "2023-06-14T12:29:46.481Z"
   },
   {
    "duration": 0,
    "start_time": "2023-06-14T12:29:46.483Z"
   },
   {
    "duration": 6,
    "start_time": "2023-06-14T12:31:35.387Z"
   },
   {
    "duration": 13,
    "start_time": "2023-06-14T12:33:07.118Z"
   },
   {
    "duration": 18,
    "start_time": "2023-06-14T12:33:28.611Z"
   },
   {
    "duration": 21,
    "start_time": "2023-06-14T12:35:16.298Z"
   },
   {
    "duration": 14,
    "start_time": "2023-06-14T12:36:28.935Z"
   },
   {
    "duration": 19,
    "start_time": "2023-06-14T12:39:29.797Z"
   },
   {
    "duration": 7,
    "start_time": "2023-06-14T12:50:37.789Z"
   },
   {
    "duration": 632,
    "start_time": "2023-06-14T12:50:37.798Z"
   },
   {
    "duration": 5,
    "start_time": "2023-06-14T12:50:38.432Z"
   },
   {
    "duration": 53,
    "start_time": "2023-06-14T12:50:38.439Z"
   },
   {
    "duration": 147,
    "start_time": "2023-06-14T12:50:38.495Z"
   },
   {
    "duration": 810,
    "start_time": "2023-06-14T12:50:38.662Z"
   },
   {
    "duration": 59,
    "start_time": "2023-06-14T12:50:39.481Z"
   },
   {
    "duration": 149,
    "start_time": "2023-06-14T12:50:39.542Z"
   },
   {
    "duration": 271,
    "start_time": "2023-06-14T12:50:39.693Z"
   },
   {
    "duration": 137,
    "start_time": "2023-06-14T12:50:39.967Z"
   },
   {
    "duration": 8,
    "start_time": "2023-06-14T12:50:40.106Z"
   },
   {
    "duration": 15,
    "start_time": "2023-06-14T12:50:40.116Z"
   },
   {
    "duration": 36,
    "start_time": "2023-06-14T12:50:40.134Z"
   },
   {
    "duration": 14,
    "start_time": "2023-06-14T12:50:40.175Z"
   },
   {
    "duration": 16,
    "start_time": "2023-06-14T12:50:40.191Z"
   },
   {
    "duration": 64,
    "start_time": "2023-06-14T12:50:40.209Z"
   },
   {
    "duration": 13,
    "start_time": "2023-06-14T12:50:52.188Z"
   },
   {
    "duration": 10,
    "start_time": "2023-06-14T12:50:53.184Z"
   },
   {
    "duration": 14,
    "start_time": "2023-06-14T12:51:21.692Z"
   },
   {
    "duration": 14,
    "start_time": "2023-06-14T12:56:41.339Z"
   },
   {
    "duration": 6,
    "start_time": "2023-06-14T13:00:42.993Z"
   },
   {
    "duration": 14,
    "start_time": "2023-06-14T13:01:20.857Z"
   },
   {
    "duration": 14,
    "start_time": "2023-06-14T13:01:21.598Z"
   },
   {
    "duration": 18,
    "start_time": "2023-06-14T13:01:26.180Z"
   },
   {
    "duration": 12,
    "start_time": "2023-06-14T13:02:01.484Z"
   },
   {
    "duration": 17,
    "start_time": "2023-06-14T13:02:02.536Z"
   },
   {
    "duration": 12,
    "start_time": "2023-06-14T13:12:43.688Z"
   },
   {
    "duration": 21,
    "start_time": "2023-06-14T13:13:14.334Z"
   },
   {
    "duration": 13,
    "start_time": "2023-06-14T13:13:24.977Z"
   },
   {
    "duration": 19,
    "start_time": "2023-06-14T13:13:29.214Z"
   },
   {
    "duration": 14,
    "start_time": "2023-06-14T13:13:31.525Z"
   },
   {
    "duration": 8,
    "start_time": "2023-06-14T13:14:28.449Z"
   },
   {
    "duration": 17,
    "start_time": "2023-06-14T13:15:04.728Z"
   },
   {
    "duration": 14,
    "start_time": "2023-06-14T13:15:10.728Z"
   },
   {
    "duration": 17,
    "start_time": "2023-06-14T13:16:17.894Z"
   },
   {
    "duration": 21,
    "start_time": "2023-06-14T13:16:28.638Z"
   },
   {
    "duration": 14,
    "start_time": "2023-06-14T13:17:08.630Z"
   },
   {
    "duration": 14,
    "start_time": "2023-06-14T13:17:25.087Z"
   },
   {
    "duration": 15,
    "start_time": "2023-06-14T13:17:51.279Z"
   },
   {
    "duration": 5,
    "start_time": "2023-06-14T13:18:59.946Z"
   },
   {
    "duration": 647,
    "start_time": "2023-06-14T13:18:59.956Z"
   },
   {
    "duration": 4,
    "start_time": "2023-06-14T13:19:00.606Z"
   },
   {
    "duration": 67,
    "start_time": "2023-06-14T13:19:00.611Z"
   },
   {
    "duration": 164,
    "start_time": "2023-06-14T13:19:00.680Z"
   },
   {
    "duration": 703,
    "start_time": "2023-06-14T13:19:00.847Z"
   },
   {
    "duration": 55,
    "start_time": "2023-06-14T13:19:01.551Z"
   },
   {
    "duration": 161,
    "start_time": "2023-06-14T13:19:01.608Z"
   },
   {
    "duration": 249,
    "start_time": "2023-06-14T13:19:01.771Z"
   },
   {
    "duration": 130,
    "start_time": "2023-06-14T13:19:02.022Z"
   },
   {
    "duration": 13,
    "start_time": "2023-06-14T13:19:02.154Z"
   },
   {
    "duration": 90,
    "start_time": "2023-06-14T13:19:02.169Z"
   },
   {
    "duration": 76,
    "start_time": "2023-06-14T13:19:02.262Z"
   },
   {
    "duration": 24,
    "start_time": "2023-06-14T13:19:02.340Z"
   },
   {
    "duration": 52,
    "start_time": "2023-06-14T13:19:02.367Z"
   },
   {
    "duration": 68,
    "start_time": "2023-06-14T13:19:02.421Z"
   },
   {
    "duration": 12,
    "start_time": "2023-06-14T13:25:20.721Z"
   },
   {
    "duration": 14,
    "start_time": "2023-06-14T13:25:42.191Z"
   },
   {
    "duration": 14,
    "start_time": "2023-06-14T13:27:39.985Z"
   },
   {
    "duration": 17,
    "start_time": "2023-06-14T13:28:12.281Z"
   },
   {
    "duration": 25,
    "start_time": "2023-06-14T13:31:19.455Z"
   },
   {
    "duration": 17,
    "start_time": "2023-06-14T13:32:19.222Z"
   },
   {
    "duration": 39,
    "start_time": "2023-06-14T13:32:27.452Z"
   },
   {
    "duration": 18,
    "start_time": "2023-06-14T13:41:26.217Z"
   },
   {
    "duration": 87,
    "start_time": "2023-06-14T13:44:15.673Z"
   },
   {
    "duration": 32,
    "start_time": "2023-06-14T13:44:22.554Z"
   },
   {
    "duration": 44,
    "start_time": "2023-06-14T13:45:11.751Z"
   },
   {
    "duration": 25,
    "start_time": "2023-06-14T13:45:36.450Z"
   },
   {
    "duration": 17,
    "start_time": "2023-06-14T13:47:11.154Z"
   },
   {
    "duration": 48,
    "start_time": "2023-06-14T13:47:12.449Z"
   },
   {
    "duration": 52,
    "start_time": "2023-06-14T13:49:01.946Z"
   },
   {
    "duration": 9,
    "start_time": "2023-06-14T13:53:39.978Z"
   },
   {
    "duration": 1282,
    "start_time": "2023-06-14T13:53:47.498Z"
   },
   {
    "duration": 619,
    "start_time": "2023-06-14T13:53:48.783Z"
   },
   {
    "duration": 4,
    "start_time": "2023-06-14T13:53:49.404Z"
   },
   {
    "duration": 61,
    "start_time": "2023-06-14T13:53:49.410Z"
   },
   {
    "duration": 144,
    "start_time": "2023-06-14T13:53:49.474Z"
   },
   {
    "duration": 791,
    "start_time": "2023-06-14T13:53:49.620Z"
   },
   {
    "duration": 74,
    "start_time": "2023-06-14T13:53:50.412Z"
   },
   {
    "duration": 146,
    "start_time": "2023-06-14T13:53:50.488Z"
   },
   {
    "duration": 305,
    "start_time": "2023-06-14T13:53:50.636Z"
   },
   {
    "duration": 135,
    "start_time": "2023-06-14T13:53:50.943Z"
   },
   {
    "duration": 9,
    "start_time": "2023-06-14T13:53:51.079Z"
   },
   {
    "duration": 30,
    "start_time": "2023-06-14T13:53:51.090Z"
   },
   {
    "duration": 17,
    "start_time": "2023-06-14T13:53:51.123Z"
   },
   {
    "duration": 19,
    "start_time": "2023-06-14T13:53:51.143Z"
   },
   {
    "duration": 21,
    "start_time": "2023-06-14T13:53:51.164Z"
   },
   {
    "duration": 43,
    "start_time": "2023-06-14T13:53:51.187Z"
   },
   {
    "duration": 9,
    "start_time": "2023-06-14T13:53:51.232Z"
   },
   {
    "duration": 26,
    "start_time": "2023-06-14T13:53:51.243Z"
   },
   {
    "duration": 21,
    "start_time": "2023-06-14T13:53:51.271Z"
   },
   {
    "duration": 14,
    "start_time": "2023-06-14T13:53:51.294Z"
   },
   {
    "duration": 26,
    "start_time": "2023-06-14T13:53:51.310Z"
   },
   {
    "duration": 18,
    "start_time": "2023-06-14T13:53:51.339Z"
   },
   {
    "duration": 13,
    "start_time": "2023-06-14T13:53:51.358Z"
   },
   {
    "duration": 20,
    "start_time": "2023-06-14T13:53:51.374Z"
   },
   {
    "duration": 15,
    "start_time": "2023-06-14T13:53:51.396Z"
   },
   {
    "duration": 14,
    "start_time": "2023-06-14T13:53:51.413Z"
   },
   {
    "duration": 25,
    "start_time": "2023-06-14T13:53:51.429Z"
   },
   {
    "duration": 13,
    "start_time": "2023-06-14T13:53:51.455Z"
   },
   {
    "duration": 13,
    "start_time": "2023-06-14T14:00:02.210Z"
   },
   {
    "duration": 8,
    "start_time": "2023-06-14T14:00:51.223Z"
   },
   {
    "duration": 6,
    "start_time": "2023-06-14T14:02:42.029Z"
   },
   {
    "duration": 6,
    "start_time": "2023-06-14T14:02:42.409Z"
   },
   {
    "duration": 20,
    "start_time": "2023-06-14T14:03:41.584Z"
   },
   {
    "duration": 19,
    "start_time": "2023-06-14T14:03:55.939Z"
   },
   {
    "duration": 18,
    "start_time": "2023-06-14T14:06:55.087Z"
   },
   {
    "duration": 124,
    "start_time": "2023-06-14T14:08:03.437Z"
   },
   {
    "duration": 9,
    "start_time": "2023-06-14T14:08:11.944Z"
   },
   {
    "duration": 25,
    "start_time": "2023-06-14T14:08:12.614Z"
   },
   {
    "duration": 12,
    "start_time": "2023-06-14T14:08:29.948Z"
   },
   {
    "duration": 12,
    "start_time": "2023-06-14T14:09:02.744Z"
   },
   {
    "duration": 20,
    "start_time": "2023-06-14T14:12:23.400Z"
   },
   {
    "duration": 27,
    "start_time": "2023-06-14T14:20:05.340Z"
   },
   {
    "duration": 27,
    "start_time": "2023-06-14T14:33:21.183Z"
   },
   {
    "duration": 6,
    "start_time": "2023-06-14T14:34:53.143Z"
   },
   {
    "duration": 10,
    "start_time": "2023-06-14T14:38:12.894Z"
   },
   {
    "duration": 17,
    "start_time": "2023-06-14T14:38:17.176Z"
   },
   {
    "duration": 14,
    "start_time": "2023-06-14T14:38:17.907Z"
   },
   {
    "duration": 11,
    "start_time": "2023-06-14T14:38:23.020Z"
   },
   {
    "duration": 2086,
    "start_time": "2023-06-14T14:38:45.538Z"
   },
   {
    "duration": 886,
    "start_time": "2023-06-14T14:38:47.627Z"
   },
   {
    "duration": 4,
    "start_time": "2023-06-14T14:38:48.515Z"
   },
   {
    "duration": 87,
    "start_time": "2023-06-14T14:38:48.522Z"
   },
   {
    "duration": 180,
    "start_time": "2023-06-14T14:38:48.611Z"
   },
   {
    "duration": 940,
    "start_time": "2023-06-14T14:38:48.793Z"
   },
   {
    "duration": 88,
    "start_time": "2023-06-14T14:38:49.734Z"
   },
   {
    "duration": 239,
    "start_time": "2023-06-14T14:38:49.830Z"
   },
   {
    "duration": 368,
    "start_time": "2023-06-14T14:38:50.074Z"
   },
   {
    "duration": 165,
    "start_time": "2023-06-14T14:38:50.444Z"
   },
   {
    "duration": 6,
    "start_time": "2023-06-14T14:38:50.611Z"
   },
   {
    "duration": 30,
    "start_time": "2023-06-14T14:38:50.619Z"
   },
   {
    "duration": 64,
    "start_time": "2023-06-14T14:38:50.651Z"
   },
   {
    "duration": 96,
    "start_time": "2023-06-14T14:38:50.718Z"
   },
   {
    "duration": 33,
    "start_time": "2023-06-14T14:38:50.816Z"
   },
   {
    "duration": 90,
    "start_time": "2023-06-14T14:38:50.851Z"
   },
   {
    "duration": 31,
    "start_time": "2023-06-14T14:38:50.943Z"
   },
   {
    "duration": 54,
    "start_time": "2023-06-14T14:38:50.978Z"
   },
   {
    "duration": 10,
    "start_time": "2023-06-14T14:38:51.034Z"
   },
   {
    "duration": 13,
    "start_time": "2023-06-14T14:38:51.046Z"
   },
   {
    "duration": 5,
    "start_time": "2023-06-14T14:39:17.505Z"
   },
   {
    "duration": 28,
    "start_time": "2023-06-14T14:43:22.359Z"
   },
   {
    "duration": 19,
    "start_time": "2023-06-14T14:53:31.873Z"
   },
   {
    "duration": 4,
    "start_time": "2023-06-14T15:01:17.337Z"
   },
   {
    "duration": 128,
    "start_time": "2023-06-14T15:01:42.776Z"
   },
   {
    "duration": 1336,
    "start_time": "2023-06-14T15:02:19.309Z"
   },
   {
    "duration": 660,
    "start_time": "2023-06-14T15:02:20.647Z"
   },
   {
    "duration": 4,
    "start_time": "2023-06-14T15:02:21.309Z"
   },
   {
    "duration": 66,
    "start_time": "2023-06-14T15:02:21.315Z"
   },
   {
    "duration": 138,
    "start_time": "2023-06-14T15:02:21.383Z"
   },
   {
    "duration": 758,
    "start_time": "2023-06-14T15:02:21.523Z"
   },
   {
    "duration": 48,
    "start_time": "2023-06-14T15:02:22.282Z"
   },
   {
    "duration": 153,
    "start_time": "2023-06-14T15:02:22.332Z"
   },
   {
    "duration": 265,
    "start_time": "2023-06-14T15:02:22.486Z"
   },
   {
    "duration": 154,
    "start_time": "2023-06-14T15:02:22.754Z"
   },
   {
    "duration": 8,
    "start_time": "2023-06-14T15:02:22.911Z"
   },
   {
    "duration": 21,
    "start_time": "2023-06-14T15:02:22.921Z"
   },
   {
    "duration": 54,
    "start_time": "2023-06-14T15:02:22.944Z"
   },
   {
    "duration": 39,
    "start_time": "2023-06-14T15:02:22.999Z"
   },
   {
    "duration": 52,
    "start_time": "2023-06-14T15:02:23.040Z"
   },
   {
    "duration": 22,
    "start_time": "2023-06-14T15:02:23.094Z"
   },
   {
    "duration": 58,
    "start_time": "2023-06-14T15:02:23.118Z"
   },
   {
    "duration": 30,
    "start_time": "2023-06-14T15:02:23.178Z"
   },
   {
    "duration": 3,
    "start_time": "2023-06-14T15:02:23.210Z"
   },
   {
    "duration": 26,
    "start_time": "2023-06-14T15:05:25.899Z"
   },
   {
    "duration": 25,
    "start_time": "2023-06-14T15:05:31.533Z"
   },
   {
    "duration": 15,
    "start_time": "2023-06-14T15:05:45.188Z"
   },
   {
    "duration": 23,
    "start_time": "2023-06-14T15:05:46.199Z"
   },
   {
    "duration": 1259,
    "start_time": "2023-06-14T15:05:54.379Z"
   },
   {
    "duration": 678,
    "start_time": "2023-06-14T15:05:55.640Z"
   },
   {
    "duration": 5,
    "start_time": "2023-06-14T15:05:56.320Z"
   },
   {
    "duration": 76,
    "start_time": "2023-06-14T15:05:56.326Z"
   },
   {
    "duration": 165,
    "start_time": "2023-06-14T15:05:56.405Z"
   },
   {
    "duration": 721,
    "start_time": "2023-06-14T15:05:56.571Z"
   },
   {
    "duration": 75,
    "start_time": "2023-06-14T15:05:57.294Z"
   },
   {
    "duration": 148,
    "start_time": "2023-06-14T15:05:57.373Z"
   },
   {
    "duration": 251,
    "start_time": "2023-06-14T15:05:57.523Z"
   },
   {
    "duration": 137,
    "start_time": "2023-06-14T15:05:57.780Z"
   },
   {
    "duration": 9,
    "start_time": "2023-06-14T15:05:57.918Z"
   },
   {
    "duration": 21,
    "start_time": "2023-06-14T15:05:57.929Z"
   },
   {
    "duration": 25,
    "start_time": "2023-06-14T15:05:57.952Z"
   },
   {
    "duration": 20,
    "start_time": "2023-06-14T15:05:57.981Z"
   },
   {
    "duration": 26,
    "start_time": "2023-06-14T15:05:58.002Z"
   },
   {
    "duration": 17,
    "start_time": "2023-06-14T15:05:58.029Z"
   },
   {
    "duration": 56,
    "start_time": "2023-06-14T15:05:58.047Z"
   },
   {
    "duration": 31,
    "start_time": "2023-06-14T15:05:58.104Z"
   },
   {
    "duration": 3,
    "start_time": "2023-06-14T15:05:58.136Z"
   },
   {
    "duration": 9,
    "start_time": "2023-06-14T15:09:54.300Z"
   },
   {
    "duration": 154,
    "start_time": "2023-06-14T15:25:59.804Z"
   },
   {
    "duration": 42,
    "start_time": "2023-06-14T15:26:25.976Z"
   },
   {
    "duration": 29,
    "start_time": "2023-06-14T15:28:37.111Z"
   },
   {
    "duration": 31,
    "start_time": "2023-06-14T15:32:19.181Z"
   },
   {
    "duration": 42,
    "start_time": "2023-06-14T15:32:37.356Z"
   },
   {
    "duration": 20,
    "start_time": "2023-06-14T16:02:16.353Z"
   },
   {
    "duration": 1339,
    "start_time": "2023-06-14T16:02:57.982Z"
   },
   {
    "duration": 637,
    "start_time": "2023-06-14T16:02:59.323Z"
   },
   {
    "duration": 7,
    "start_time": "2023-06-14T16:02:59.962Z"
   },
   {
    "duration": 47,
    "start_time": "2023-06-14T16:02:59.971Z"
   },
   {
    "duration": 157,
    "start_time": "2023-06-14T16:03:00.020Z"
   },
   {
    "duration": 798,
    "start_time": "2023-06-14T16:03:00.179Z"
   },
   {
    "duration": 47,
    "start_time": "2023-06-14T16:03:00.979Z"
   },
   {
    "duration": 368,
    "start_time": "2023-06-14T16:03:01.027Z"
   },
   {
    "duration": 284,
    "start_time": "2023-06-14T16:03:01.396Z"
   },
   {
    "duration": 136,
    "start_time": "2023-06-14T16:03:01.683Z"
   },
   {
    "duration": 7,
    "start_time": "2023-06-14T16:03:01.821Z"
   },
   {
    "duration": 79,
    "start_time": "2023-06-14T16:03:01.830Z"
   },
   {
    "duration": 106,
    "start_time": "2023-06-14T16:03:01.911Z"
   },
   {
    "duration": 40,
    "start_time": "2023-06-14T16:03:02.019Z"
   },
   {
    "duration": 87,
    "start_time": "2023-06-14T16:03:02.060Z"
   },
   {
    "duration": 53,
    "start_time": "2023-06-14T16:03:02.149Z"
   },
   {
    "duration": 52,
    "start_time": "2023-06-14T16:03:02.204Z"
   },
   {
    "duration": 61,
    "start_time": "2023-06-14T16:03:02.258Z"
   },
   {
    "duration": 152,
    "start_time": "2023-06-14T16:03:02.321Z"
   },
   {
    "duration": 4,
    "start_time": "2023-06-14T16:03:02.475Z"
   },
   {
    "duration": 24,
    "start_time": "2023-06-14T16:03:02.480Z"
   },
   {
    "duration": 43,
    "start_time": "2023-06-14T16:08:56.938Z"
   },
   {
    "duration": 45,
    "start_time": "2023-06-14T16:09:08.560Z"
   },
   {
    "duration": 1416,
    "start_time": "2023-06-14T16:09:18.726Z"
   },
   {
    "duration": 792,
    "start_time": "2023-06-14T16:09:20.144Z"
   },
   {
    "duration": 5,
    "start_time": "2023-06-14T16:09:20.938Z"
   },
   {
    "duration": 90,
    "start_time": "2023-06-14T16:09:20.945Z"
   },
   {
    "duration": 140,
    "start_time": "2023-06-14T16:09:21.039Z"
   },
   {
    "duration": 893,
    "start_time": "2023-06-14T16:09:21.180Z"
   },
   {
    "duration": 58,
    "start_time": "2023-06-14T16:09:22.076Z"
   },
   {
    "duration": 185,
    "start_time": "2023-06-14T16:09:22.135Z"
   },
   {
    "duration": 307,
    "start_time": "2023-06-14T16:09:22.321Z"
   },
   {
    "duration": 172,
    "start_time": "2023-06-14T16:09:22.631Z"
   },
   {
    "duration": 8,
    "start_time": "2023-06-14T16:09:22.804Z"
   },
   {
    "duration": 14,
    "start_time": "2023-06-14T16:09:22.814Z"
   },
   {
    "duration": 51,
    "start_time": "2023-06-14T16:09:22.830Z"
   },
   {
    "duration": 22,
    "start_time": "2023-06-14T16:09:22.889Z"
   },
   {
    "duration": 33,
    "start_time": "2023-06-14T16:09:22.914Z"
   },
   {
    "duration": 51,
    "start_time": "2023-06-14T16:09:22.949Z"
   },
   {
    "duration": 61,
    "start_time": "2023-06-14T16:09:23.002Z"
   },
   {
    "duration": 57,
    "start_time": "2023-06-14T16:09:23.065Z"
   },
   {
    "duration": 156,
    "start_time": "2023-06-14T16:09:23.124Z"
   },
   {
    "duration": 12,
    "start_time": "2023-06-14T16:09:23.283Z"
   },
   {
    "duration": 30,
    "start_time": "2023-06-14T16:09:23.297Z"
   },
   {
    "duration": 34,
    "start_time": "2023-06-14T16:50:49.257Z"
   },
   {
    "duration": 17,
    "start_time": "2023-06-14T16:50:55.729Z"
   },
   {
    "duration": 16,
    "start_time": "2023-06-14T16:51:42.011Z"
   },
   {
    "duration": 14,
    "start_time": "2023-06-14T16:51:51.630Z"
   },
   {
    "duration": 30,
    "start_time": "2023-06-14T16:52:06.658Z"
   },
   {
    "duration": 69,
    "start_time": "2023-06-14T16:54:22.559Z"
   },
   {
    "duration": 392,
    "start_time": "2023-06-14T16:54:48.990Z"
   },
   {
    "duration": 23,
    "start_time": "2023-06-14T16:55:01.980Z"
   },
   {
    "duration": 14,
    "start_time": "2023-06-14T16:55:10.633Z"
   },
   {
    "duration": 19,
    "start_time": "2023-06-14T16:55:13.778Z"
   },
   {
    "duration": 21,
    "start_time": "2023-06-14T16:57:07.656Z"
   },
   {
    "duration": 15,
    "start_time": "2023-06-14T16:57:23.298Z"
   },
   {
    "duration": 1341,
    "start_time": "2023-06-14T17:19:24.652Z"
   },
   {
    "duration": 13,
    "start_time": "2023-06-14T17:19:37.824Z"
   },
   {
    "duration": 158,
    "start_time": "2023-06-14T17:19:45.310Z"
   },
   {
    "duration": 135,
    "start_time": "2023-06-14T17:19:56.793Z"
   },
   {
    "duration": 131,
    "start_time": "2023-06-14T17:20:17.112Z"
   },
   {
    "duration": 132,
    "start_time": "2023-06-14T17:27:57.022Z"
   },
   {
    "duration": 156,
    "start_time": "2023-06-14T17:28:00.849Z"
   },
   {
    "duration": 132,
    "start_time": "2023-06-14T17:28:17.501Z"
   },
   {
    "duration": 120,
    "start_time": "2023-06-14T17:31:19.147Z"
   },
   {
    "duration": 126,
    "start_time": "2023-06-14T17:31:26.527Z"
   },
   {
    "duration": 149,
    "start_time": "2023-06-14T17:31:37.122Z"
   },
   {
    "duration": 182,
    "start_time": "2023-06-14T17:33:33.485Z"
   },
   {
    "duration": 182,
    "start_time": "2023-06-14T17:33:42.821Z"
   },
   {
    "duration": 123,
    "start_time": "2023-06-14T17:34:10.116Z"
   },
   {
    "duration": 95,
    "start_time": "2023-06-14T17:41:43.086Z"
   },
   {
    "duration": 234,
    "start_time": "2023-06-14T17:42:44.335Z"
   },
   {
    "duration": 170,
    "start_time": "2023-06-14T17:42:53.894Z"
   },
   {
    "duration": 139,
    "start_time": "2023-06-14T17:45:03.615Z"
   },
   {
    "duration": 75,
    "start_time": "2023-06-14T17:49:05.281Z"
   },
   {
    "duration": 129,
    "start_time": "2023-06-14T17:49:11.017Z"
   },
   {
    "duration": 24,
    "start_time": "2023-06-14T17:56:04.183Z"
   },
   {
    "duration": 10609,
    "start_time": "2023-06-14T18:02:59.777Z"
   },
   {
    "duration": 249,
    "start_time": "2023-06-14T18:03:29.978Z"
   },
   {
    "duration": 9174,
    "start_time": "2023-06-14T18:04:11.729Z"
   },
   {
    "duration": 9066,
    "start_time": "2023-06-14T18:05:34.333Z"
   },
   {
    "duration": 9116,
    "start_time": "2023-06-14T18:07:23.809Z"
   },
   {
    "duration": 9428,
    "start_time": "2023-06-14T18:07:48.263Z"
   },
   {
    "duration": 9151,
    "start_time": "2023-06-14T18:08:12.785Z"
   },
   {
    "duration": 169,
    "start_time": "2023-06-14T18:10:23.866Z"
   },
   {
    "duration": 8530,
    "start_time": "2023-06-14T18:10:58.717Z"
   },
   {
    "duration": 11086,
    "start_time": "2023-06-14T18:11:29.584Z"
   },
   {
    "duration": 3784,
    "start_time": "2023-06-14T18:12:59.192Z"
   },
   {
    "duration": 10107,
    "start_time": "2023-06-14T18:13:10.841Z"
   },
   {
    "duration": 5,
    "start_time": "2023-06-14T18:14:36.576Z"
   },
   {
    "duration": 9533,
    "start_time": "2023-06-14T18:19:47.490Z"
   },
   {
    "duration": 308,
    "start_time": "2023-06-14T18:40:33.798Z"
   },
   {
    "duration": 330,
    "start_time": "2023-06-14T18:41:28.539Z"
   },
   {
    "duration": 179,
    "start_time": "2023-06-14T18:42:29.836Z"
   },
   {
    "duration": 237,
    "start_time": "2023-06-14T18:42:38.860Z"
   },
   {
    "duration": 246,
    "start_time": "2023-06-14T18:44:29.402Z"
   },
   {
    "duration": 32,
    "start_time": "2023-06-14T18:44:38.901Z"
   },
   {
    "duration": 858,
    "start_time": "2023-06-14T18:44:38.936Z"
   },
   {
    "duration": 5,
    "start_time": "2023-06-14T18:44:39.796Z"
   },
   {
    "duration": 103,
    "start_time": "2023-06-14T18:44:39.804Z"
   },
   {
    "duration": 269,
    "start_time": "2023-06-14T18:44:39.908Z"
   },
   {
    "duration": 1373,
    "start_time": "2023-06-14T18:44:40.179Z"
   },
   {
    "duration": 70,
    "start_time": "2023-06-14T18:44:41.553Z"
   },
   {
    "duration": 377,
    "start_time": "2023-06-14T18:44:41.626Z"
   },
   {
    "duration": 304,
    "start_time": "2023-06-14T18:44:42.005Z"
   },
   {
    "duration": 145,
    "start_time": "2023-06-14T18:44:42.313Z"
   },
   {
    "duration": 62,
    "start_time": "2023-06-14T18:44:42.459Z"
   },
   {
    "duration": 16,
    "start_time": "2023-06-14T18:44:42.523Z"
   },
   {
    "duration": 63,
    "start_time": "2023-06-14T18:44:42.541Z"
   },
   {
    "duration": 54,
    "start_time": "2023-06-14T18:44:42.606Z"
   },
   {
    "duration": 11140,
    "start_time": "2023-06-14T18:44:42.662Z"
   },
   {
    "duration": 15,
    "start_time": "2023-06-14T18:44:53.804Z"
   },
   {
    "duration": 75,
    "start_time": "2023-06-14T18:44:53.822Z"
   },
   {
    "duration": 96,
    "start_time": "2023-06-14T18:44:53.899Z"
   },
   {
    "duration": 91,
    "start_time": "2023-06-14T18:44:53.997Z"
   },
   {
    "duration": 21,
    "start_time": "2023-06-14T18:44:54.089Z"
   },
   {
    "duration": 102,
    "start_time": "2023-06-14T18:44:54.112Z"
   },
   {
    "duration": 16,
    "start_time": "2023-06-14T18:45:12.632Z"
   },
   {
    "duration": 125,
    "start_time": "2023-06-14T18:55:31.545Z"
   },
   {
    "duration": 77,
    "start_time": "2023-06-14T18:55:39.694Z"
   },
   {
    "duration": 93,
    "start_time": "2023-06-14T18:55:42.693Z"
   },
   {
    "duration": 104,
    "start_time": "2023-06-14T19:02:40.983Z"
   },
   {
    "duration": 125,
    "start_time": "2023-06-14T19:05:09.629Z"
   },
   {
    "duration": 112,
    "start_time": "2023-06-14T19:05:39.894Z"
   },
   {
    "duration": 87,
    "start_time": "2023-06-14T19:07:51.166Z"
   },
   {
    "duration": 96,
    "start_time": "2023-06-14T19:08:23.205Z"
   },
   {
    "duration": 94,
    "start_time": "2023-06-14T19:09:42.882Z"
   },
   {
    "duration": 107,
    "start_time": "2023-06-14T19:10:13.529Z"
   },
   {
    "duration": 82,
    "start_time": "2023-06-14T19:11:37.750Z"
   },
   {
    "duration": 87,
    "start_time": "2023-06-14T19:11:42.405Z"
   },
   {
    "duration": 11,
    "start_time": "2023-06-14T19:28:31.926Z"
   },
   {
    "duration": 1262,
    "start_time": "2023-06-14T19:28:48.359Z"
   },
   {
    "duration": 617,
    "start_time": "2023-06-14T19:28:49.624Z"
   },
   {
    "duration": 4,
    "start_time": "2023-06-14T19:28:50.243Z"
   },
   {
    "duration": 63,
    "start_time": "2023-06-14T19:28:50.248Z"
   },
   {
    "duration": 138,
    "start_time": "2023-06-14T19:28:50.313Z"
   },
   {
    "duration": 725,
    "start_time": "2023-06-14T19:28:50.453Z"
   },
   {
    "duration": 51,
    "start_time": "2023-06-14T19:28:51.180Z"
   },
   {
    "duration": 301,
    "start_time": "2023-06-14T19:28:51.233Z"
   },
   {
    "duration": 289,
    "start_time": "2023-06-14T19:28:51.535Z"
   },
   {
    "duration": 140,
    "start_time": "2023-06-14T19:28:51.826Z"
   },
   {
    "duration": 51,
    "start_time": "2023-06-14T19:28:51.968Z"
   },
   {
    "duration": 10,
    "start_time": "2023-06-14T19:28:52.021Z"
   },
   {
    "duration": 27,
    "start_time": "2023-06-14T19:28:52.033Z"
   },
   {
    "duration": 9,
    "start_time": "2023-06-14T19:28:52.075Z"
   },
   {
    "duration": 9172,
    "start_time": "2023-06-14T19:28:52.086Z"
   },
   {
    "duration": 22,
    "start_time": "2023-06-14T19:29:01.261Z"
   },
   {
    "duration": 95,
    "start_time": "2023-06-14T19:29:01.285Z"
   },
   {
    "duration": 134,
    "start_time": "2023-06-14T19:29:01.382Z"
   },
   {
    "duration": 292,
    "start_time": "2023-06-14T19:29:01.519Z"
   },
   {
    "duration": 96,
    "start_time": "2023-06-14T19:29:01.813Z"
   },
   {
    "duration": 301,
    "start_time": "2023-06-14T19:29:01.911Z"
   },
   {
    "duration": 182,
    "start_time": "2023-06-14T19:29:02.214Z"
   },
   {
    "duration": 2304,
    "start_time": "2023-06-14T19:29:02.398Z"
   },
   {
    "duration": 0,
    "start_time": "2023-06-14T19:29:04.703Z"
   },
   {
    "duration": 0,
    "start_time": "2023-06-14T19:29:04.705Z"
   },
   {
    "duration": 113,
    "start_time": "2023-06-14T19:35:31.600Z"
   },
   {
    "duration": 187,
    "start_time": "2023-06-14T19:35:45.845Z"
   },
   {
    "duration": 103,
    "start_time": "2023-06-14T19:35:50.296Z"
   },
   {
    "duration": 11,
    "start_time": "2023-06-14T19:35:51.565Z"
   },
   {
    "duration": 16,
    "start_time": "2023-06-14T19:36:00.702Z"
   },
   {
    "duration": 19,
    "start_time": "2023-06-14T19:37:43.404Z"
   },
   {
    "duration": 12,
    "start_time": "2023-06-14T19:40:01.928Z"
   },
   {
    "duration": 15,
    "start_time": "2023-06-14T19:40:11.357Z"
   },
   {
    "duration": 15,
    "start_time": "2023-06-14T19:42:01.328Z"
   },
   {
    "duration": 46,
    "start_time": "2023-06-14T19:44:41.723Z"
   },
   {
    "duration": 15,
    "start_time": "2023-06-14T19:45:18.784Z"
   },
   {
    "duration": 31,
    "start_time": "2023-06-14T19:46:16.120Z"
   },
   {
    "duration": 22,
    "start_time": "2023-06-14T19:46:59.074Z"
   },
   {
    "duration": 7,
    "start_time": "2023-06-14T19:47:40.603Z"
   },
   {
    "duration": 24,
    "start_time": "2023-06-14T19:47:48.149Z"
   },
   {
    "duration": 1295,
    "start_time": "2023-06-14T19:49:56.803Z"
   },
   {
    "duration": 7,
    "start_time": "2023-06-14T19:50:13.115Z"
   },
   {
    "duration": 9,
    "start_time": "2023-06-14T19:50:15.845Z"
   },
   {
    "duration": 7,
    "start_time": "2023-06-14T19:50:25.691Z"
   },
   {
    "duration": 606,
    "start_time": "2023-06-14T19:51:04.756Z"
   },
   {
    "duration": 1172,
    "start_time": "2023-06-14T19:51:26.719Z"
   },
   {
    "duration": 1228,
    "start_time": "2023-06-14T19:51:54.016Z"
   },
   {
    "duration": 1426,
    "start_time": "2023-06-14T19:53:29.482Z"
   },
   {
    "duration": 1139,
    "start_time": "2023-06-14T19:53:37.459Z"
   },
   {
    "duration": 4,
    "start_time": "2023-06-14T19:53:49.823Z"
   },
   {
    "duration": 22,
    "start_time": "2023-06-14T19:54:15.367Z"
   },
   {
    "duration": 17,
    "start_time": "2023-06-14T19:54:36.636Z"
   },
   {
    "duration": 19,
    "start_time": "2023-06-14T19:54:43.599Z"
   },
   {
    "duration": 17,
    "start_time": "2023-06-14T19:55:04.688Z"
   },
   {
    "duration": 22,
    "start_time": "2023-06-14T19:55:11.638Z"
   },
   {
    "duration": 80,
    "start_time": "2023-06-14T19:55:44.394Z"
   },
   {
    "duration": 18,
    "start_time": "2023-06-14T19:55:50.427Z"
   },
   {
    "duration": 23,
    "start_time": "2023-06-14T19:56:11.399Z"
   },
   {
    "duration": 1773,
    "start_time": "2023-06-14T20:05:39.716Z"
   },
   {
    "duration": 618,
    "start_time": "2023-06-14T20:06:17.528Z"
   },
   {
    "duration": 1335,
    "start_time": "2023-06-14T20:08:02.322Z"
   },
   {
    "duration": 680,
    "start_time": "2023-06-14T20:08:03.659Z"
   },
   {
    "duration": 4,
    "start_time": "2023-06-14T20:08:04.341Z"
   },
   {
    "duration": 53,
    "start_time": "2023-06-14T20:08:04.347Z"
   },
   {
    "duration": 229,
    "start_time": "2023-06-14T20:08:04.404Z"
   },
   {
    "duration": 793,
    "start_time": "2023-06-14T20:08:04.636Z"
   },
   {
    "duration": 69,
    "start_time": "2023-06-14T20:08:05.430Z"
   },
   {
    "duration": 1515,
    "start_time": "2023-06-14T20:08:05.502Z"
   },
   {
    "duration": 312,
    "start_time": "2023-06-14T20:08:07.019Z"
   },
   {
    "duration": 151,
    "start_time": "2023-06-14T20:08:07.333Z"
   },
   {
    "duration": 51,
    "start_time": "2023-06-14T20:08:07.487Z"
   },
   {
    "duration": 126,
    "start_time": "2023-06-14T20:08:07.540Z"
   },
   {
    "duration": 35,
    "start_time": "2023-06-14T20:08:07.668Z"
   },
   {
    "duration": 20,
    "start_time": "2023-06-14T20:08:07.709Z"
   },
   {
    "duration": 11058,
    "start_time": "2023-06-14T20:08:07.731Z"
   },
   {
    "duration": 13,
    "start_time": "2023-06-14T20:08:18.791Z"
   },
   {
    "duration": 85,
    "start_time": "2023-06-14T20:08:18.807Z"
   },
   {
    "duration": 88,
    "start_time": "2023-06-14T20:08:18.894Z"
   },
   {
    "duration": 34,
    "start_time": "2023-06-14T20:08:18.984Z"
   },
   {
    "duration": 85,
    "start_time": "2023-06-14T20:08:19.021Z"
   },
   {
    "duration": 380,
    "start_time": "2023-06-14T20:08:19.108Z"
   },
   {
    "duration": 487,
    "start_time": "2023-06-14T20:08:19.490Z"
   },
   {
    "duration": 344,
    "start_time": "2023-06-14T20:08:19.979Z"
   },
   {
    "duration": 200,
    "start_time": "2023-06-14T20:08:20.376Z"
   },
   {
    "duration": 13,
    "start_time": "2023-06-14T20:08:20.578Z"
   },
   {
    "duration": 55,
    "start_time": "2023-06-14T20:08:20.593Z"
   },
   {
    "duration": 1131,
    "start_time": "2023-06-14T20:08:20.650Z"
   },
   {
    "duration": 22,
    "start_time": "2023-06-14T20:12:39.086Z"
   },
   {
    "duration": 7802,
    "start_time": "2023-06-14T20:18:42.694Z"
   },
   {
    "duration": 542,
    "start_time": "2023-06-14T20:19:15.986Z"
   },
   {
    "duration": 1037,
    "start_time": "2023-06-14T20:21:57.610Z"
   },
   {
    "duration": 963,
    "start_time": "2023-06-14T20:22:31.102Z"
   },
   {
    "duration": 141,
    "start_time": "2023-06-14T20:24:54.211Z"
   },
   {
    "duration": 147,
    "start_time": "2023-06-14T20:25:07.805Z"
   },
   {
    "duration": 141,
    "start_time": "2023-06-14T20:25:44.088Z"
   },
   {
    "duration": 7,
    "start_time": "2023-06-14T20:30:46.994Z"
   },
   {
    "duration": 73,
    "start_time": "2023-06-14T20:53:27.291Z"
   },
   {
    "duration": 27,
    "start_time": "2023-06-14T20:53:52.147Z"
   },
   {
    "duration": 22,
    "start_time": "2023-06-14T20:54:12.349Z"
   },
   {
    "duration": 30,
    "start_time": "2023-06-14T20:54:16.508Z"
   },
   {
    "duration": 21,
    "start_time": "2023-06-14T20:55:05.947Z"
   },
   {
    "duration": 31,
    "start_time": "2023-06-14T20:59:12.688Z"
   },
   {
    "duration": 32,
    "start_time": "2023-06-14T21:01:20.699Z"
   },
   {
    "duration": 34,
    "start_time": "2023-06-14T21:03:36.691Z"
   },
   {
    "duration": 35,
    "start_time": "2023-06-14T21:04:41.479Z"
   },
   {
    "duration": 1268,
    "start_time": "2023-06-14T21:06:52.779Z"
   },
   {
    "duration": 39,
    "start_time": "2023-06-14T21:08:15.299Z"
   },
   {
    "duration": 17,
    "start_time": "2023-06-14T21:08:16.115Z"
   },
   {
    "duration": 20,
    "start_time": "2023-06-14T21:10:08.116Z"
   },
   {
    "duration": 5,
    "start_time": "2023-06-14T21:10:24.775Z"
   },
   {
    "duration": 278,
    "start_time": "2023-06-14T21:10:28.891Z"
   },
   {
    "duration": 12,
    "start_time": "2023-06-14T21:11:17.787Z"
   },
   {
    "duration": 12,
    "start_time": "2023-06-14T21:15:08.752Z"
   },
   {
    "duration": 47,
    "start_time": "2023-06-14T21:22:55.787Z"
   },
   {
    "duration": 11,
    "start_time": "2023-06-14T21:22:58.531Z"
   },
   {
    "duration": 11,
    "start_time": "2023-06-14T21:24:39.774Z"
   },
   {
    "duration": 12,
    "start_time": "2023-06-14T21:24:54.775Z"
   },
   {
    "duration": 13,
    "start_time": "2023-06-14T21:25:02.882Z"
   },
   {
    "duration": 31,
    "start_time": "2023-06-14T22:08:15.135Z"
   },
   {
    "duration": 143,
    "start_time": "2023-06-14T22:08:58.017Z"
   },
   {
    "duration": 37,
    "start_time": "2023-06-14T22:08:58.163Z"
   },
   {
    "duration": 17,
    "start_time": "2023-06-14T22:09:06.529Z"
   },
   {
    "duration": 14,
    "start_time": "2023-06-14T22:09:43.093Z"
   },
   {
    "duration": 95,
    "start_time": "2023-06-14T22:13:12.590Z"
   },
   {
    "duration": 80,
    "start_time": "2023-06-14T22:23:26.423Z"
   },
   {
    "duration": 37,
    "start_time": "2023-06-14T22:24:00.975Z"
   },
   {
    "duration": 107,
    "start_time": "2023-06-14T22:25:55.739Z"
   },
   {
    "duration": 36,
    "start_time": "2023-06-14T22:25:58.497Z"
   },
   {
    "duration": 56,
    "start_time": "2023-06-14T22:50:17.332Z"
   },
   {
    "duration": 5,
    "start_time": "2023-06-14T22:53:15.498Z"
   },
   {
    "duration": 5,
    "start_time": "2023-06-14T22:56:35.291Z"
   },
   {
    "duration": 20,
    "start_time": "2023-06-14T22:57:24.915Z"
   },
   {
    "duration": 6,
    "start_time": "2023-06-14T22:57:51.286Z"
   },
   {
    "duration": 11,
    "start_time": "2023-06-14T22:57:51.851Z"
   },
   {
    "duration": 11,
    "start_time": "2023-06-14T22:58:03.512Z"
   },
   {
    "duration": 10,
    "start_time": "2023-06-14T23:00:05.508Z"
   },
   {
    "duration": 10,
    "start_time": "2023-06-14T23:00:42.317Z"
   },
   {
    "duration": 53,
    "start_time": "2023-06-14T23:03:32.989Z"
   },
   {
    "duration": 68,
    "start_time": "2023-06-14T23:04:16.532Z"
   },
   {
    "duration": 51,
    "start_time": "2023-06-14T23:04:25.243Z"
   },
   {
    "duration": 5,
    "start_time": "2023-06-14T23:04:28.615Z"
   },
   {
    "duration": 13,
    "start_time": "2023-06-14T23:04:29.187Z"
   },
   {
    "duration": 11,
    "start_time": "2023-06-14T23:04:45.576Z"
   },
   {
    "duration": 1262,
    "start_time": "2023-06-14T23:05:31.591Z"
   },
   {
    "duration": 624,
    "start_time": "2023-06-14T23:05:32.855Z"
   },
   {
    "duration": 4,
    "start_time": "2023-06-14T23:05:33.480Z"
   },
   {
    "duration": 54,
    "start_time": "2023-06-14T23:05:33.485Z"
   },
   {
    "duration": 139,
    "start_time": "2023-06-14T23:05:33.541Z"
   },
   {
    "duration": 694,
    "start_time": "2023-06-14T23:05:33.682Z"
   },
   {
    "duration": 45,
    "start_time": "2023-06-14T23:05:34.377Z"
   },
   {
    "duration": 296,
    "start_time": "2023-06-14T23:05:34.424Z"
   },
   {
    "duration": 262,
    "start_time": "2023-06-14T23:05:34.723Z"
   },
   {
    "duration": 143,
    "start_time": "2023-06-14T23:05:34.986Z"
   },
   {
    "duration": 66,
    "start_time": "2023-06-14T23:05:35.132Z"
   },
   {
    "duration": 15,
    "start_time": "2023-06-14T23:05:35.200Z"
   },
   {
    "duration": 29,
    "start_time": "2023-06-14T23:05:35.217Z"
   },
   {
    "duration": 30,
    "start_time": "2023-06-14T23:05:35.249Z"
   },
   {
    "duration": 9903,
    "start_time": "2023-06-14T23:05:35.280Z"
   },
   {
    "duration": 14,
    "start_time": "2023-06-14T23:05:45.186Z"
   },
   {
    "duration": 92,
    "start_time": "2023-06-14T23:05:45.203Z"
   },
   {
    "duration": 94,
    "start_time": "2023-06-14T23:05:45.297Z"
   },
   {
    "duration": 85,
    "start_time": "2023-06-14T23:05:45.393Z"
   },
   {
    "duration": 25,
    "start_time": "2023-06-14T23:05:45.480Z"
   },
   {
    "duration": 281,
    "start_time": "2023-06-14T23:05:45.506Z"
   },
   {
    "duration": 293,
    "start_time": "2023-06-14T23:05:45.789Z"
   },
   {
    "duration": 320,
    "start_time": "2023-06-14T23:05:46.084Z"
   },
   {
    "duration": 200,
    "start_time": "2023-06-14T23:05:46.406Z"
   },
   {
    "duration": 50,
    "start_time": "2023-06-14T23:05:46.608Z"
   },
   {
    "duration": 432,
    "start_time": "2023-06-14T23:05:46.660Z"
   },
   {
    "duration": 40,
    "start_time": "2023-06-14T23:05:47.094Z"
   },
   {
    "duration": 13,
    "start_time": "2023-06-14T23:05:47.136Z"
   },
   {
    "duration": 56,
    "start_time": "2023-06-14T23:05:47.174Z"
   },
   {
    "duration": 5,
    "start_time": "2023-06-14T23:05:47.232Z"
   },
   {
    "duration": 20,
    "start_time": "2023-06-14T23:05:47.238Z"
   },
   {
    "duration": 53,
    "start_time": "2023-06-14T23:07:01.119Z"
   },
   {
    "duration": 53,
    "start_time": "2023-06-14T23:07:23.515Z"
   },
   {
    "duration": 54,
    "start_time": "2023-06-14T23:09:33.480Z"
   },
   {
    "duration": 5,
    "start_time": "2023-06-14T23:09:39.304Z"
   },
   {
    "duration": 10,
    "start_time": "2023-06-14T23:09:39.913Z"
   },
   {
    "duration": 102,
    "start_time": "2023-06-14T23:13:52.392Z"
   },
   {
    "duration": 1349,
    "start_time": "2023-06-15T06:25:22.538Z"
   },
   {
    "duration": 826,
    "start_time": "2023-06-15T06:25:23.889Z"
   },
   {
    "duration": 3,
    "start_time": "2023-06-15T06:25:24.717Z"
   },
   {
    "duration": 70,
    "start_time": "2023-06-15T06:25:24.722Z"
   },
   {
    "duration": 84,
    "start_time": "2023-06-15T06:25:24.793Z"
   },
   {
    "duration": 538,
    "start_time": "2023-06-15T06:25:24.879Z"
   },
   {
    "duration": 43,
    "start_time": "2023-06-15T06:25:25.419Z"
   },
   {
    "duration": 290,
    "start_time": "2023-06-15T06:25:25.464Z"
   },
   {
    "duration": 226,
    "start_time": "2023-06-15T06:25:25.755Z"
   },
   {
    "duration": 123,
    "start_time": "2023-06-15T06:25:25.985Z"
   },
   {
    "duration": 12,
    "start_time": "2023-06-15T06:25:26.110Z"
   },
   {
    "duration": 23,
    "start_time": "2023-06-15T06:25:26.124Z"
   },
   {
    "duration": 54,
    "start_time": "2023-06-15T06:25:26.149Z"
   },
   {
    "duration": 105,
    "start_time": "2023-06-15T06:25:26.205Z"
   },
   {
    "duration": 188,
    "start_time": "2023-06-15T06:25:26.311Z"
   },
   {
    "duration": 187,
    "start_time": "2023-06-15T06:25:26.501Z"
   },
   {
    "duration": 50,
    "start_time": "2023-06-15T06:25:26.690Z"
   },
   {
    "duration": 9,
    "start_time": "2023-06-15T06:25:26.741Z"
   },
   {
    "duration": 26,
    "start_time": "2023-06-15T06:25:26.751Z"
   },
   {
    "duration": 9,
    "start_time": "2023-06-15T06:25:26.779Z"
   },
   {
    "duration": 9531,
    "start_time": "2023-06-15T06:25:26.789Z"
   },
   {
    "duration": 207,
    "start_time": "2023-06-15T06:25:36.321Z"
   },
   {
    "duration": 207,
    "start_time": "2023-06-15T06:25:36.530Z"
   },
   {
    "duration": 189,
    "start_time": "2023-06-15T06:25:36.739Z"
   },
   {
    "duration": 14,
    "start_time": "2023-06-15T06:25:36.929Z"
   },
   {
    "duration": 634,
    "start_time": "2023-06-15T06:25:36.944Z"
   },
   {
    "duration": 52,
    "start_time": "2023-06-15T06:25:37.580Z"
   },
   {
    "duration": 12,
    "start_time": "2023-06-15T06:25:37.636Z"
   },
   {
    "duration": 71,
    "start_time": "2023-06-15T06:25:37.650Z"
   },
   {
    "duration": 5,
    "start_time": "2023-06-15T06:25:37.723Z"
   },
   {
    "duration": 15,
    "start_time": "2023-06-15T06:25:37.729Z"
   },
   {
    "duration": 71,
    "start_time": "2023-06-15T06:27:25.445Z"
   },
   {
    "duration": 31,
    "start_time": "2023-06-15T06:27:40.742Z"
   },
   {
    "duration": 53,
    "start_time": "2023-06-15T06:29:02.401Z"
   },
   {
    "duration": 20,
    "start_time": "2023-06-15T06:34:10.975Z"
   },
   {
    "duration": 21,
    "start_time": "2023-06-15T06:39:17.243Z"
   },
   {
    "duration": 13,
    "start_time": "2023-06-15T06:39:59.894Z"
   },
   {
    "duration": 17,
    "start_time": "2023-06-15T06:40:16.192Z"
   },
   {
    "duration": 14,
    "start_time": "2023-06-15T06:40:23.401Z"
   },
   {
    "duration": 12,
    "start_time": "2023-06-15T06:45:22.171Z"
   },
   {
    "duration": 1701,
    "start_time": "2023-06-15T06:45:53.284Z"
   },
   {
    "duration": 906,
    "start_time": "2023-06-15T06:45:54.995Z"
   },
   {
    "duration": 12,
    "start_time": "2023-06-15T06:45:55.903Z"
   },
   {
    "duration": 232,
    "start_time": "2023-06-15T06:45:55.917Z"
   },
   {
    "duration": 237,
    "start_time": "2023-06-15T06:45:56.153Z"
   },
   {
    "duration": 951,
    "start_time": "2023-06-15T06:45:56.398Z"
   },
   {
    "duration": 90,
    "start_time": "2023-06-15T06:45:57.355Z"
   },
   {
    "duration": 539,
    "start_time": "2023-06-15T06:45:57.449Z"
   },
   {
    "duration": 375,
    "start_time": "2023-06-15T06:45:57.990Z"
   },
   {
    "duration": 171,
    "start_time": "2023-06-15T06:45:58.367Z"
   },
   {
    "duration": 17,
    "start_time": "2023-06-15T06:45:58.540Z"
   },
   {
    "duration": 46,
    "start_time": "2023-06-15T06:45:58.559Z"
   },
   {
    "duration": 85,
    "start_time": "2023-06-15T06:45:58.608Z"
   },
   {
    "duration": 95,
    "start_time": "2023-06-15T06:45:58.698Z"
   },
   {
    "duration": 257,
    "start_time": "2023-06-15T06:45:58.795Z"
   },
   {
    "duration": 316,
    "start_time": "2023-06-15T06:45:59.053Z"
   },
   {
    "duration": 127,
    "start_time": "2023-06-15T06:45:59.373Z"
   },
   {
    "duration": 149,
    "start_time": "2023-06-15T06:45:59.502Z"
   },
   {
    "duration": 35,
    "start_time": "2023-06-15T06:45:59.657Z"
   },
   {
    "duration": 16154,
    "start_time": "2023-06-15T06:45:59.695Z"
   },
   {
    "duration": 289,
    "start_time": "2023-06-15T06:46:15.858Z"
   },
   {
    "duration": 238,
    "start_time": "2023-06-15T06:46:16.149Z"
   },
   {
    "duration": 236,
    "start_time": "2023-06-15T06:46:16.389Z"
   },
   {
    "duration": 52,
    "start_time": "2023-06-15T06:46:16.627Z"
   },
   {
    "duration": 1003,
    "start_time": "2023-06-15T06:46:16.682Z"
   },
   {
    "duration": 58,
    "start_time": "2023-06-15T06:46:17.693Z"
   },
   {
    "duration": 60,
    "start_time": "2023-06-15T06:46:17.752Z"
   },
   {
    "duration": 162,
    "start_time": "2023-06-15T06:46:17.814Z"
   },
   {
    "duration": 5,
    "start_time": "2023-06-15T06:46:17.979Z"
   },
   {
    "duration": 10,
    "start_time": "2023-06-15T06:46:17.986Z"
   },
   {
    "duration": 9,
    "start_time": "2023-06-15T06:47:15.418Z"
   },
   {
    "duration": 12,
    "start_time": "2023-06-15T06:48:18.292Z"
   },
   {
    "duration": 25,
    "start_time": "2023-06-15T06:50:17.446Z"
   },
   {
    "duration": 19,
    "start_time": "2023-06-15T06:51:49.206Z"
   },
   {
    "duration": 34,
    "start_time": "2023-06-15T06:51:55.078Z"
   },
   {
    "duration": 79,
    "start_time": "2023-06-15T06:52:43.974Z"
   },
   {
    "duration": 28,
    "start_time": "2023-06-15T06:53:48.706Z"
   },
   {
    "duration": 499,
    "start_time": "2023-06-15T06:54:46.043Z"
   },
   {
    "duration": 500,
    "start_time": "2023-06-15T06:55:56.543Z"
   },
   {
    "duration": 509,
    "start_time": "2023-06-15T06:56:45.502Z"
   },
   {
    "duration": 547,
    "start_time": "2023-06-15T06:57:05.832Z"
   },
   {
    "duration": 986,
    "start_time": "2023-06-15T07:02:55.155Z"
   },
   {
    "duration": 17,
    "start_time": "2023-06-15T07:06:59.648Z"
   },
   {
    "duration": 10,
    "start_time": "2023-06-15T07:07:01.386Z"
   },
   {
    "duration": 8,
    "start_time": "2023-06-15T07:07:29.175Z"
   },
   {
    "duration": 11,
    "start_time": "2023-06-15T07:07:32.375Z"
   },
   {
    "duration": 1491,
    "start_time": "2023-06-15T07:12:39.027Z"
   },
   {
    "duration": 692,
    "start_time": "2023-06-15T07:12:40.520Z"
   },
   {
    "duration": 4,
    "start_time": "2023-06-15T07:12:41.214Z"
   },
   {
    "duration": 130,
    "start_time": "2023-06-15T07:12:41.219Z"
   },
   {
    "duration": 130,
    "start_time": "2023-06-15T07:12:41.362Z"
   },
   {
    "duration": 767,
    "start_time": "2023-06-15T07:12:41.494Z"
   },
   {
    "duration": 79,
    "start_time": "2023-06-15T07:12:42.268Z"
   },
   {
    "duration": 341,
    "start_time": "2023-06-15T07:12:42.358Z"
   },
   {
    "duration": 311,
    "start_time": "2023-06-15T07:12:42.701Z"
   },
   {
    "duration": 152,
    "start_time": "2023-06-15T07:12:43.015Z"
   },
   {
    "duration": 12,
    "start_time": "2023-06-15T07:12:43.169Z"
   },
   {
    "duration": 18,
    "start_time": "2023-06-15T07:12:43.186Z"
   },
   {
    "duration": 80,
    "start_time": "2023-06-15T07:12:43.206Z"
   },
   {
    "duration": 53,
    "start_time": "2023-06-15T07:12:43.288Z"
   },
   {
    "duration": 208,
    "start_time": "2023-06-15T07:12:43.346Z"
   },
   {
    "duration": 229,
    "start_time": "2023-06-15T07:12:43.555Z"
   },
   {
    "duration": 72,
    "start_time": "2023-06-15T07:12:43.785Z"
   },
   {
    "duration": 37,
    "start_time": "2023-06-15T07:12:43.868Z"
   },
   {
    "duration": 12,
    "start_time": "2023-06-15T07:12:43.907Z"
   },
   {
    "duration": 714,
    "start_time": "2023-06-15T07:12:43.930Z"
   },
   {
    "duration": 161,
    "start_time": "2023-06-15T07:12:44.646Z"
   },
   {
    "duration": 156,
    "start_time": "2023-06-15T07:12:44.809Z"
   },
   {
    "duration": 111,
    "start_time": "2023-06-15T07:12:44.966Z"
   },
   {
    "duration": 16,
    "start_time": "2023-06-15T07:12:45.085Z"
   },
   {
    "duration": 466,
    "start_time": "2023-06-15T07:12:45.103Z"
   },
   {
    "duration": 71,
    "start_time": "2023-06-15T07:12:45.570Z"
   },
   {
    "duration": 30,
    "start_time": "2023-06-15T07:12:45.643Z"
   },
   {
    "duration": 121,
    "start_time": "2023-06-15T07:12:45.676Z"
   },
   {
    "duration": 6,
    "start_time": "2023-06-15T07:12:45.799Z"
   },
   {
    "duration": 36,
    "start_time": "2023-06-15T07:12:45.807Z"
   }
  ],
  "kernelspec": {
   "display_name": "Python 3 (ipykernel)",
   "language": "python",
   "name": "python3"
  },
  "language_info": {
   "codemirror_mode": {
    "name": "ipython",
    "version": 3
   },
   "file_extension": ".py",
   "mimetype": "text/x-python",
   "name": "python",
   "nbconvert_exporter": "python",
   "pygments_lexer": "ipython3",
   "version": "3.9.13"
  },
  "toc": {
   "base_numbering": 1,
   "nav_menu": {},
   "number_sections": true,
   "sideBar": true,
   "skip_h1_title": true,
   "title_cell": "Table of Contents",
   "title_sidebar": "Contents",
   "toc_cell": false,
   "toc_position": {},
   "toc_section_display": true,
   "toc_window_display": true
  }
 },
 "nbformat": 4,
 "nbformat_minor": 2
}
